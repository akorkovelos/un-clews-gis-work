{
 "cells": [
  {
   "cell_type": "markdown",
   "metadata": {},
   "source": [
    "# Creating clustered polygons from GAEZ ascii grid\n",
    "\n",
    "**Original code:** [Alexandros Korkovelos](https://github.com/akorkovelos) <br />"
   ]
  },
  {
   "cell_type": "markdown",
   "metadata": {},
   "source": [
    "#### This notebook creates vector polygons covering a clusterized area of interest\n",
    "\n",
    "We focus on three types of clusters:\n",
    "\n",
    "- Based on admin level 1\n",
    "- Based on admin level 2\n",
    "- Based on CLEWs clusters (read more about that [here](https://clews-gis.readthedocs.io/en/latest/)\n",
    "\n",
    "The latter is the reason we use GAEZ ascii grid as an input; that is, to be able to provide a spatial index to the CLEWs derived clusters, which are defined based on the row, col of that grid. \n",
    "\n",
    "The polygons provide higher flexibility in extracting numerical and (especially) categorical raster layer stats, which might come at various spatial resolutions.  \n",
    "\n",
    "In brief, the process has as follows:\n",
    "\n",
    "- First (**Step 1**), we import a sample ascii grid file using rasterio and convert it into a tif. We use a bundle of functions to parse the tif in the form of an array, and use gdal to convert the array to a point vector. Together with the coordinates for each vector point, we extract the equivalent row/col index from the initial file. This allows to create an \"id\" which can be used as a merger attribute with data that do not have spatial index (e.g. CLEWs clusters).\n",
    "- Having that in place, we are then (**Step 2**) able to assign cluster name for each vector point based on location and/or id (for the case of CLEWs clusters).\n",
    "- In **Step 3** we convert the vector points to polygons; there are two suggested approaches here a) based on median lat and b) based on each feature lat/lon. \n",
    "- In **Step 4**, we do a simple analysis including clipping to the AoI extent and making sure that polygons at the admin borders are assigned to the nearest cluster and are properly attributes (e.g. area).\n",
    "- Finally, in **Step 5** we calibrate the area of each polygon in order to match the total national area estimated by the admin source. \n",
    "\n",
    "After merging and cleaning and final checking the notebook yields a vector polygon layer with the spatial resolution of the input ascii layer. The output layer creates the base for further spatially explicit information extraction!"
   ]
  },
  {
   "cell_type": "markdown",
   "metadata": {},
   "source": [
    "## Import necessary modules "
   ]
  },
  {
   "cell_type": "code",
   "execution_count": 49,
   "metadata": {
    "code_folding": [
     0
    ]
   },
   "outputs": [],
   "source": [
    "# Importing modules\n",
    "\n",
    "# Numerical\n",
    "import numpy as np\n",
    "import pandas as pd\n",
    "import math\n",
    "from math import *\n",
    "\n",
    "# Spatial\n",
    "import geopandas as gpd\n",
    "import rasterio\n",
    "from shapely.geometry import Polygon, Point\n",
    "from shapely.ops import nearest_points\n",
    "import ogr, gdal, osr\n",
    "from pyproj import CRS\n",
    "\n",
    "# System & Other\n",
    "import os\n",
    "\n",
    "#Plotting\n",
    "import matplotlib.pyplot as plt\n",
    "%matplotlib inline"
   ]
  },
  {
   "cell_type": "markdown",
   "metadata": {},
   "source": [
    "## Provide country code | type | projection system | clustering method"
   ]
  },
  {
   "cell_type": "code",
   "execution_count": 50,
   "metadata": {
    "code_folding": [
     0
    ]
   },
   "outputs": [],
   "source": [
    "# Country name \n",
    "country_name = \"eth\"     # suggent using UN 3 letter ISO code\n",
    "\n",
    "# Topological classification \n",
    "landlocked = 1           # 1 for landlocked countries (e.g. Ethiopia); 0 for coastal or island countries (e.g. Sri Lanka)\n",
    "\n",
    "## Coordinate and projection systems\n",
    "crs_WGS84 = CRS(\"EPSG:4326\")    # Originan WGS84 coordinate system\n",
    "crs_proj = CRS(\"EPSG:32637\")    # Projection system for the selected country -- see http://epsg.io/ for more info\n",
    "\n",
    "clust_method = 1         # choose 1 for admin level 1 clustering, 2 for admin level 2 clustering and 3 for CLEWs clustering"
   ]
  },
  {
   "cell_type": "markdown",
   "metadata": {},
   "source": [
    "## Provide paths and file names\n",
    "\n",
    "Make sure that your root directory has a folder under the same code name; in that folder you should have two sub-directories for \"input\" and \"output\"."
   ]
  },
  {
   "cell_type": "code",
   "execution_count": 51,
   "metadata": {
    "code_folding": [
     0
    ]
   },
   "outputs": [],
   "source": [
    "# Directories\n",
    "ROOT_DIR = os.path.abspath(os.curdir)\n",
    "in_path = os.path.join(ROOT_DIR, country_name + \"\\\\\"+ 'input')\n",
    "out_path = os.path.join(ROOT_DIR, country_name + \"\\\\\"+ 'output')\n",
    "\n",
    "# ascii file name\n",
    "asci_nm = '{}_data.asc'.format(country_name)\n",
    "\n",
    "# administrative boundaries of the AoI\n",
    "admin0_nm = '{}_adm0.gpkg'.format(country_name)\n",
    "admin1_nm = '{}_adm1.gpkg'.format(country_name)\n",
    "admin2_nm = '{}_adm2.gpkg'.format(country_name)\n",
    "\n",
    "# raster name\n",
    "raster_nm = \"{}_data.tif\".format(country_name)\n",
    "\n",
    "# vector point name\n",
    "shp_nm = \"{}_data.shp\".format(country_name)\n",
    "\n",
    "# CLEWs cluster name\n",
    "clust_nm = \"{}_clews_clusters.csv\".format(country_name)\n",
    "\n",
    "# Final shp product layer\n",
    "out_nm_1 = \"{}_vector_admin1_clusters\".format(country_name)\n",
    "out_nm_2 = \"{}_vector_admin2_clusters\".format(country_name)\n",
    "out_nm_3 = \"{}_vector_clews_clusters\".format(country_name)"
   ]
  },
  {
   "cell_type": "markdown",
   "metadata": {},
   "source": [
    " "
   ]
  },
  {
   "cell_type": "markdown",
   "metadata": {},
   "source": [
    " "
   ]
  },
  {
   "cell_type": "markdown",
   "metadata": {},
   "source": [
    "## Step 1. Provide spatial index to the tabular cluster data"
   ]
  },
  {
   "cell_type": "markdown",
   "metadata": {},
   "source": [
    "### Open an ascii grid file | re-write as tif\n",
    "\n",
    "This is a pre-requisite step if one starts with an ascii base grid. The step can be omitted if the base grid is already a tiff"
   ]
  },
  {
   "cell_type": "code",
   "execution_count": 52,
   "metadata": {
    "code_folding": [
     0
    ]
   },
   "outputs": [],
   "source": [
    "# Import ascii and export as tif\n",
    "\n",
    "with rasterio.open(in_path + '\\\\' + asci_nm) as src:\n",
    "    data = src.read(1)                  # The number defined the band, not that changing data might require change of band\n",
    "\n",
    "    #Export ascii as tif for easier processing\n",
    "    with rasterio.open(out_path +\"\\\\\" + raster_nm, \n",
    "                       'w', \n",
    "                       driver='GTiff', \n",
    "                       height=data.shape[0], \n",
    "                       width=data.shape[1], \n",
    "                       count=data.shape[1],\n",
    "                       dtype=data.dtype,\n",
    "                       crs=src.crs,\n",
    "                       transform=src.transform) as dst:\n",
    "        dst.write(data, 3) \n",
    "        \n",
    "resolution = src.res[0]"
   ]
  },
  {
   "cell_type": "code",
   "execution_count": 53,
   "metadata": {},
   "outputs": [
    {
     "data": {
      "image/png": "[encoded data removed]",
      "text/plain": [
       "<Figure size 864x864 with 1 Axes>"
      ]
     },
     "metadata": {
      "needs_background": "light"
     },
     "output_type": "display_data"
    }
   ],
   "source": [
    "plt.figure(figsize = (12,12))\n",
    "plt.imshow(data, cmap='viridis')\n",
    "plt.show()"
   ]
  },
  {
   "cell_type": "markdown",
   "metadata": {},
   "source": [
    "**Note!**\n",
    "\n",
    "Rasterio imports raster files as 2-d arrays. The dimensions of the array are related to the spatial resolution of the imported layer. Individual values can be access in common practice as in numpy arrays. "
   ]
  },
  {
   "cell_type": "markdown",
   "metadata": {},
   "source": [
    "### Import tif and transform it to point vector"
   ]
  },
  {
   "cell_type": "code",
   "execution_count": 54,
   "metadata": {
    "code_folding": [
     0
    ]
   },
   "outputs": [],
   "source": [
    "# Define functions\n",
    "\n",
    "def pixelOffset2coord(raster, xOffset,yOffset):\n",
    "    geotransform = raster.GetGeoTransform()\n",
    "    originX = geotransform[0]+(geotransform[1]/2)     # this is to get the center of each pixel; remove all after + for getting the corners of the pixel\n",
    "    originY = geotransform[3]+(geotransform[5]/2)     # this is to get the center of each pixel; remove all after + for getting the corners of the pixel\n",
    "    pixelWidth = geotransform[1]\n",
    "    pixelHeight = geotransform[5]\n",
    "    coordX = originX+pixelWidth*xOffset\n",
    "    coordY = originY+pixelHeight*yOffset\n",
    "    return coordX, coordY\n",
    "\n",
    "def raster2array(rasterfn, band_no):\n",
    "    raster = gdal.Open(rasterfn)\n",
    "    band = raster.GetRasterBand(band_no)    # Be aware of the band you need here\n",
    "    array = band.ReadAsArray()\n",
    "    return array\n",
    "\n",
    "def array2shp(array,outSHPfn,rasterfn):\n",
    "\n",
    "    # max distance between points\n",
    "    raster = gdal.Open(rasterfn)\n",
    "    geotransform = raster.GetGeoTransform()\n",
    "    pixelWidth = geotransform[1]\n",
    "\n",
    "    srs = osr.SpatialReference()\n",
    "    srs.ImportFromWkt(raster.GetProjection())\n",
    "    \n",
    "    # wkbPoint\n",
    "    shpDriver = ogr.GetDriverByName(\"ESRI Shapefile\")\n",
    "    if os.path.exists(outSHPfn):\n",
    "        shpDriver.DeleteDataSource(outSHPfn)\n",
    "    outDataSource = shpDriver.CreateDataSource(outSHPfn)\n",
    "    outLayer = outDataSource.CreateLayer(outSHPfn, geom_type=ogr.wkbPoint, srs=srs )\n",
    "    featureDefn = outLayer.GetLayerDefn()\n",
    "    outLayer.CreateField(ogr.FieldDefn(\"VALUE\", ogr.OFTString))\n",
    "\n",
    "    # array2dict\n",
    "    point = ogr.Geometry(ogr.wkbPoint)\n",
    "    row_count = array.shape[0]\n",
    "    for ridx, row in enumerate(array):\n",
    "        if ridx % 10 == 0:\n",
    "            print (\"{0} of {1} rows processed\".format(ridx, row_count))\n",
    "        for cidx, value in enumerate(row):\n",
    "            index = str(ridx) + \"_\" + str(cidx)\n",
    "            Xcoord, Ycoord = pixelOffset2coord(raster,cidx,ridx)\n",
    "            point.AddPoint(Xcoord, Ycoord)\n",
    "            # Create the feature and set values\n",
    "            outFeature = ogr.Feature(featureDefn)\n",
    "            outFeature.SetGeometry(point)\n",
    "            outFeature.SetField(\"VALUE\", str(index))\n",
    "            outLayer.CreateFeature(outFeature)\n",
    "            outFeature.Destroy()\n",
    "            #outDS.Destroy()\n",
    "    print (\"\\nProcess completed!\")\n",
    "\n",
    "def main(rasterfn,outSHPfn, band_no):\n",
    "    array = raster2array(rasterfn, band_no)\n",
    "    array2shp(array,outSHPfn,rasterfn)"
   ]
  },
  {
   "cell_type": "code",
   "execution_count": 55,
   "metadata": {
    "code_folding": [
     0
    ]
   },
   "outputs": [
    {
     "name": "stdout",
     "output_type": "stream",
     "text": [
      "0 of 49 rows processed\n",
      "10 of 49 rows processed\n",
      "20 of 49 rows processed\n",
      "30 of 49 rows processed\n",
      "40 of 49 rows processed\n",
      "\n",
      "Process completed!\n"
     ]
    }
   ],
   "source": [
    "# Provide the input raster and give a name to the output transformed vector\n",
    "raster = out_path + \"\\\\\" + raster_nm\n",
    "outSHP = out_path + \"\\\\\" + shp_nm\n",
    "\n",
    "# Run the function\n",
    "main(raster,outSHP, band_no=3)"
   ]
  },
  {
   "cell_type": "markdown",
   "metadata": {},
   "source": [
    "### Import vector point layer into a geo-dataframe"
   ]
  },
  {
   "cell_type": "code",
   "execution_count": 56,
   "metadata": {
    "code_folding": [
     0
    ]
   },
   "outputs": [],
   "source": [
    "# Create a new geo-dataframe\n",
    "data_gdf = gpd.read_file(out_path + \"\\\\\" + shp_nm)\n",
    "\n",
    "# Assign crs\n",
    "data_gdf.crs = crs_WGS84"
   ]
  },
  {
   "cell_type": "code",
   "execution_count": 57,
   "metadata": {},
   "outputs": [
    {
     "data": {
      "text/html": [
       "<div>\n",
       "<style scoped>\n",
       "    .dataframe tbody tr th:only-of-type {\n",
       "        vertical-align: middle;\n",
       "    }\n",
       "\n",
       "    .dataframe tbody tr th {\n",
       "        vertical-align: top;\n",
       "    }\n",
       "\n",
       "    .dataframe thead th {\n",
       "        text-align: right;\n",
       "    }\n",
       "</style>\n",
       "<table border=\"1\" class=\"dataframe\">\n",
       "  <thead>\n",
       "    <tr style=\"text-align: right;\">\n",
       "      <th></th>\n",
       "      <th>VALUE</th>\n",
       "      <th>geometry</th>\n",
       "    </tr>\n",
       "  </thead>\n",
       "  <tbody>\n",
       "    <tr>\n",
       "      <th>0</th>\n",
       "      <td>0_0</td>\n",
       "      <td>POINT (79.54167 9.87500)</td>\n",
       "    </tr>\n",
       "    <tr>\n",
       "      <th>1</th>\n",
       "      <td>0_1</td>\n",
       "      <td>POINT (79.62500 9.87500)</td>\n",
       "    </tr>\n",
       "    <tr>\n",
       "      <th>2</th>\n",
       "      <td>0_2</td>\n",
       "      <td>POINT (79.70833 9.87500)</td>\n",
       "    </tr>\n",
       "  </tbody>\n",
       "</table>\n",
       "</div>"
      ],
      "text/plain": [
       "  VALUE                  geometry\n",
       "0   0_0  POINT (79.54167 9.87500)\n",
       "1   0_1  POINT (79.62500 9.87500)\n",
       "2   0_2  POINT (79.70833 9.87500)"
      ]
     },
     "execution_count": 57,
     "metadata": {},
     "output_type": "execute_result"
    }
   ],
   "source": [
    "data_gdf.head(3)"
   ]
  },
  {
   "cell_type": "markdown",
   "metadata": {},
   "source": [
    "**Note!**\n",
    "\n",
    "VALUE has been retrieved from the ascii file; it denotes the number of row and column in the initial layer, split by the underscore delimiter. We may use the following function to a) split them into two different columns and b) create a tuple from their combination (this is needed in case we follow the CLEWs clustering approach). "
   ]
  },
  {
   "cell_type": "code",
   "execution_count": 58,
   "metadata": {
    "code_folding": [
     0
    ]
   },
   "outputs": [],
   "source": [
    "def create_rowcol_columns(df):\n",
    "    \n",
    "    # Split the Value to rows and columns\n",
    "    split = df[\"VALUE\"].str.split(\"_\", n = 1, expand = True)\n",
    "    \n",
    "    # Drop the VALUE as it has served its purpose\n",
    "    df = df.drop([\"VALUE\"], axis=1)\n",
    "    \n",
    "    # Add the separate columns back to the dataframe\n",
    "    df[\"row\"] = split[0]\n",
    "    df[\"col\"] = split[1]\n",
    "    \n",
    "    # Change dtype of columns from str to int\n",
    "    df[\"row\"] = df[\"row\"].astype(np.int)\n",
    "    df[\"col\"] = df[\"col\"].astype(np.int)\n",
    "    \n",
    "    # Create a tuple id to use for merging later on\n",
    "    df[\"id\"] = list(zip(df.row, df.col)) \n",
    "    \n",
    "    return df"
   ]
  },
  {
   "cell_type": "code",
   "execution_count": 59,
   "metadata": {},
   "outputs": [],
   "source": [
    "data_gdf = create_rowcol_columns(data_gdf)"
   ]
  },
  {
   "cell_type": "code",
   "execution_count": 60,
   "metadata": {},
   "outputs": [
    {
     "data": {
      "text/html": [
       "<div>\n",
       "<style scoped>\n",
       "    .dataframe tbody tr th:only-of-type {\n",
       "        vertical-align: middle;\n",
       "    }\n",
       "\n",
       "    .dataframe tbody tr th {\n",
       "        vertical-align: top;\n",
       "    }\n",
       "\n",
       "    .dataframe thead th {\n",
       "        text-align: right;\n",
       "    }\n",
       "</style>\n",
       "<table border=\"1\" class=\"dataframe\">\n",
       "  <thead>\n",
       "    <tr style=\"text-align: right;\">\n",
       "      <th></th>\n",
       "      <th>geometry</th>\n",
       "      <th>row</th>\n",
       "      <th>col</th>\n",
       "      <th>id</th>\n",
       "    </tr>\n",
       "  </thead>\n",
       "  <tbody>\n",
       "    <tr>\n",
       "      <th>0</th>\n",
       "      <td>POINT (79.54167 9.87500)</td>\n",
       "      <td>0</td>\n",
       "      <td>0</td>\n",
       "      <td>(0, 0)</td>\n",
       "    </tr>\n",
       "    <tr>\n",
       "      <th>1</th>\n",
       "      <td>POINT (79.62500 9.87500)</td>\n",
       "      <td>0</td>\n",
       "      <td>1</td>\n",
       "      <td>(0, 1)</td>\n",
       "    </tr>\n",
       "    <tr>\n",
       "      <th>2</th>\n",
       "      <td>POINT (79.70833 9.87500)</td>\n",
       "      <td>0</td>\n",
       "      <td>2</td>\n",
       "      <td>(0, 2)</td>\n",
       "    </tr>\n",
       "  </tbody>\n",
       "</table>\n",
       "</div>"
      ],
      "text/plain": [
       "                   geometry  row  col      id\n",
       "0  POINT (79.54167 9.87500)    0    0  (0, 0)\n",
       "1  POINT (79.62500 9.87500)    0    1  (0, 1)\n",
       "2  POINT (79.70833 9.87500)    0    2  (0, 2)"
      ]
     },
     "execution_count": 60,
     "metadata": {},
     "output_type": "execute_result"
    }
   ],
   "source": [
    "data_gdf.head(3)"
   ]
  },
  {
   "cell_type": "markdown",
   "metadata": {},
   "source": [
    " "
   ]
  },
  {
   "cell_type": "markdown",
   "metadata": {},
   "source": [
    " "
   ]
  },
  {
   "cell_type": "markdown",
   "metadata": {},
   "source": [
    "## Step 2. Assign cluster name to points"
   ]
  },
  {
   "cell_type": "code",
   "execution_count": 61,
   "metadata": {
    "code_folding": [
     0
    ]
   },
   "outputs": [],
   "source": [
    "def cleaning_string_attributes(df, column_name):\n",
    "    df[column_name].replace(\"-\", '_', regex=True, inplace=True)\n",
    "    df[column_name].replace(\" \", '_', regex=True, inplace=True)\n",
    "    df[column_name].replace(\"/\", '_', regex=True, inplace=True)\n",
    "    df[column_name].replace(\"'\", '_', regex=True, inplace=True)\n",
    "    df[column_name].replace(\"é\", 'e', regex=True, inplace=True)\n",
    "    df[column_name].replace(\"î\", 'i', regex=True, inplace=True)\n",
    "    df[column_name].replace(\"ï\", 'i', regex=True, inplace=True)\n",
    "    df[column_name].replace(\"ô\", 'o', regex=True, inplace=True)\n",
    "    df[column_name].replace(\"è\", 'e', regex=True, inplace=True)\n",
    "    df[column_name].replace(\"à\", 'a', regex=True, inplace=True)\n",
    "    df[column_name].replace(\"\", 'NaN', regex=True, inplace=True)\n",
    "    df[column_name].fillna(value=np.nan, inplace=True)\n",
    "    return df"
   ]
  },
  {
   "cell_type": "markdown",
   "metadata": {},
   "source": [
    "**Note!**\n",
    "\n",
    "The admin column names used in the code (e.g. \"ADM1_NAME, or \"NAME_0) might require changing depending on the source of those layers."
   ]
  },
  {
   "cell_type": "code",
   "execution_count": 62,
   "metadata": {
    "code_folding": [
     0
    ]
   },
   "outputs": [],
   "source": [
    "## Import admin layer accordingly\n",
    "\n",
    "if clust_method == 1:\n",
    "    \n",
    "    ##  Read admin layer as geodataframe\n",
    "    admin = gpd.read_file(in_path + \"\\\\\" + admin1_nm)\n",
    "    admin = admin.to_crs(crs_WGS84)\n",
    "    admin = cleaning_string_attributes(admin, \"ADM1_NAME\")\n",
    "    \n",
    "    #Spatial join\n",
    "    data_gdf_admin = gpd.sjoin(data_gdf, admin[[\"geometry\", \"ADM1_NAME\"]], op='within').drop(['index_right'], axis=1)\n",
    "    data_gdf_admin.rename(columns={'ADM1_NAME': 'cluster'}, inplace=True)\n",
    "    # merge datasets on id\n",
    "    clustered_GAEZ_gdf = data_gdf.merge(data_gdf_admin, on=[\"id\"], how=\"left\").drop(['id','row_y', 'col_y', \"geometry_y\"], axis=1)\n",
    "    clustered_GAEZ_gdf.rename(columns={'row_x': 'row', 'col_x': 'col', 'geometry_x': 'geometry'}, inplace=True)\n",
    "    clustered_GAEZ_gdf = gpd.GeoDataFrame(clustered_GAEZ_gdf, geometry=\"geometry\")\n",
    "    \n",
    "    \n",
    "elif clust_method == 2:\n",
    "\n",
    "    ##  Read admin layer as geodataframe\n",
    "    admin = gpd.read_file(in_path + \"\\\\\" + admin2_nm)\n",
    "    admin = admin.to_crs(crs_WGS84)\n",
    "    admin = cleaning_string_attributes(admin, \"ADM2_NAME\")\n",
    "    \n",
    "    #Spatial join\n",
    "    data_gdf_admin = gpd.sjoin(data_gdf, admin[[\"geometry\", \"ADM2_NAME\"]], op='within').drop(['index_right'], axis=1)\n",
    "    data_gdf_admin.rename(columns={'ADM2_NAME': 'cluster'}, inplace=True)\n",
    "    # merge datasets on id\n",
    "    clustered_GAEZ_gdf = data_gdf.merge(data_gdf_admin, on=[\"id\"], how=\"left\").drop(['id','row_y', 'col_y', \"geometry_y\"], axis=1)\n",
    "    clustered_GAEZ_gdf.rename(columns={'row_x': 'row', 'col_x': 'col', 'geometry_x': 'geometry'}, inplace=True)\n",
    "    clustered_GAEZ_gdf = gpd.GeoDataFrame(clustered_GAEZ_gdf, geometry=\"geometry\")\n",
    "    \n",
    "    \n",
    "elif clust_method == 3:\n",
    "    ##  Read admin layer as geodataframe\n",
    "    admin = gpd.read_file(in_path + \"\\\\\" + admin0_nm)\n",
    "    admin = admin.to_crs(crs_WGS84)\n",
    "    admin = cleaning_string_attributes(admin, \"NAME_0\")\n",
    "    \n",
    "    # Import csv as pandas dataframe\n",
    "    cluster_data = pd.read_csv(in_path + \"\\\\\" + clust_nm)\n",
    "    # Create a tuple id to be used for merging\n",
    "    cluster_data['id'] = list(zip(cluster_data.row, cluster_data.col))\n",
    "    # merge datasets on id\n",
    "    clustered_GAEZ_gdf = data_gdf.merge(cluster_data, on=[\"id\"], how=\"left\").drop(['id','row_y', 'col_y'], axis=1)\n",
    "    clustered_GAEZ_gdf.rename(columns={'row_x': 'row', 'col_x': 'col'}, inplace=True)\n",
    "    \n",
    "else:\n",
    "    print (\"Please specify clustering method to proceed\")"
   ]
  },
  {
   "cell_type": "code",
   "execution_count": 63,
   "metadata": {},
   "outputs": [
    {
     "data": {
      "text/html": [
       "<div>\n",
       "<style scoped>\n",
       "    .dataframe tbody tr th:only-of-type {\n",
       "        vertical-align: middle;\n",
       "    }\n",
       "\n",
       "    .dataframe tbody tr th {\n",
       "        vertical-align: top;\n",
       "    }\n",
       "\n",
       "    .dataframe thead th {\n",
       "        text-align: right;\n",
       "    }\n",
       "</style>\n",
       "<table border=\"1\" class=\"dataframe\">\n",
       "  <thead>\n",
       "    <tr style=\"text-align: right;\">\n",
       "      <th></th>\n",
       "      <th>geometry</th>\n",
       "      <th>row</th>\n",
       "      <th>col</th>\n",
       "      <th>cluster</th>\n",
       "    </tr>\n",
       "  </thead>\n",
       "  <tbody>\n",
       "    <tr>\n",
       "      <th>144</th>\n",
       "      <td>POINT (81.54167 9.54167)</td>\n",
       "      <td>4</td>\n",
       "      <td>24</td>\n",
       "      <td>NaN</td>\n",
       "    </tr>\n",
       "    <tr>\n",
       "      <th>854</th>\n",
       "      <td>POINT (80.70833 7.54167)</td>\n",
       "      <td>28</td>\n",
       "      <td>14</td>\n",
       "      <td>Central</td>\n",
       "    </tr>\n",
       "    <tr>\n",
       "      <th>194</th>\n",
       "      <td>POINT (80.70833 9.37500)</td>\n",
       "      <td>6</td>\n",
       "      <td>14</td>\n",
       "      <td>Northern</td>\n",
       "    </tr>\n",
       "  </tbody>\n",
       "</table>\n",
       "</div>"
      ],
      "text/plain": [
       "                     geometry  row  col   cluster\n",
       "144  POINT (81.54167 9.54167)    4   24       NaN\n",
       "854  POINT (80.70833 7.54167)   28   14   Central\n",
       "194  POINT (80.70833 9.37500)    6   14  Northern"
      ]
     },
     "execution_count": 63,
     "metadata": {},
     "output_type": "execute_result"
    }
   ],
   "source": [
    "clustered_GAEZ_gdf.sample(3)"
   ]
  },
  {
   "cell_type": "markdown",
   "metadata": {},
   "source": [
    "At this point each vector point represents a particular location on the map -it has certain coordinates- and is categorized into a cluster based on the users selection."
   ]
  },
  {
   "cell_type": "markdown",
   "metadata": {},
   "source": [
    " "
   ]
  },
  {
   "cell_type": "markdown",
   "metadata": {},
   "source": [
    " "
   ]
  },
  {
   "cell_type": "markdown",
   "metadata": {},
   "source": [
    "## Step 3. Converting points to polygons\n",
    "This allows further flexibility in the extraction of raster values using stats. In any case we have the lat,lon coordinates of each point so it is easy to revert to the point geometry. Here, we create a rectangular, buffer-based polygon around each point. \n",
    "\n",
    "The buffered polygon shall split \"equally\" the area between neighbor points; therefore, the buffer used shall be the half of the distance between two neighbor points. This, in turn depends on the location of the AoI on earth and the projection system used. \n",
    "\n",
    "We suggest two approaches described below."
   ]
  },
  {
   "cell_type": "markdown",
   "metadata": {},
   "source": [
    "### Assigning CRS | projecting | adding lat, lon coordinates in degrees"
   ]
  },
  {
   "cell_type": "code",
   "execution_count": 64,
   "metadata": {},
   "outputs": [],
   "source": [
    "clustered_GAEZ_gdf.crs = crs_WGS84"
   ]
  },
  {
   "cell_type": "code",
   "execution_count": 65,
   "metadata": {},
   "outputs": [
    {
     "name": "stderr",
     "output_type": "stream",
     "text": [
      "<ipython-input-65-c1a650f5b317>:1: UserWarning: Geometry is in a geographic CRS. Results from 'centroid' are likely incorrect. Use 'GeoSeries.to_crs()' to re-project geometries to a projected CRS before this operation.\n",
      "\n",
      "  clustered_GAEZ_gdf[\"lon\"] = clustered_GAEZ_gdf.geometry.centroid.x\n",
      "<ipython-input-65-c1a650f5b317>:2: UserWarning: Geometry is in a geographic CRS. Results from 'centroid' are likely incorrect. Use 'GeoSeries.to_crs()' to re-project geometries to a projected CRS before this operation.\n",
      "\n",
      "  clustered_GAEZ_gdf[\"lat\"] = clustered_GAEZ_gdf.geometry.centroid.y\n"
     ]
    }
   ],
   "source": [
    "clustered_GAEZ_gdf[\"lon\"] = clustered_GAEZ_gdf.geometry.centroid.x\n",
    "clustered_GAEZ_gdf[\"lat\"] = clustered_GAEZ_gdf.geometry.centroid.y"
   ]
  },
  {
   "cell_type": "code",
   "execution_count": 66,
   "metadata": {},
   "outputs": [
    {
     "data": {
      "text/html": [
       "<div>\n",
       "<style scoped>\n",
       "    .dataframe tbody tr th:only-of-type {\n",
       "        vertical-align: middle;\n",
       "    }\n",
       "\n",
       "    .dataframe tbody tr th {\n",
       "        vertical-align: top;\n",
       "    }\n",
       "\n",
       "    .dataframe thead th {\n",
       "        text-align: right;\n",
       "    }\n",
       "</style>\n",
       "<table border=\"1\" class=\"dataframe\">\n",
       "  <thead>\n",
       "    <tr style=\"text-align: right;\">\n",
       "      <th></th>\n",
       "      <th>geometry</th>\n",
       "      <th>row</th>\n",
       "      <th>col</th>\n",
       "      <th>cluster</th>\n",
       "      <th>lon</th>\n",
       "      <th>lat</th>\n",
       "    </tr>\n",
       "  </thead>\n",
       "  <tbody>\n",
       "    <tr>\n",
       "      <th>0</th>\n",
       "      <td>POINT (79.54167 9.87500)</td>\n",
       "      <td>0</td>\n",
       "      <td>0</td>\n",
       "      <td>NaN</td>\n",
       "      <td>79.541667</td>\n",
       "      <td>9.875</td>\n",
       "    </tr>\n",
       "    <tr>\n",
       "      <th>1</th>\n",
       "      <td>POINT (79.62500 9.87500)</td>\n",
       "      <td>0</td>\n",
       "      <td>1</td>\n",
       "      <td>NaN</td>\n",
       "      <td>79.625000</td>\n",
       "      <td>9.875</td>\n",
       "    </tr>\n",
       "  </tbody>\n",
       "</table>\n",
       "</div>"
      ],
      "text/plain": [
       "                   geometry  row  col cluster        lon    lat\n",
       "0  POINT (79.54167 9.87500)    0    0     NaN  79.541667  9.875\n",
       "1  POINT (79.62500 9.87500)    0    1     NaN  79.625000  9.875"
      ]
     },
     "execution_count": 66,
     "metadata": {},
     "output_type": "execute_result"
    }
   ],
   "source": [
    "clustered_GAEZ_gdf.head(2)"
   ]
  },
  {
   "cell_type": "markdown",
   "metadata": {},
   "source": [
    "### Estimating buffer radious"
   ]
  },
  {
   "cell_type": "markdown",
   "metadata": {},
   "source": [
    "**Approach 1** (suggested)\n",
    "\n",
    "Here, we estimate the buffer by calculating the haversine distance between two neighbor points; we use the median value of lat. "
   ]
  },
  {
   "cell_type": "code",
   "execution_count": 67,
   "metadata": {
    "code_folding": [
     0
    ]
   },
   "outputs": [],
   "source": [
    "def haversine(lon1, lat1, lon2, lat2):\n",
    "    \"\"\"\n",
    "    Calculate the great circle distance between two points\n",
    "    on the earth (specified in decimal degrees)\n",
    "    \"\"\"\n",
    "    # convert decimal degrees to radians\n",
    "    lon1, lat1, lon2, lat2 = map(radians, [lon1, lat1, lon2, lat2])\n",
    "    \n",
    "    # haversine formula\n",
    "    dlon = lon2 - lon1\n",
    "    dlat = lat2 - lat1\n",
    "    a = sin(dlat / 2) ** 2 + cos(lat1) * cos(lat2) * sin(dlon / 2) ** 2\n",
    "    c = 2 * asin(sqrt(a))\n",
    "    r = 6371  # Radius of earth in kilometers. Use 3956 for miles\n",
    "    return c * r"
   ]
  },
  {
   "cell_type": "code",
   "execution_count": 68,
   "metadata": {
    "code_folding": [
     0
    ]
   },
   "outputs": [],
   "source": [
    "# We select a randon set of neighbors; the gdf should be sorted thus here using the median index\n",
    "index_1 = clustered_GAEZ_gdf[clustered_GAEZ_gdf.lat == clustered_GAEZ_gdf.lat.median()].index.tolist()[1]\n",
    "index_2 = int(index_1 + 1)\n",
    "\n",
    "# Note! We multiply by 1000 for meters and devide by 2 as we want half of the distance between the two points\n",
    "clustered_GAEZ_gdf['buf_val_1'] = round(haversine(clustered_GAEZ_gdf[\"lon\"][index_1],\n",
    "                                                  clustered_GAEZ_gdf[\"lat\"][index_1],\n",
    "                                                  clustered_GAEZ_gdf[\"lon\"][index_2],\n",
    "                                                  clustered_GAEZ_gdf[\"lat\"][index_2])*1000/2)"
   ]
  },
  {
   "cell_type": "markdown",
   "metadata": {},
   "source": [
    "**Approach 2**\n",
    "\n",
    "Here we use an empirical formula to estimate the \"latmeters\". That is, we estimate the equivalent value of a degree magnitude in meters based on the latitude of a location. Therefore, each point in the dataframe is assigned a slightly different buffer."
   ]
  },
  {
   "cell_type": "code",
   "execution_count": 69,
   "metadata": {
    "code_folding": [
     0
    ]
   },
   "outputs": [],
   "source": [
    "def find_buffer_from_lat(lat, res=resolution):\n",
    "    \"\"\"\n",
    "    Calculate meters per latitude value \n",
    "    INPUT \n",
    "    lat: latitude in degrees\n",
    "    res: resolution of original raster layer\n",
    "    OUTPUT\n",
    "    latlen: Estimated value of buffer for polygon creation in meters\n",
    "    \"\"\" \n",
    "    latlen = (111132.954 - 559.822 * cos(2*lat) + 1.175 * cos(4*lat))*res/2\n",
    "    return latlen\n",
    "# Emperical formula retrieved from https://gis.stackexchange.com/questions/75528/understanding-terms-in-length-of-degree-formula"
   ]
  },
  {
   "cell_type": "code",
   "execution_count": 70,
   "metadata": {},
   "outputs": [],
   "source": [
    "## Un-comment to run\n",
    "#clustered_GAEZ_gdf['buf_val_2'] =clustered_GAEZ_gdf['lat'].apply(find_buffer_from_lat)"
   ]
  },
  {
   "cell_type": "markdown",
   "metadata": {},
   "source": [
    "### Create polygons based on identified buffer"
   ]
  },
  {
   "cell_type": "markdown",
   "metadata": {},
   "source": [
    "#### Project dataframe to the proper coordinate system\n",
    "\n",
    "In order to select your own coordinate system go to [epsg.io](http://epsg.io/) and type in your area of interest, this will give you a list of coordinate systems to choose from. Once you have selected your coordinate system replace the numbers below with the numbers from your coordinate system **(keep the \"EPSG\" part)**.\n",
    "\n",
    "**NOTE** When selecting your coordinate system make sure that you select a system with the unit of meters, this is indicated for all systems on [epsg.io](http://epsg.io/)"
   ]
  },
  {
   "cell_type": "code",
   "execution_count": 71,
   "metadata": {},
   "outputs": [],
   "source": [
    "clustered_GAEZ_gdf_prj = clustered_GAEZ_gdf.to_crs(crs_proj)"
   ]
  },
  {
   "cell_type": "markdown",
   "metadata": {},
   "source": [
    "#### ... and create the polygons \n",
    "\n",
    "Note! You can replace *'buf_val_1'* to *'buf_val_2'* if you find the second approach fit for purpose."
   ]
  },
  {
   "cell_type": "code",
   "execution_count": 72,
   "metadata": {},
   "outputs": [],
   "source": [
    "## cap_style refers to the type of geometry generated; 3=rectangular (see shapely documectation for more info -- https://shapely.readthedocs.io/en/stable/manual.html)\n",
    "clustered_GAEZ_gdf_prj['geometry'] = clustered_GAEZ_gdf_prj.apply(lambda x:\n",
    "                                                                  x.geometry.buffer(x.buf_val_1, cap_style=3), axis=1)"
   ]
  },
  {
   "cell_type": "markdown",
   "metadata": {},
   "source": [
    "**... and revert the dataframe to the original CRS**"
   ]
  },
  {
   "cell_type": "code",
   "execution_count": 73,
   "metadata": {},
   "outputs": [],
   "source": [
    "clustered_GAEZ_gdf = clustered_GAEZ_gdf_prj.to_crs(crs_WGS84)"
   ]
  },
  {
   "cell_type": "markdown",
   "metadata": {},
   "source": [
    "**Note!** Several features are not classified into a cluster. While points away of the administrative borders will be cut out of the analysis, some points right next to the outer administrative borders might create inconsistency when calculating area. In the following section we are dealing with this problem."
   ]
  },
  {
   "cell_type": "markdown",
   "metadata": {},
   "source": [
    " "
   ]
  },
  {
   "cell_type": "markdown",
   "metadata": {},
   "source": [
    " "
   ]
  },
  {
   "cell_type": "markdown",
   "metadata": {},
   "source": [
    "## Step 4. Fixing missing values"
   ]
  },
  {
   "cell_type": "markdown",
   "metadata": {},
   "source": [
    "### Adding an index column\n",
    "(for easier identification/selection later on)"
   ]
  },
  {
   "cell_type": "code",
   "execution_count": 74,
   "metadata": {},
   "outputs": [],
   "source": [
    "clustered_GAEZ_gdf['index'] = range(1, len(data_gdf)+1)"
   ]
  },
  {
   "cell_type": "markdown",
   "metadata": {},
   "source": [
    "### Reduce running types | reassure expected output"
   ]
  },
  {
   "cell_type": "markdown",
   "metadata": {},
   "source": [
    "**Note** \n",
    "\n",
    "The following part may lead to varying running times. In favor of reducing running times, we may clip of the vector polygons to the country extent using **national administrative boundaries** \n",
    "\n",
    "Clipping will not create any problems to landlocked countries (e.g. Ethiopia) as their borders are mostly covered by land. Therefore recommended in such cases.\n",
    "\n",
    "However, for coastal or island countries (e.g. Sri Lanka) the algorithm may miss border clusters with very little land cover (e.g. few disperse, small islands). In order to prevent this from happening, we run the nearest neighbor algorithm over the whole extent of the gridded country and clip to the country extent at the end.\n",
    "\n",
    "You may run either of the versions as you see necessary; here we use the *\"landlocked\"* variable to make a simple distinction between the two. "
   ]
  },
  {
   "cell_type": "code",
   "execution_count": 75,
   "metadata": {
    "code_folding": []
   },
   "outputs": [],
   "source": [
    "# Clip based on topology of the selected country\n",
    "if landlocked == 1:\n",
    "    clustered_GAEZ_gdf = gpd.clip(clustered_GAEZ_gdf, admin)\n",
    "else:\n",
    "    clustered_GAEZ_gdf = clustered_GAEZ_gdf"
   ]
  },
  {
   "cell_type": "markdown",
   "metadata": {},
   "source": [
    "### Split vector points based on cluster assignment "
   ]
  },
  {
   "cell_type": "code",
   "execution_count": 76,
   "metadata": {},
   "outputs": [],
   "source": [
    "# Change type of cluster column to string for next step's selection\n",
    "clustered_GAEZ_gdf.cluster = clustered_GAEZ_gdf.cluster.astype(str)"
   ]
  },
  {
   "cell_type": "markdown",
   "metadata": {},
   "source": [
    "Points within admin boundaries that are assigned to a cluster"
   ]
  },
  {
   "cell_type": "code",
   "execution_count": 77,
   "metadata": {},
   "outputs": [
    {
     "name": "stderr",
     "output_type": "stream",
     "text": [
      "<ipython-input-77-ddada813bf57>:2: UserWarning: Geometry is in a geographic CRS. Results from 'centroid' are likely incorrect. Use 'GeoSeries.to_crs()' to re-project geometries to a projected CRS before this operation.\n",
      "\n",
      "  clustered_GAEZ_gdf_non_nan.geometry = clustered_GAEZ_gdf_non_nan.geometry.centroid\n",
      "C:\\Users\\alexl\\anaconda3\\envs\\clews_gis_work\\lib\\site-packages\\geopandas\\geodataframe.py:853: SettingWithCopyWarning: \n",
      "A value is trying to be set on a copy of a slice from a DataFrame.\n",
      "Try using .loc[row_indexer,col_indexer] = value instead\n",
      "\n",
      "See the caveats in the documentation: https://pandas.pydata.org/pandas-docs/stable/user_guide/indexing.html#returning-a-view-versus-a-copy\n",
      "  super(GeoDataFrame, self).__setitem__(key, value)\n"
     ]
    },
    {
     "data": {
      "text/html": [
       "<div>\n",
       "<style scoped>\n",
       "    .dataframe tbody tr th:only-of-type {\n",
       "        vertical-align: middle;\n",
       "    }\n",
       "\n",
       "    .dataframe tbody tr th {\n",
       "        vertical-align: top;\n",
       "    }\n",
       "\n",
       "    .dataframe thead th {\n",
       "        text-align: right;\n",
       "    }\n",
       "</style>\n",
       "<table border=\"1\" class=\"dataframe\">\n",
       "  <thead>\n",
       "    <tr style=\"text-align: right;\">\n",
       "      <th></th>\n",
       "      <th>geometry</th>\n",
       "      <th>row</th>\n",
       "      <th>col</th>\n",
       "      <th>cluster</th>\n",
       "      <th>lon</th>\n",
       "      <th>lat</th>\n",
       "      <th>buf_val_1</th>\n",
       "      <th>index</th>\n",
       "    </tr>\n",
       "  </thead>\n",
       "  <tbody>\n",
       "    <tr>\n",
       "      <th>35</th>\n",
       "      <td>POINT (79.95833 9.79167)</td>\n",
       "      <td>1</td>\n",
       "      <td>5</td>\n",
       "      <td>Northern</td>\n",
       "      <td>79.958333</td>\n",
       "      <td>9.791667</td>\n",
       "      <td>4589</td>\n",
       "      <td>36</td>\n",
       "    </tr>\n",
       "    <tr>\n",
       "      <th>36</th>\n",
       "      <td>POINT (80.04167 9.79167)</td>\n",
       "      <td>1</td>\n",
       "      <td>6</td>\n",
       "      <td>Northern</td>\n",
       "      <td>80.041667</td>\n",
       "      <td>9.791667</td>\n",
       "      <td>4589</td>\n",
       "      <td>37</td>\n",
       "    </tr>\n",
       "    <tr>\n",
       "      <th>37</th>\n",
       "      <td>POINT (80.12500 9.79167)</td>\n",
       "      <td>1</td>\n",
       "      <td>7</td>\n",
       "      <td>Northern</td>\n",
       "      <td>80.125000</td>\n",
       "      <td>9.791667</td>\n",
       "      <td>4589</td>\n",
       "      <td>38</td>\n",
       "    </tr>\n",
       "  </tbody>\n",
       "</table>\n",
       "</div>"
      ],
      "text/plain": [
       "                    geometry  row  col   cluster        lon       lat  \\\n",
       "35  POINT (79.95833 9.79167)    1    5  Northern  79.958333  9.791667   \n",
       "36  POINT (80.04167 9.79167)    1    6  Northern  80.041667  9.791667   \n",
       "37  POINT (80.12500 9.79167)    1    7  Northern  80.125000  9.791667   \n",
       "\n",
       "    buf_val_1  index  \n",
       "35       4589     36  \n",
       "36       4589     37  \n",
       "37       4589     38  "
      ]
     },
     "execution_count": 77,
     "metadata": {},
     "output_type": "execute_result"
    }
   ],
   "source": [
    "clustered_GAEZ_gdf_non_nan = clustered_GAEZ_gdf[clustered_GAEZ_gdf[\"cluster\"] != \"nan\"]\n",
    "clustered_GAEZ_gdf_non_nan.geometry = clustered_GAEZ_gdf_non_nan.geometry.centroid\n",
    "clustered_GAEZ_gdf_non_nan.head(3)"
   ]
  },
  {
   "cell_type": "markdown",
   "metadata": {},
   "source": [
    "Points within admin boundaries but not assigned to a cluster"
   ]
  },
  {
   "cell_type": "code",
   "execution_count": 78,
   "metadata": {},
   "outputs": [
    {
     "name": "stderr",
     "output_type": "stream",
     "text": [
      "<ipython-input-78-465c0ec06b28>:2: UserWarning: Geometry is in a geographic CRS. Results from 'centroid' are likely incorrect. Use 'GeoSeries.to_crs()' to re-project geometries to a projected CRS before this operation.\n",
      "\n",
      "  clustered_GAEZ_gdf_nan.geometry = clustered_GAEZ_gdf_nan.geometry.centroid\n",
      "C:\\Users\\alexl\\anaconda3\\envs\\clews_gis_work\\lib\\site-packages\\geopandas\\geodataframe.py:853: SettingWithCopyWarning: \n",
      "A value is trying to be set on a copy of a slice from a DataFrame.\n",
      "Try using .loc[row_indexer,col_indexer] = value instead\n",
      "\n",
      "See the caveats in the documentation: https://pandas.pydata.org/pandas-docs/stable/user_guide/indexing.html#returning-a-view-versus-a-copy\n",
      "  super(GeoDataFrame, self).__setitem__(key, value)\n"
     ]
    },
    {
     "data": {
      "text/html": [
       "<div>\n",
       "<style scoped>\n",
       "    .dataframe tbody tr th:only-of-type {\n",
       "        vertical-align: middle;\n",
       "    }\n",
       "\n",
       "    .dataframe tbody tr th {\n",
       "        vertical-align: top;\n",
       "    }\n",
       "\n",
       "    .dataframe thead th {\n",
       "        text-align: right;\n",
       "    }\n",
       "</style>\n",
       "<table border=\"1\" class=\"dataframe\">\n",
       "  <thead>\n",
       "    <tr style=\"text-align: right;\">\n",
       "      <th></th>\n",
       "      <th>geometry</th>\n",
       "      <th>row</th>\n",
       "      <th>col</th>\n",
       "      <th>cluster</th>\n",
       "      <th>lon</th>\n",
       "      <th>lat</th>\n",
       "      <th>buf_val_1</th>\n",
       "      <th>index</th>\n",
       "    </tr>\n",
       "  </thead>\n",
       "  <tbody>\n",
       "    <tr>\n",
       "      <th>0</th>\n",
       "      <td>POINT (79.54167 9.87500)</td>\n",
       "      <td>0</td>\n",
       "      <td>0</td>\n",
       "      <td>nan</td>\n",
       "      <td>79.541667</td>\n",
       "      <td>9.875</td>\n",
       "      <td>4589</td>\n",
       "      <td>1</td>\n",
       "    </tr>\n",
       "    <tr>\n",
       "      <th>1</th>\n",
       "      <td>POINT (79.62500 9.87500)</td>\n",
       "      <td>0</td>\n",
       "      <td>1</td>\n",
       "      <td>nan</td>\n",
       "      <td>79.625000</td>\n",
       "      <td>9.875</td>\n",
       "      <td>4589</td>\n",
       "      <td>2</td>\n",
       "    </tr>\n",
       "    <tr>\n",
       "      <th>2</th>\n",
       "      <td>POINT (79.70833 9.87500)</td>\n",
       "      <td>0</td>\n",
       "      <td>2</td>\n",
       "      <td>nan</td>\n",
       "      <td>79.708333</td>\n",
       "      <td>9.875</td>\n",
       "      <td>4589</td>\n",
       "      <td>3</td>\n",
       "    </tr>\n",
       "  </tbody>\n",
       "</table>\n",
       "</div>"
      ],
      "text/plain": [
       "                   geometry  row  col cluster        lon    lat  buf_val_1  \\\n",
       "0  POINT (79.54167 9.87500)    0    0     nan  79.541667  9.875       4589   \n",
       "1  POINT (79.62500 9.87500)    0    1     nan  79.625000  9.875       4589   \n",
       "2  POINT (79.70833 9.87500)    0    2     nan  79.708333  9.875       4589   \n",
       "\n",
       "   index  \n",
       "0      1  \n",
       "1      2  \n",
       "2      3  "
      ]
     },
     "execution_count": 78,
     "metadata": {},
     "output_type": "execute_result"
    }
   ],
   "source": [
    "clustered_GAEZ_gdf_nan = clustered_GAEZ_gdf[clustered_GAEZ_gdf[\"cluster\"] == \"nan\"]\n",
    "clustered_GAEZ_gdf_nan.geometry = clustered_GAEZ_gdf_nan.geometry.centroid\n",
    "clustered_GAEZ_gdf_nan.head(3)"
   ]
  },
  {
   "cell_type": "markdown",
   "metadata": {},
   "source": [
    "### Get nearest neighbor for points not assigned"
   ]
  },
  {
   "cell_type": "code",
   "execution_count": 79,
   "metadata": {
    "code_folding": []
   },
   "outputs": [],
   "source": [
    "# Simple function getting the nearest hub for a given set of points\n",
    "def calculate_nearest(row, destination, val, col=\"geometry\"):\n",
    "    dest_unary = destination[\"geometry\"].unary_union\n",
    "    nearest_geom = nearest_points(row[col], dest_unary)\n",
    "    match_geom = destination.loc[destination.geometry == nearest_geom[1]]\n",
    "    match_value = match_geom[val].to_numpy()[0]\n",
    "    return match_value"
   ]
  },
  {
   "cell_type": "code",
   "execution_count": 80,
   "metadata": {
    "scrolled": true
   },
   "outputs": [
    {
     "name": "stderr",
     "output_type": "stream",
     "text": [
      "C:\\Users\\alexl\\anaconda3\\envs\\clews_gis_work\\lib\\site-packages\\geopandas\\geodataframe.py:853: SettingWithCopyWarning: \n",
      "A value is trying to be set on a copy of a slice from a DataFrame.\n",
      "Try using .loc[row_indexer,col_indexer] = value instead\n",
      "\n",
      "See the caveats in the documentation: https://pandas.pydata.org/pandas-docs/stable/user_guide/indexing.html#returning-a-view-versus-a-copy\n",
      "  super(GeoDataFrame, self).__setitem__(key, value)\n"
     ]
    }
   ],
   "source": [
    "# Apply fuction to the non cluster points dataframe\n",
    "clustered_GAEZ_gdf_nan[\"index_nn\"] = clustered_GAEZ_gdf_nan.apply(calculate_nearest,\n",
    "                                                                               destination=clustered_GAEZ_gdf_non_nan,\n",
    "                                                                               val=\"index\",\n",
    "                                                                               axis=1)"
   ]
  },
  {
   "cell_type": "markdown",
   "metadata": {},
   "source": [
    "The dataframe has now been attributed with the index of the nearest neighbor "
   ]
  },
  {
   "cell_type": "code",
   "execution_count": 81,
   "metadata": {
    "scrolled": true
   },
   "outputs": [
    {
     "data": {
      "text/html": [
       "<div>\n",
       "<style scoped>\n",
       "    .dataframe tbody tr th:only-of-type {\n",
       "        vertical-align: middle;\n",
       "    }\n",
       "\n",
       "    .dataframe tbody tr th {\n",
       "        vertical-align: top;\n",
       "    }\n",
       "\n",
       "    .dataframe thead th {\n",
       "        text-align: right;\n",
       "    }\n",
       "</style>\n",
       "<table border=\"1\" class=\"dataframe\">\n",
       "  <thead>\n",
       "    <tr style=\"text-align: right;\">\n",
       "      <th></th>\n",
       "      <th>geometry</th>\n",
       "      <th>row</th>\n",
       "      <th>col</th>\n",
       "      <th>cluster</th>\n",
       "      <th>lon</th>\n",
       "      <th>lat</th>\n",
       "      <th>buf_val_1</th>\n",
       "      <th>index</th>\n",
       "      <th>index_nn</th>\n",
       "    </tr>\n",
       "  </thead>\n",
       "  <tbody>\n",
       "    <tr>\n",
       "      <th>0</th>\n",
       "      <td>POINT (79.54167 9.87500)</td>\n",
       "      <td>0</td>\n",
       "      <td>0</td>\n",
       "      <td>nan</td>\n",
       "      <td>79.541667</td>\n",
       "      <td>9.875</td>\n",
       "      <td>4589</td>\n",
       "      <td>1</td>\n",
       "      <td>65</td>\n",
       "    </tr>\n",
       "    <tr>\n",
       "      <th>1</th>\n",
       "      <td>POINT (79.62500 9.87500)</td>\n",
       "      <td>0</td>\n",
       "      <td>1</td>\n",
       "      <td>nan</td>\n",
       "      <td>79.625000</td>\n",
       "      <td>9.875</td>\n",
       "      <td>4589</td>\n",
       "      <td>2</td>\n",
       "      <td>65</td>\n",
       "    </tr>\n",
       "    <tr>\n",
       "      <th>2</th>\n",
       "      <td>POINT (79.70833 9.87500)</td>\n",
       "      <td>0</td>\n",
       "      <td>2</td>\n",
       "      <td>nan</td>\n",
       "      <td>79.708333</td>\n",
       "      <td>9.875</td>\n",
       "      <td>4589</td>\n",
       "      <td>3</td>\n",
       "      <td>65</td>\n",
       "    </tr>\n",
       "  </tbody>\n",
       "</table>\n",
       "</div>"
      ],
      "text/plain": [
       "                   geometry  row  col cluster        lon    lat  buf_val_1  \\\n",
       "0  POINT (79.54167 9.87500)    0    0     nan  79.541667  9.875       4589   \n",
       "1  POINT (79.62500 9.87500)    0    1     nan  79.625000  9.875       4589   \n",
       "2  POINT (79.70833 9.87500)    0    2     nan  79.708333  9.875       4589   \n",
       "\n",
       "   index  index_nn  \n",
       "0      1        65  \n",
       "1      2        65  \n",
       "2      3        65  "
      ]
     },
     "execution_count": 81,
     "metadata": {},
     "output_type": "execute_result"
    }
   ],
   "source": [
    "clustered_GAEZ_gdf_nan.head(3)"
   ]
  },
  {
   "cell_type": "markdown",
   "metadata": {},
   "source": [
    "### Merge the two split dataframe \n",
    "\n",
    "This action works similar to the VLOOKUP fuction in excel. For each index_nn in the first dataframe looks at the index of the second dataframe and assigns attributes to the primer as per need. In this case, we assign the cluster name of the nearest neighbor."
   ]
  },
  {
   "cell_type": "code",
   "execution_count": 82,
   "metadata": {},
   "outputs": [],
   "source": [
    "clustered_GAEZ_gdf_nan_n = clustered_GAEZ_gdf_nan.merge(clustered_GAEZ_gdf_non_nan[['index','cluster']],\n",
    "                                                                      how = \"left\",\n",
    "                                                                      left_on = \"index_nn\",\n",
    "                                                                      right_on='index').drop([\"index_nn\", \"cluster_x\",\"index_x\"], axis=1)"
   ]
  },
  {
   "cell_type": "code",
   "execution_count": 83,
   "metadata": {},
   "outputs": [],
   "source": [
    "clustered_GAEZ_gdf_nan_n.rename(columns={'index_y': 'index', 'cluster_y': 'cluster'}, inplace=True)"
   ]
  },
  {
   "cell_type": "markdown",
   "metadata": {},
   "source": [
    "### Concatenate the two split dataframes into a single one\n",
    "(updating the original clipped dataframe)"
   ]
  },
  {
   "cell_type": "code",
   "execution_count": 84,
   "metadata": {},
   "outputs": [],
   "source": [
    "clustered_GAEZ_gdf_new = clustered_GAEZ_gdf_non_nan.append(clustered_GAEZ_gdf_nan_n)"
   ]
  },
  {
   "cell_type": "code",
   "execution_count": 85,
   "metadata": {},
   "outputs": [
    {
     "data": {
      "text/html": [
       "<div>\n",
       "<style scoped>\n",
       "    .dataframe tbody tr th:only-of-type {\n",
       "        vertical-align: middle;\n",
       "    }\n",
       "\n",
       "    .dataframe tbody tr th {\n",
       "        vertical-align: top;\n",
       "    }\n",
       "\n",
       "    .dataframe thead th {\n",
       "        text-align: right;\n",
       "    }\n",
       "</style>\n",
       "<table border=\"1\" class=\"dataframe\">\n",
       "  <thead>\n",
       "    <tr style=\"text-align: right;\">\n",
       "      <th></th>\n",
       "      <th>geometry</th>\n",
       "      <th>row</th>\n",
       "      <th>col</th>\n",
       "      <th>cluster</th>\n",
       "      <th>lon</th>\n",
       "      <th>lat</th>\n",
       "      <th>buf_val_1</th>\n",
       "      <th>index</th>\n",
       "    </tr>\n",
       "  </thead>\n",
       "  <tbody>\n",
       "    <tr>\n",
       "      <th>35</th>\n",
       "      <td>POINT (79.95833 9.79167)</td>\n",
       "      <td>1</td>\n",
       "      <td>5</td>\n",
       "      <td>Northern</td>\n",
       "      <td>79.958333</td>\n",
       "      <td>9.791667</td>\n",
       "      <td>4589</td>\n",
       "      <td>36</td>\n",
       "    </tr>\n",
       "    <tr>\n",
       "      <th>36</th>\n",
       "      <td>POINT (80.04167 9.79167)</td>\n",
       "      <td>1</td>\n",
       "      <td>6</td>\n",
       "      <td>Northern</td>\n",
       "      <td>80.041667</td>\n",
       "      <td>9.791667</td>\n",
       "      <td>4589</td>\n",
       "      <td>37</td>\n",
       "    </tr>\n",
       "  </tbody>\n",
       "</table>\n",
       "</div>"
      ],
      "text/plain": [
       "                    geometry  row  col   cluster        lon       lat  \\\n",
       "35  POINT (79.95833 9.79167)    1    5  Northern  79.958333  9.791667   \n",
       "36  POINT (80.04167 9.79167)    1    6  Northern  80.041667  9.791667   \n",
       "\n",
       "    buf_val_1  index  \n",
       "35       4589     36  \n",
       "36       4589     37  "
      ]
     },
     "execution_count": 85,
     "metadata": {},
     "output_type": "execute_result"
    }
   ],
   "source": [
    "clustered_GAEZ_gdf_new.head(2)"
   ]
  },
  {
   "cell_type": "markdown",
   "metadata": {},
   "source": [
    "### And finally, merge back to the clipped polygon layer using spatial join\n",
    "(this is to re-gain the polygon geometry)"
   ]
  },
  {
   "cell_type": "code",
   "execution_count": 86,
   "metadata": {},
   "outputs": [],
   "source": [
    "#Spatial join\n",
    "final_clustered_GAEZ_gdf = gpd.sjoin(clustered_GAEZ_gdf_new, clustered_GAEZ_gdf[[\"geometry\"]], op='within', how='right')"
   ]
  },
  {
   "cell_type": "markdown",
   "metadata": {},
   "source": [
    "### Clip results in case of coastal or island countries"
   ]
  },
  {
   "cell_type": "code",
   "execution_count": 87,
   "metadata": {},
   "outputs": [],
   "source": [
    "if landlocked == 1:\n",
    "    final_clustered_GAEZ_gdf = final_clustered_GAEZ_gdf\n",
    "else:\n",
    "    final_clustered_GAEZ_gdf = gpd.clip(final_clustered_GAEZ_gdf, admin)"
   ]
  },
  {
   "cell_type": "markdown",
   "metadata": {},
   "source": [
    " "
   ]
  },
  {
   "cell_type": "markdown",
   "metadata": {},
   "source": [
    " "
   ]
  },
  {
   "cell_type": "markdown",
   "metadata": {},
   "source": [
    "## Step 5. Total area re-estimation & calibration\n",
    "\n",
    "This step estimates and calibrates the area (in square km) based on the area provided by the admin layer used in the analysis (e.g. clipping). "
   ]
  },
  {
   "cell_type": "code",
   "execution_count": 88,
   "metadata": {},
   "outputs": [],
   "source": [
    "# project datasets to proper crs\n",
    "final_clustered_GAEZ_gdf_prj = final_clustered_GAEZ_gdf.to_crs(crs_proj)\n",
    "admin_proj = admin.to_crs(crs_proj)"
   ]
  },
  {
   "cell_type": "code",
   "execution_count": 89,
   "metadata": {},
   "outputs": [],
   "source": [
    "final_clustered_GAEZ_gdf_prj[\"sqkm\"] = final_clustered_GAEZ_gdf_prj['geometry'].area/10**6"
   ]
  },
  {
   "cell_type": "code",
   "execution_count": 90,
   "metadata": {
    "code_folding": [
     0
    ]
   },
   "outputs": [],
   "source": [
    "def get_multiplier(estimated, official):\n",
    "    if official == estimated:\n",
    "        return 1\n",
    "    try:\n",
    "        return  official / estimated\n",
    "    except ZeroDivisionError:\n",
    "        return 0"
   ]
  },
  {
   "cell_type": "code",
   "execution_count": 91,
   "metadata": {},
   "outputs": [],
   "source": [
    "estimated_area = final_clustered_GAEZ_gdf_prj.sqkm.sum()\n",
    "official_area = admin_proj.geometry.area.sum()/10**6\n",
    "\n",
    "# Estimate column multipler\n",
    "multiplier = get_multiplier(estimated_area, official_area)"
   ]
  },
  {
   "cell_type": "code",
   "execution_count": 92,
   "metadata": {},
   "outputs": [],
   "source": [
    "final_clustered_GAEZ_gdf_prj.sqkm = final_clustered_GAEZ_gdf_prj.sqkm * multiplier"
   ]
  },
  {
   "cell_type": "code",
   "execution_count": 93,
   "metadata": {},
   "outputs": [
    {
     "name": "stdout",
     "output_type": "stream",
     "text": [
      "Our modelling exercise yields a total area of 65783.7 sqkm for the country\n",
      "The admin layer indicates 66126.9 sqkm\n",
      "After calibration the total area is set at 66126.9 sqkm\n"
     ]
    }
   ],
   "source": [
    "print (\"Our modelling exercise yields a total area of {0:.1f} sqkm for the country\".format(estimated_area))\n",
    "print (\"The admin layer indicates {0:.1f} sqkm\".format(official_area))\n",
    "print (\"After calibration the total area is set at {0:.1f} sqkm\".format(final_clustered_GAEZ_gdf_prj.sqkm.sum()))"
   ]
  },
  {
   "cell_type": "markdown",
   "metadata": {},
   "source": [
    " "
   ]
  },
  {
   "cell_type": "markdown",
   "metadata": {},
   "source": [
    "## Final check and Export"
   ]
  },
  {
   "cell_type": "markdown",
   "metadata": {},
   "source": [
    "#### Revert to original CRS"
   ]
  },
  {
   "cell_type": "code",
   "execution_count": 94,
   "metadata": {},
   "outputs": [],
   "source": [
    "final_clustered_GAEZ_gdf = final_clustered_GAEZ_gdf_prj.to_crs(crs_WGS84)"
   ]
  },
  {
   "cell_type": "markdown",
   "metadata": {},
   "source": [
    "#### Make a final check before exporting"
   ]
  },
  {
   "cell_type": "code",
   "execution_count": 95,
   "metadata": {},
   "outputs": [
    {
     "data": {
      "text/html": [
       "<div>\n",
       "<style scoped>\n",
       "    .dataframe tbody tr th:only-of-type {\n",
       "        vertical-align: middle;\n",
       "    }\n",
       "\n",
       "    .dataframe tbody tr th {\n",
       "        vertical-align: top;\n",
       "    }\n",
       "\n",
       "    .dataframe thead th {\n",
       "        text-align: right;\n",
       "    }\n",
       "</style>\n",
       "<table border=\"1\" class=\"dataframe\">\n",
       "  <thead>\n",
       "    <tr style=\"text-align: right;\">\n",
       "      <th></th>\n",
       "      <th>index_left</th>\n",
       "      <th>row</th>\n",
       "      <th>col</th>\n",
       "      <th>cluster</th>\n",
       "      <th>lon</th>\n",
       "      <th>lat</th>\n",
       "      <th>buf_val_1</th>\n",
       "      <th>index</th>\n",
       "      <th>geometry</th>\n",
       "      <th>sqkm</th>\n",
       "    </tr>\n",
       "  </thead>\n",
       "  <tbody>\n",
       "    <tr>\n",
       "      <th>8</th>\n",
       "      <td>8</td>\n",
       "      <td>0</td>\n",
       "      <td>8</td>\n",
       "      <td>Northern</td>\n",
       "      <td>80.208333</td>\n",
       "      <td>9.875000</td>\n",
       "      <td>4589</td>\n",
       "      <td>39</td>\n",
       "      <td>POLYGON ((80.21857 9.83352, 80.20567 9.83349, ...</td>\n",
       "      <td>0.161502</td>\n",
       "    </tr>\n",
       "    <tr>\n",
       "      <th>34</th>\n",
       "      <td>34</td>\n",
       "      <td>1</td>\n",
       "      <td>4</td>\n",
       "      <td>Northern</td>\n",
       "      <td>79.875000</td>\n",
       "      <td>9.791667</td>\n",
       "      <td>4589</td>\n",
       "      <td>36</td>\n",
       "      <td>MULTIPOLYGON (((79.91689 9.77569, 79.91697 9.7...</td>\n",
       "      <td>8.078459</td>\n",
       "    </tr>\n",
       "  </tbody>\n",
       "</table>\n",
       "</div>"
      ],
      "text/plain": [
       "    index_left  row  col   cluster        lon       lat  buf_val_1  index  \\\n",
       "8            8    0    8  Northern  80.208333  9.875000       4589     39   \n",
       "34          34    1    4  Northern  79.875000  9.791667       4589     36   \n",
       "\n",
       "                                             geometry      sqkm  \n",
       "8   POLYGON ((80.21857 9.83352, 80.20567 9.83349, ...  0.161502  \n",
       "34  MULTIPOLYGON (((79.91689 9.77569, 79.91697 9.7...  8.078459  "
      ]
     },
     "execution_count": 95,
     "metadata": {},
     "output_type": "execute_result"
    }
   ],
   "source": [
    "final_clustered_GAEZ_gdf.head(2)"
   ]
  },
  {
   "cell_type": "markdown",
   "metadata": {},
   "source": [
    "#### Finally export the output layer"
   ]
  },
  {
   "cell_type": "code",
   "execution_count": 96,
   "metadata": {
    "code_folding": []
   },
   "outputs": [
    {
     "name": "stdout",
     "output_type": "stream",
     "text": [
      "Process complete! 😎\n"
     ]
    }
   ],
   "source": [
    "# Export as shapefile \n",
    "if clust_method == 1:\n",
    "    final_clustered_GAEZ_gdf.to_file(os.path.join(out_path,\"{c}.gpkg\".format(c=out_nm_1)), driver=\"GPKG\")\n",
    "elif clust_method == 2:\n",
    "    final_clustered_GAEZ_gdf.to_file(os.path.join(out_path,\"{c}.gpkg\".format(c=out_nm_2)), driver=\"GPKG\")\n",
    "else:\n",
    "    final_clustered_GAEZ_gdf.to_file(os.path.join(out_path,\"{c}.gpkg\".format(c=out_nm_3)), driver=\"GPKG\")\n",
    "    \n",
    "print (\"Process complete!\", \"\\U0001F60E\")"
   ]
  }
 ],
 "metadata": {
  "kernelspec": {
   "display_name": "Python 3",
   "language": "python",
   "name": "python3"
  },
  "language_info": {
   "codemirror_mode": {
    "name": "ipython",
    "version": 3
   },
   "file_extension": ".py",
   "mimetype": "text/x-python",
   "name": "python",
   "nbconvert_exporter": "python",
   "pygments_lexer": "ipython3",
   "version": "3.8.5"
  }
 },
 "nbformat": 4,
 "nbformat_minor": 4
}
