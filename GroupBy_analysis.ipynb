{
 "cells": [
  {
   "cell_type": "markdown",
   "metadata": {},
   "source": [
    "# Analysis of results using GroupBy function per cluster"
   ]
  },
  {
   "cell_type": "code",
   "execution_count": 1,
   "metadata": {},
   "outputs": [],
   "source": [
    "# Numerical\n",
    "import numpy as np\n",
    "import pandas as pd\n",
    "\n",
    "# System & Other\n",
    "import os\n",
    "\n",
    "# Spatial\n",
    "import geopandas as gpd\n",
    "\n",
    "#Plotting\n",
    "import plotly.graph_objects as go\n",
    "import plotly.express as px\n",
    "from IPython.display import display, Markdown, HTML\n",
    "import matplotlib.pyplot as plt\n",
    "%matplotlib inline"
   ]
  },
  {
   "cell_type": "code",
   "execution_count": 2,
   "metadata": {},
   "outputs": [],
   "source": [
    "# Directories\n",
    "ROOT_DIR = os.path.abspath(os.curdir)\n",
    "in_path = os.path.join(ROOT_DIR, 'sample_input')\n",
    "out_path = os.path.join(ROOT_DIR, 'sample_output')\n",
    "\n",
    "shp_nm = \"Ethiopia_vector_clusters_with_attributes.shp\""
   ]
  },
  {
   "cell_type": "code",
   "execution_count": 3,
   "metadata": {},
   "outputs": [],
   "source": [
    "# Create a new geo-dataframe\n",
    "data_gdf = gpd.read_file(out_path + \"\\\\\" + shp_nm)"
   ]
  },
  {
   "cell_type": "code",
   "execution_count": 4,
   "metadata": {
    "code_folding": [
     0
    ]
   },
   "outputs": [],
   "source": [
    "def calc_LC_sqkm(df, col_list):\n",
    "    \"\"\" \n",
    "    This function takes the df where the LC type for different classes is provided per location (row).\n",
    "    It adds all pixels per location; then is calculates the ratio of LC class in each location (% of total).\n",
    "    Finally is estimates the area per LC type in each location by multiplying with the total area each row represents.\n",
    "    \n",
    "    INPUT: \n",
    "    df -> Pandas dataframe with LC type classification \n",
    "    col_list -> list of columns to include in the summary (e.g. LC0-LC16)\n",
    "    \n",
    "    OUTPUT: Updated dataframe with estimated area (sqkm) of LC types per row\n",
    "    \"\"\"\n",
    "    df[\"LC_sum\"] = df[col_list].sum(axis=1)\n",
    "    for col in col_list:\n",
    "        df[col] = df[col]/df[\"LC_sum\"]*df[\"sqkm\"]\n",
    "    \n",
    "    return df"
   ]
  },
  {
   "cell_type": "code",
   "execution_count": 5,
   "metadata": {
    "code_folding": [
     0
    ]
   },
   "outputs": [],
   "source": [
    "lc_cols = ['LC0', 'LC1', 'LC2', 'LC3', 'LC4', 'LC5', 'LC6', 'LC7', 'LC8', \n",
    "           'LC9', 'LC10','LC11','LC12', 'LC13', 'LC14', 'LC16' ]"
   ]
  },
  {
   "cell_type": "code",
   "execution_count": 6,
   "metadata": {},
   "outputs": [],
   "source": [
    "data_gdf_LCsqkm = calc_LC_sqkm(data_gdf, lc_cols)"
   ]
  },
  {
   "cell_type": "code",
   "execution_count": null,
   "metadata": {},
   "outputs": [],
   "source": []
  },
  {
   "cell_type": "markdown",
   "metadata": {},
   "source": [
    "## Global summaries"
   ]
  },
  {
   "cell_type": "code",
   "execution_count": 7,
   "metadata": {
    "code_folding": [
     0
    ]
   },
   "outputs": [],
   "source": [
    "sum_cols = ['sqkm', 'WTD','LC0', 'LC1', 'LC2', 'LC3', 'LC4', 'LC5', 'LC6', 'LC7','LC8', 'LC9', 'LC10', 'LC11', 'LC12', \n",
    "            'LC13', 'LC14', 'LC15', 'LC16']\n",
    "\n",
    "sum_rows = ['sum', 'mean', 'min', 'max']"
   ]
  },
  {
   "cell_type": "code",
   "execution_count": 8,
   "metadata": {},
   "outputs": [],
   "source": [
    "summary_table = pd.DataFrame(index=sum_rows, columns=sum_cols)"
   ]
  },
  {
   "cell_type": "code",
   "execution_count": 9,
   "metadata": {
    "code_folding": [
     0
    ]
   },
   "outputs": [],
   "source": [
    "# sqkm\n",
    "summary_table.sqkm[0] = round(data_gdf_LCsqkm.sqkm.sum(),2)\n",
    "summary_table.sqkm[1] = round(data_gdf_LCsqkm.sqkm.mean(),2)\n",
    "summary_table.sqkm[2] = round(data_gdf_LCsqkm.sqkm.min(),2)\n",
    "summary_table.sqkm[3] = round(data_gdf_LCsqkm.sqkm.max(),2)\n",
    "\n",
    "# Water Table Depth\n",
    "summary_table.WTD[0] = \"NaN\"\n",
    "summary_table.WTD[1] = round(data_gdf_LCsqkm.wtdmean.mean(),2)\n",
    "summary_table.WTD[2] = round(data_gdf_LCsqkm.wtdmean.min(),2)\n",
    "summary_table.WTD[3] = round(data_gdf_LCsqkm.wtdmean.max(),2)\n",
    "\n",
    "# LC0 - Water\n",
    "summary_table.LC0[0] = round(data_gdf_LCsqkm.LC0.sum(),2)\n",
    "summary_table.LC0[1] = round(data_gdf_LCsqkm.LC0.mean(),2)\n",
    "summary_table.LC0[2] = round(data_gdf_LCsqkm.LC0.min(),2)\n",
    "summary_table.LC0[3] = round(data_gdf_LCsqkm.LC0.max(),2)\n",
    "\n",
    "# LC1 - Evergreen Needleleaf Forest\n",
    "summary_table.LC1[0] = round(data_gdf_LCsqkm.LC1.sum(),2)\n",
    "summary_table.LC1[1] = round(data_gdf_LCsqkm.LC1.mean(),2)\n",
    "summary_table.LC1[2] = round(data_gdf_LCsqkm.LC1.min(),2)\n",
    "summary_table.LC1[3] = round(data_gdf_LCsqkm.LC1.max(),2)\n",
    "\n",
    "# LC2 - Evergreen Broadleaf Forest\n",
    "summary_table.LC2[0] = round(data_gdf_LCsqkm.LC2.sum(),2)\n",
    "summary_table.LC2[1] = round(data_gdf_LCsqkm.LC2.mean(),2)\n",
    "summary_table.LC2[2] = round(data_gdf_LCsqkm.LC2.min(),2)\n",
    "summary_table.LC2[3] = round(data_gdf_LCsqkm.LC2.max(),2)\n",
    "\n",
    "# LC3 - Deciduous Needleleaf Forest\n",
    "summary_table.LC3[0] = round(data_gdf_LCsqkm.LC3.sum(),2)\n",
    "summary_table.LC3[1] = round(data_gdf_LCsqkm.LC3.mean(),2)\n",
    "summary_table.LC3[2] = round(data_gdf_LCsqkm.LC3.min(),2)\n",
    "summary_table.LC3[3] = round(data_gdf_LCsqkm.LC3.max(),2)\n",
    "\n",
    "# LC4 - Deciduous Broadleaf Forest\n",
    "summary_table.LC4[0] = round(data_gdf_LCsqkm.LC4.sum(),2)\n",
    "summary_table.LC4[1] = round(data_gdf_LCsqkm.LC4.mean(),2)\n",
    "summary_table.LC4[2] = round(data_gdf_LCsqkm.LC4.min(),2)\n",
    "summary_table.LC4[3] = round(data_gdf_LCsqkm.LC4.max(),2)\n",
    "\n",
    "# LC5 - Mixed Forests\n",
    "summary_table.LC5[0] = round(data_gdf_LCsqkm.LC5.sum(),2)\n",
    "summary_table.LC5[1] = round(data_gdf_LCsqkm.LC5.mean(),2)\n",
    "summary_table.LC5[2] = round(data_gdf_LCsqkm.LC5.min(),2)\n",
    "summary_table.LC5[3] = round(data_gdf_LCsqkm.LC5.max(),2)\n",
    "\n",
    "# LC6 - Mixed Forests\n",
    "summary_table.LC6[0] = round(data_gdf_LCsqkm.LC6.sum(),2)\n",
    "summary_table.LC6[1] = round(data_gdf_LCsqkm.LC6.mean(),2)\n",
    "summary_table.LC6[2] = round(data_gdf_LCsqkm.LC6.min(),2)\n",
    "summary_table.LC6[3] = round(data_gdf_LCsqkm.LC6.max(),2)\n",
    "\n",
    "# LC7 - Open Shrublands\n",
    "summary_table.LC7[0] = round(data_gdf_LCsqkm.LC7.sum(),2)\n",
    "summary_table.LC7[1] = round(data_gdf_LCsqkm.LC7.mean(),2)\n",
    "summary_table.LC7[2] = round(data_gdf_LCsqkm.LC7.min(),2)\n",
    "summary_table.LC7[3] = round(data_gdf_LCsqkm.LC7.max(),2)\n",
    "\n",
    "# LC8 - Woody Savannas\n",
    "summary_table.LC8[0] = round(data_gdf_LCsqkm.LC8.sum(),2)\n",
    "summary_table.LC8[1] = round(data_gdf_LCsqkm.LC8.mean(),2)\n",
    "summary_table.LC8[2] = round(data_gdf_LCsqkm.LC8.min(),2)\n",
    "summary_table.LC8[3] = round(data_gdf_LCsqkm.LC8.max(),2)\n",
    "\n",
    "# LC9 - Savannas\n",
    "summary_table.LC9[0] = round(data_gdf_LCsqkm.LC9.sum(),2)\n",
    "summary_table.LC9[1] = round(data_gdf_LCsqkm.LC9.mean(),2)\n",
    "summary_table.LC9[2] = round(data_gdf_LCsqkm.LC9.min(),2)\n",
    "summary_table.LC9[3] = round(data_gdf_LCsqkm.LC9.max(),2)\n",
    "\n",
    "# LC10 - Grasslands\n",
    "summary_table.LC10[0] = round(data_gdf_LCsqkm.LC10.sum(),2)\n",
    "summary_table.LC10[1] = round(data_gdf_LCsqkm.LC10.mean(),2)\n",
    "summary_table.LC10[2] = round(data_gdf_LCsqkm.LC10.min(),2)\n",
    "summary_table.LC10[3] = round(data_gdf_LCsqkm.LC10.max(),2)\n",
    "\n",
    "# LC11 - Permanent Wetlands\n",
    "summary_table.LC11[0] = round(data_gdf_LCsqkm.LC11.sum(),2)\n",
    "summary_table.LC11[1] = round(data_gdf_LCsqkm.LC11.mean(),2)\n",
    "summary_table.LC11[2] = round(data_gdf_LCsqkm.LC11.min(),2)\n",
    "summary_table.LC11[3] = round(data_gdf_LCsqkm.LC11.max(),2)\n",
    "\n",
    "# LC12 - Croplands\n",
    "summary_table.LC12[0] = round(data_gdf_LCsqkm.LC12.sum(),2)\n",
    "summary_table.LC12[1] = round(data_gdf_LCsqkm.LC12.mean(),2)\n",
    "summary_table.LC12[2] = round(data_gdf_LCsqkm.LC12.min(),2)\n",
    "summary_table.LC12[3] = round(data_gdf_LCsqkm.LC12.max(),2)\n",
    "\n",
    "# LC13 - Urban and Built-Up\n",
    "summary_table.LC13[0] = round(data_gdf_LCsqkm.LC13.sum(),2)\n",
    "summary_table.LC13[1] = round(data_gdf_LCsqkm.LC13.mean(),2)\n",
    "summary_table.LC13[2] = round(data_gdf_LCsqkm.LC13.min(),2)\n",
    "summary_table.LC13[3] = round(data_gdf_LCsqkm.LC13.max(),2)\n",
    "\n",
    "# LC14 - Cropland/Natural Vegetation Mosaic\n",
    "summary_table.LC14[0] = round(data_gdf_LCsqkm.LC14.sum(),2)\n",
    "summary_table.LC14[1] = round(data_gdf_LCsqkm.LC14.mean(),2)\n",
    "summary_table.LC14[2] = round(data_gdf_LCsqkm.LC14.min(),2)\n",
    "summary_table.LC14[3] = round(data_gdf_LCsqkm.LC14.max(),2)\n",
    "\n",
    "# LC15 - Snow and Ice\n",
    "summary_table.LC15[0] = \"NaN\"\n",
    "summary_table.LC15[1] = \"NaN\"\n",
    "summary_table.LC15[2] = \"NaN\"\n",
    "summary_table.LC15[3] = \"NaN\"\n",
    "\n",
    "# LC16 - Snow and Ice\n",
    "summary_table.LC16[0] = round(data_gdf_LCsqkm.LC16.sum(),2)\n",
    "summary_table.LC16[1] = round(data_gdf_LCsqkm.LC16.mean(),2)\n",
    "summary_table.LC16[2] = round(data_gdf_LCsqkm.LC16.min(),2)\n",
    "summary_table.LC16[3] = round(data_gdf_LCsqkm.LC16.max(),2)"
   ]
  },
  {
   "cell_type": "code",
   "execution_count": 10,
   "metadata": {},
   "outputs": [
    {
     "data": {
      "text/markdown": [
       "### Country Summary \n",
       " These are the summarized results for Ethiopia"
      ],
      "text/plain": [
       "<IPython.core.display.Markdown object>"
      ]
     },
     "metadata": {},
     "output_type": "display_data"
    },
    {
     "data": {
      "text/html": [
       "<div>\n",
       "<style scoped>\n",
       "    .dataframe tbody tr th:only-of-type {\n",
       "        vertical-align: middle;\n",
       "    }\n",
       "\n",
       "    .dataframe tbody tr th {\n",
       "        vertical-align: top;\n",
       "    }\n",
       "\n",
       "    .dataframe thead th {\n",
       "        text-align: right;\n",
       "    }\n",
       "</style>\n",
       "<table border=\"1\" class=\"dataframe\">\n",
       "  <thead>\n",
       "    <tr style=\"text-align: right;\">\n",
       "      <th></th>\n",
       "      <th>sqkm</th>\n",
       "      <th>WTD</th>\n",
       "      <th>LC0</th>\n",
       "      <th>LC1</th>\n",
       "      <th>LC2</th>\n",
       "      <th>LC3</th>\n",
       "      <th>LC4</th>\n",
       "      <th>LC5</th>\n",
       "      <th>LC6</th>\n",
       "      <th>LC7</th>\n",
       "      <th>LC8</th>\n",
       "      <th>LC9</th>\n",
       "      <th>LC10</th>\n",
       "      <th>LC11</th>\n",
       "      <th>LC12</th>\n",
       "      <th>LC13</th>\n",
       "      <th>LC14</th>\n",
       "      <th>LC15</th>\n",
       "      <th>LC16</th>\n",
       "    </tr>\n",
       "  </thead>\n",
       "  <tbody>\n",
       "    <tr>\n",
       "      <th>sum</th>\n",
       "      <td>1.10271e+06</td>\n",
       "      <td>NaN</td>\n",
       "      <td>6226.09</td>\n",
       "      <td>0.2</td>\n",
       "      <td>27274.5</td>\n",
       "      <td>7.42</td>\n",
       "      <td>1289.1</td>\n",
       "      <td>1016.55</td>\n",
       "      <td>30871.3</td>\n",
       "      <td>307832</td>\n",
       "      <td>99267.3</td>\n",
       "      <td>163427</td>\n",
       "      <td>163084</td>\n",
       "      <td>913.66</td>\n",
       "      <td>122489</td>\n",
       "      <td>711.14</td>\n",
       "      <td>111814</td>\n",
       "      <td>NaN</td>\n",
       "      <td>66492</td>\n",
       "    </tr>\n",
       "    <tr>\n",
       "      <th>mean</th>\n",
       "      <td>80.17</td>\n",
       "      <td>42.59</td>\n",
       "      <td>32.09</td>\n",
       "      <td>0.2</td>\n",
       "      <td>23.93</td>\n",
       "      <td>0.32</td>\n",
       "      <td>1.71</td>\n",
       "      <td>1.02</td>\n",
       "      <td>16.27</td>\n",
       "      <td>44.52</td>\n",
       "      <td>19.57</td>\n",
       "      <td>24.76</td>\n",
       "      <td>22.02</td>\n",
       "      <td>1.67</td>\n",
       "      <td>18.22</td>\n",
       "      <td>2.39</td>\n",
       "      <td>15.35</td>\n",
       "      <td>NaN</td>\n",
       "      <td>30.46</td>\n",
       "    </tr>\n",
       "    <tr>\n",
       "      <th>min</th>\n",
       "      <td>80.17</td>\n",
       "      <td>0</td>\n",
       "      <td>0.2</td>\n",
       "      <td>0.2</td>\n",
       "      <td>0.2</td>\n",
       "      <td>0.2</td>\n",
       "      <td>0.2</td>\n",
       "      <td>0.2</td>\n",
       "      <td>0.19</td>\n",
       "      <td>0.2</td>\n",
       "      <td>0.2</td>\n",
       "      <td>0.2</td>\n",
       "      <td>0.2</td>\n",
       "      <td>0.2</td>\n",
       "      <td>0.2</td>\n",
       "      <td>0.2</td>\n",
       "      <td>0.19</td>\n",
       "      <td>NaN</td>\n",
       "      <td>0.2</td>\n",
       "    </tr>\n",
       "    <tr>\n",
       "      <th>max</th>\n",
       "      <td>80.17</td>\n",
       "      <td>140.65</td>\n",
       "      <td>80.17</td>\n",
       "      <td>0.2</td>\n",
       "      <td>80.17</td>\n",
       "      <td>1.4</td>\n",
       "      <td>35.48</td>\n",
       "      <td>21.85</td>\n",
       "      <td>80.17</td>\n",
       "      <td>80.17</td>\n",
       "      <td>80.17</td>\n",
       "      <td>80.17</td>\n",
       "      <td>80.17</td>\n",
       "      <td>38.68</td>\n",
       "      <td>80.17</td>\n",
       "      <td>72.36</td>\n",
       "      <td>80.17</td>\n",
       "      <td>NaN</td>\n",
       "      <td>80.17</td>\n",
       "    </tr>\n",
       "  </tbody>\n",
       "</table>\n",
       "</div>"
      ],
      "text/plain": [
       "             sqkm     WTD      LC0  LC1      LC2   LC3     LC4      LC5  \\\n",
       "sum   1.10271e+06     NaN  6226.09  0.2  27274.5  7.42  1289.1  1016.55   \n",
       "mean        80.17   42.59    32.09  0.2    23.93  0.32    1.71     1.02   \n",
       "min         80.17       0      0.2  0.2      0.2   0.2     0.2      0.2   \n",
       "max         80.17  140.65    80.17  0.2    80.17   1.4   35.48    21.85   \n",
       "\n",
       "          LC6     LC7      LC8     LC9    LC10    LC11    LC12    LC13  \\\n",
       "sum   30871.3  307832  99267.3  163427  163084  913.66  122489  711.14   \n",
       "mean    16.27   44.52    19.57   24.76   22.02    1.67   18.22    2.39   \n",
       "min      0.19     0.2      0.2     0.2     0.2     0.2     0.2     0.2   \n",
       "max     80.17   80.17    80.17   80.17   80.17   38.68   80.17   72.36   \n",
       "\n",
       "        LC14 LC15   LC16  \n",
       "sum   111814  NaN  66492  \n",
       "mean   15.35  NaN  30.46  \n",
       "min     0.19  NaN    0.2  \n",
       "max    80.17  NaN  80.17  "
      ]
     },
     "metadata": {},
     "output_type": "display_data"
    },
    {
     "data": {
      "text/markdown": [
       "### Class Description \n",
       " ##### Percentage \n",
       " LC0 - Water \n",
       "\n",
       " LC1 - Evergreen Needleleaf Forest \n",
       "\n",
       " LC2 - Evergreen Broadleaf Forest \n",
       "\n",
       "  LC3 - Deciduous Needleleaf Forest \n",
       "\n",
       " LC4 - Deciduous Broadleaf Forest \n",
       "\n",
       " LC5 - Mixed Forests \n",
       "\n",
       " LC6 - Closed Shrublands \n",
       "\n",
       " LC7 - Open Shrublands \n",
       "\n",
       " LC8 - Woody Savannas \n",
       "\n",
       " LC9 - Savannas \n",
       "\n",
       " LC10 - Grasslands \n",
       "\n",
       " LC11 - Permanent Wetlands \n",
       "\n",
       " LC12 - Croplands \n",
       "\n",
       " LC13 - Urban and Built-Up \n",
       "\n",
       " LC14 - Cropland/Natural Vegetation Mosaic \n",
       "\n",
       " LC15 - Snow and Ice \n",
       "\n",
       " LC16 - Barren or Sparsely Vegetated"
      ],
      "text/plain": [
       "<IPython.core.display.Markdown object>"
      ]
     },
     "metadata": {},
     "output_type": "display_data"
    }
   ],
   "source": [
    "display(Markdown('### Country Summary \\n These are the summarized results for Ethiopia'))\n",
    "display(summary_table)\n",
    "display(Markdown('### Class Description \\n ##### Percentage \\n LC0 - Water \\n\\n LC1 - Evergreen Needleleaf Forest \\n\\n LC2 - Evergreen Broadleaf Forest \\n\\n  LC3 - Deciduous Needleleaf Forest \\n\\n LC4 - Deciduous Broadleaf Forest \\n\\n LC5 - Mixed Forests \\n\\n LC6 - Closed Shrublands \\n\\n LC7 - Open Shrublands \\n\\n LC8 - Woody Savannas \\n\\n LC9 - Savannas \\n\\n LC10 - Grasslands \\n\\n LC11 - Permanent Wetlands \\n\\n LC12 - Croplands \\n\\n LC13 - Urban and Built-Up \\n\\n LC14 - Cropland/Natural Vegetation Mosaic \\n\\n LC15 - Snow and Ice \\n\\n LC16 - Barren or Sparsely Vegetated'))"
   ]
  },
  {
   "cell_type": "markdown",
   "metadata": {},
   "source": [
    "## Cluster Summaries"
   ]
  },
  {
   "cell_type": "code",
   "execution_count": 11,
   "metadata": {
    "code_folding": [
     3
    ]
   },
   "outputs": [
    {
     "data": {
      "text/markdown": [
       "**Note** that there are 405 polygons that are not assigned to a cluster  -- classified as \"None\""
      ],
      "text/plain": [
       "<IPython.core.display.Markdown object>"
      ]
     },
     "metadata": {},
     "output_type": "display_data"
    }
   ],
   "source": [
    "data_gdf_LCsqkm[\"cluster\"] = data_gdf_LCsqkm[\"cluster\"].astype(str)\n",
    "non_clustered_data = data_gdf_LCsqkm[data_gdf_LCsqkm[\"cluster\"] == \"None\"]\n",
    "\n",
    "display(Markdown('**Note** that there are {} polygons that are not assigned to a cluster  -- classified as \"None\"'\n",
    "                 .format(len(non_clustered_data))))"
   ]
  },
  {
   "cell_type": "markdown",
   "metadata": {},
   "source": [
    "#### Groupby on clusters"
   ]
  },
  {
   "cell_type": "code",
   "execution_count": 12,
   "metadata": {},
   "outputs": [],
   "source": [
    "clusters = data_gdf_LCsqkm.groupby(['cluster'])"
   ]
  },
  {
   "cell_type": "code",
   "execution_count": 13,
   "metadata": {},
   "outputs": [],
   "source": [
    "clust_sum_cols = ['sqkm','LC0', 'LC1', 'LC2', 'LC3', 'LC4', 'LC5', 'LC6', 'LC7','LC8', 'LC9', 'LC10', 'LC11', 'LC12', \n",
    "            'LC13', 'LC14', 'LC16']"
   ]
  },
  {
   "cell_type": "code",
   "execution_count": 14,
   "metadata": {},
   "outputs": [
    {
     "data": {
      "text/markdown": [
       "#### Cluster summary statistics for area and land cover"
      ],
      "text/plain": [
       "<IPython.core.display.Markdown object>"
      ]
     },
     "metadata": {},
     "output_type": "display_data"
    },
    {
     "data": {
      "text/html": [
       "<div>\n",
       "<style scoped>\n",
       "    .dataframe tbody tr th:only-of-type {\n",
       "        vertical-align: middle;\n",
       "    }\n",
       "\n",
       "    .dataframe tbody tr th {\n",
       "        vertical-align: top;\n",
       "    }\n",
       "\n",
       "    .dataframe thead th {\n",
       "        text-align: right;\n",
       "    }\n",
       "</style>\n",
       "<table border=\"1\" class=\"dataframe\">\n",
       "  <thead>\n",
       "    <tr style=\"text-align: right;\">\n",
       "      <th></th>\n",
       "      <th>cluster</th>\n",
       "      <th>sqkm</th>\n",
       "      <th>LC0</th>\n",
       "      <th>LC1</th>\n",
       "      <th>LC2</th>\n",
       "      <th>LC3</th>\n",
       "      <th>LC4</th>\n",
       "      <th>LC5</th>\n",
       "      <th>LC6</th>\n",
       "      <th>LC7</th>\n",
       "      <th>LC8</th>\n",
       "      <th>LC9</th>\n",
       "      <th>LC10</th>\n",
       "      <th>LC11</th>\n",
       "      <th>LC12</th>\n",
       "      <th>LC13</th>\n",
       "      <th>LC14</th>\n",
       "      <th>LC16</th>\n",
       "    </tr>\n",
       "  </thead>\n",
       "  <tbody>\n",
       "    <tr>\n",
       "      <th>0</th>\n",
       "      <td>OROC03</td>\n",
       "      <td>167563.902440</td>\n",
       "      <td>1039.256979</td>\n",
       "      <td>0.000000</td>\n",
       "      <td>1137.559762</td>\n",
       "      <td>0.801741</td>\n",
       "      <td>421.515415</td>\n",
       "      <td>183.059451</td>\n",
       "      <td>6604.449699</td>\n",
       "      <td>17936.560380</td>\n",
       "      <td>20060.819637</td>\n",
       "      <td>15694.286907</td>\n",
       "      <td>85257.951424</td>\n",
       "      <td>107.834186</td>\n",
       "      <td>5620.400312</td>\n",
       "      <td>165.359114</td>\n",
       "      <td>12678.824471</td>\n",
       "      <td>655.222963</td>\n",
       "    </tr>\n",
       "    <tr>\n",
       "      <th>1</th>\n",
       "      <td>SOMC01</td>\n",
       "      <td>139182.265376</td>\n",
       "      <td>0.000000</td>\n",
       "      <td>0.000000</td>\n",
       "      <td>0.000000</td>\n",
       "      <td>0.000000</td>\n",
       "      <td>258.561524</td>\n",
       "      <td>1.803918</td>\n",
       "      <td>3613.665154</td>\n",
       "      <td>122560.516104</td>\n",
       "      <td>61.734069</td>\n",
       "      <td>14.431341</td>\n",
       "      <td>963.867512</td>\n",
       "      <td>0.801741</td>\n",
       "      <td>33.407279</td>\n",
       "      <td>9.220023</td>\n",
       "      <td>366.846725</td>\n",
       "      <td>11297.409986</td>\n",
       "    </tr>\n",
       "    <tr>\n",
       "      <th>2</th>\n",
       "      <td>SOMC03</td>\n",
       "      <td>100217.645000</td>\n",
       "      <td>0.000000</td>\n",
       "      <td>0.000000</td>\n",
       "      <td>0.000000</td>\n",
       "      <td>0.000000</td>\n",
       "      <td>18.039176</td>\n",
       "      <td>0.000000</td>\n",
       "      <td>1975.690654</td>\n",
       "      <td>91799.385027</td>\n",
       "      <td>16.636129</td>\n",
       "      <td>20.444400</td>\n",
       "      <td>2383.138022</td>\n",
       "      <td>0.000000</td>\n",
       "      <td>129.293160</td>\n",
       "      <td>15.842810</td>\n",
       "      <td>309.442262</td>\n",
       "      <td>3549.733361</td>\n",
       "    </tr>\n",
       "    <tr>\n",
       "      <th>3</th>\n",
       "      <td>AMHC02</td>\n",
       "      <td>99335.729724</td>\n",
       "      <td>2848.385906</td>\n",
       "      <td>0.000000</td>\n",
       "      <td>12.026117</td>\n",
       "      <td>4.008706</td>\n",
       "      <td>1.403047</td>\n",
       "      <td>45.498811</td>\n",
       "      <td>7.816976</td>\n",
       "      <td>500.086049</td>\n",
       "      <td>916.990952</td>\n",
       "      <td>50859.832748</td>\n",
       "      <td>1450.972104</td>\n",
       "      <td>91.999798</td>\n",
       "      <td>32514.682047</td>\n",
       "      <td>43.093587</td>\n",
       "      <td>9965.974429</td>\n",
       "      <td>72.958446</td>\n",
       "    </tr>\n",
       "    <tr>\n",
       "      <th>4</th>\n",
       "      <td>OROC01</td>\n",
       "      <td>79212.026608</td>\n",
       "      <td>143.912538</td>\n",
       "      <td>0.200435</td>\n",
       "      <td>7766.667052</td>\n",
       "      <td>1.603482</td>\n",
       "      <td>2.806094</td>\n",
       "      <td>402.073192</td>\n",
       "      <td>40.888799</td>\n",
       "      <td>146.117326</td>\n",
       "      <td>11841.316063</td>\n",
       "      <td>3268.297839</td>\n",
       "      <td>13964.727525</td>\n",
       "      <td>166.561726</td>\n",
       "      <td>17939.960631</td>\n",
       "      <td>287.624641</td>\n",
       "      <td>23224.437052</td>\n",
       "      <td>14.832211</td>\n",
       "    </tr>\n",
       "    <tr>\n",
       "      <th>5</th>\n",
       "      <td>OROC02</td>\n",
       "      <td>76967.151360</td>\n",
       "      <td>921.801899</td>\n",
       "      <td>0.000000</td>\n",
       "      <td>6795.357637</td>\n",
       "      <td>0.400871</td>\n",
       "      <td>3.808271</td>\n",
       "      <td>61.132763</td>\n",
       "      <td>20.845270</td>\n",
       "      <td>337.933899</td>\n",
       "      <td>32304.556560</td>\n",
       "      <td>12149.986409</td>\n",
       "      <td>5424.179818</td>\n",
       "      <td>75.964975</td>\n",
       "      <td>4856.346641</td>\n",
       "      <td>46.100117</td>\n",
       "      <td>13886.758197</td>\n",
       "      <td>81.978034</td>\n",
       "    </tr>\n",
       "    <tr>\n",
       "      <th>6</th>\n",
       "      <td>AFAC02</td>\n",
       "      <td>67346.257440</td>\n",
       "      <td>329.921986</td>\n",
       "      <td>0.000000</td>\n",
       "      <td>1.202612</td>\n",
       "      <td>0.000000</td>\n",
       "      <td>0.801741</td>\n",
       "      <td>8.819153</td>\n",
       "      <td>21.045705</td>\n",
       "      <td>13957.482667</td>\n",
       "      <td>3.607835</td>\n",
       "      <td>102.221998</td>\n",
       "      <td>9724.308523</td>\n",
       "      <td>43.694893</td>\n",
       "      <td>2412.880943</td>\n",
       "      <td>8.819153</td>\n",
       "      <td>1368.570668</td>\n",
       "      <td>39362.879564</td>\n",
       "    </tr>\n",
       "    <tr>\n",
       "      <th>7</th>\n",
       "      <td>SOMC02</td>\n",
       "      <td>53796.831836</td>\n",
       "      <td>0.000000</td>\n",
       "      <td>0.000000</td>\n",
       "      <td>0.000000</td>\n",
       "      <td>0.000000</td>\n",
       "      <td>513.916084</td>\n",
       "      <td>6.213494</td>\n",
       "      <td>16712.695351</td>\n",
       "      <td>19398.728672</td>\n",
       "      <td>549.794000</td>\n",
       "      <td>163.956067</td>\n",
       "      <td>12169.629068</td>\n",
       "      <td>0.400871</td>\n",
       "      <td>113.847245</td>\n",
       "      <td>5.812623</td>\n",
       "      <td>501.489096</td>\n",
       "      <td>3660.349266</td>\n",
       "    </tr>\n",
       "    <tr>\n",
       "      <th>8</th>\n",
       "      <td>SOUC03</td>\n",
       "      <td>49948.474268</td>\n",
       "      <td>366.195275</td>\n",
       "      <td>0.000000</td>\n",
       "      <td>3206.964640</td>\n",
       "      <td>0.000000</td>\n",
       "      <td>5.411753</td>\n",
       "      <td>8.017412</td>\n",
       "      <td>17.085985</td>\n",
       "      <td>2531.746544</td>\n",
       "      <td>13894.215131</td>\n",
       "      <td>7103.475395</td>\n",
       "      <td>10337.555306</td>\n",
       "      <td>91.765724</td>\n",
       "      <td>1292.996171</td>\n",
       "      <td>3.808271</td>\n",
       "      <td>11062.179818</td>\n",
       "      <td>27.056844</td>\n",
       "    </tr>\n",
       "    <tr>\n",
       "      <th>9</th>\n",
       "      <td>AMHC01</td>\n",
       "      <td>48104.469600</td>\n",
       "      <td>0.000000</td>\n",
       "      <td>0.000000</td>\n",
       "      <td>4.008706</td>\n",
       "      <td>0.200435</td>\n",
       "      <td>0.200435</td>\n",
       "      <td>125.672927</td>\n",
       "      <td>46.901858</td>\n",
       "      <td>257.158477</td>\n",
       "      <td>363.389181</td>\n",
       "      <td>10514.234008</td>\n",
       "      <td>2403.219127</td>\n",
       "      <td>13.028294</td>\n",
       "      <td>29357.957362</td>\n",
       "      <td>31.468341</td>\n",
       "      <td>4986.228709</td>\n",
       "      <td>0.801741</td>\n",
       "    </tr>\n",
       "    <tr>\n",
       "      <th>10</th>\n",
       "      <td>TIGC02</td>\n",
       "      <td>35116.262808</td>\n",
       "      <td>0.000000</td>\n",
       "      <td>0.000000</td>\n",
       "      <td>1.002176</td>\n",
       "      <td>0.000000</td>\n",
       "      <td>0.000000</td>\n",
       "      <td>6.413429</td>\n",
       "      <td>4.230635</td>\n",
       "      <td>6521.736727</td>\n",
       "      <td>30.245084</td>\n",
       "      <td>9203.954580</td>\n",
       "      <td>3014.476124</td>\n",
       "      <td>2.004353</td>\n",
       "      <td>10712.919348</td>\n",
       "      <td>4.186383</td>\n",
       "      <td>5583.713198</td>\n",
       "      <td>31.380771</td>\n",
       "    </tr>\n",
       "    <tr>\n",
       "      <th>11</th>\n",
       "      <td>None</td>\n",
       "      <td>32470.516980</td>\n",
       "      <td>487.024896</td>\n",
       "      <td>0.000000</td>\n",
       "      <td>0.000000</td>\n",
       "      <td>0.000000</td>\n",
       "      <td>46.984634</td>\n",
       "      <td>5.267037</td>\n",
       "      <td>1761.221807</td>\n",
       "      <td>15828.826089</td>\n",
       "      <td>112.978124</td>\n",
       "      <td>2885.660231</td>\n",
       "      <td>4351.557476</td>\n",
       "      <td>8.380981</td>\n",
       "      <td>494.480806</td>\n",
       "      <td>21.862291</td>\n",
       "      <td>500.597725</td>\n",
       "      <td>5965.674884</td>\n",
       "    </tr>\n",
       "    <tr>\n",
       "      <th>12</th>\n",
       "      <td>AFAC01</td>\n",
       "      <td>29023.029992</td>\n",
       "      <td>4.610012</td>\n",
       "      <td>0.000000</td>\n",
       "      <td>8.217847</td>\n",
       "      <td>0.000000</td>\n",
       "      <td>0.200435</td>\n",
       "      <td>40.487929</td>\n",
       "      <td>22.245333</td>\n",
       "      <td>9578.877839</td>\n",
       "      <td>16.235258</td>\n",
       "      <td>207.851396</td>\n",
       "      <td>5332.706884</td>\n",
       "      <td>5.411753</td>\n",
       "      <td>5736.608323</td>\n",
       "      <td>1.803918</td>\n",
       "      <td>6316.888825</td>\n",
       "      <td>1750.884241</td>\n",
       "    </tr>\n",
       "    <tr>\n",
       "      <th>13</th>\n",
       "      <td>SOUC01</td>\n",
       "      <td>22849.623060</td>\n",
       "      <td>38.684011</td>\n",
       "      <td>0.000000</td>\n",
       "      <td>3619.460467</td>\n",
       "      <td>0.400871</td>\n",
       "      <td>0.601306</td>\n",
       "      <td>25.054411</td>\n",
       "      <td>1.002176</td>\n",
       "      <td>1.002176</td>\n",
       "      <td>2601.650064</td>\n",
       "      <td>1025.827814</td>\n",
       "      <td>2044.439958</td>\n",
       "      <td>29.063117</td>\n",
       "      <td>2724.917768</td>\n",
       "      <td>26.657894</td>\n",
       "      <td>10695.227074</td>\n",
       "      <td>15.633953</td>\n",
       "    </tr>\n",
       "    <tr>\n",
       "      <th>14</th>\n",
       "      <td>SOUC02</td>\n",
       "      <td>19562.484304</td>\n",
       "      <td>35.477046</td>\n",
       "      <td>0.000000</td>\n",
       "      <td>3446.685247</td>\n",
       "      <td>0.000000</td>\n",
       "      <td>1.603482</td>\n",
       "      <td>7.015235</td>\n",
       "      <td>4.008706</td>\n",
       "      <td>56.723187</td>\n",
       "      <td>3566.345115</td>\n",
       "      <td>2140.849332</td>\n",
       "      <td>1924.178784</td>\n",
       "      <td>16.235258</td>\n",
       "      <td>1063.108778</td>\n",
       "      <td>1.803918</td>\n",
       "      <td>7294.040638</td>\n",
       "      <td>4.409576</td>\n",
       "    </tr>\n",
       "    <tr>\n",
       "      <th>15</th>\n",
       "      <td>BENC01</td>\n",
       "      <td>19321.961956</td>\n",
       "      <td>0.000000</td>\n",
       "      <td>0.000000</td>\n",
       "      <td>0.000000</td>\n",
       "      <td>0.000000</td>\n",
       "      <td>3.407400</td>\n",
       "      <td>7.416106</td>\n",
       "      <td>0.000000</td>\n",
       "      <td>0.000000</td>\n",
       "      <td>801.367427</td>\n",
       "      <td>18465.765988</td>\n",
       "      <td>0.801741</td>\n",
       "      <td>0.000000</td>\n",
       "      <td>30.469184</td>\n",
       "      <td>0.000000</td>\n",
       "      <td>12.734110</td>\n",
       "      <td>0.000000</td>\n",
       "    </tr>\n",
       "    <tr>\n",
       "      <th>16</th>\n",
       "      <td>TIGC01</td>\n",
       "      <td>19001.265492</td>\n",
       "      <td>7.616541</td>\n",
       "      <td>0.000000</td>\n",
       "      <td>0.000000</td>\n",
       "      <td>0.000000</td>\n",
       "      <td>0.200435</td>\n",
       "      <td>12.627423</td>\n",
       "      <td>17.510565</td>\n",
       "      <td>6418.062819</td>\n",
       "      <td>8.618717</td>\n",
       "      <td>992.793126</td>\n",
       "      <td>1918.557009</td>\n",
       "      <td>6.413929</td>\n",
       "      <td>6978.589435</td>\n",
       "      <td>20.845270</td>\n",
       "      <td>2618.628480</td>\n",
       "      <td>0.801741</td>\n",
       "    </tr>\n",
       "    <tr>\n",
       "      <th>17</th>\n",
       "      <td>BENC03</td>\n",
       "      <td>16756.390244</td>\n",
       "      <td>0.000000</td>\n",
       "      <td>0.000000</td>\n",
       "      <td>0.200435</td>\n",
       "      <td>0.000000</td>\n",
       "      <td>6.814800</td>\n",
       "      <td>28.498577</td>\n",
       "      <td>0.000000</td>\n",
       "      <td>0.000000</td>\n",
       "      <td>6773.992895</td>\n",
       "      <td>9833.126428</td>\n",
       "      <td>1.202612</td>\n",
       "      <td>0.200435</td>\n",
       "      <td>49.016509</td>\n",
       "      <td>2.605659</td>\n",
       "      <td>60.731893</td>\n",
       "      <td>0.000000</td>\n",
       "    </tr>\n",
       "    <tr>\n",
       "      <th>18</th>\n",
       "      <td>GAMC01</td>\n",
       "      <td>12667.510328</td>\n",
       "      <td>0.000000</td>\n",
       "      <td>0.000000</td>\n",
       "      <td>0.000000</td>\n",
       "      <td>0.000000</td>\n",
       "      <td>0.415379</td>\n",
       "      <td>10.213282</td>\n",
       "      <td>0.000000</td>\n",
       "      <td>0.801741</td>\n",
       "      <td>494.764899</td>\n",
       "      <td>11101.638163</td>\n",
       "      <td>320.367074</td>\n",
       "      <td>236.538260</td>\n",
       "      <td>296.203934</td>\n",
       "      <td>0.801741</td>\n",
       "      <td>205.765855</td>\n",
       "      <td>0.000000</td>\n",
       "    </tr>\n",
       "    <tr>\n",
       "      <th>19</th>\n",
       "      <td>GAMC02</td>\n",
       "      <td>11545.072704</td>\n",
       "      <td>3.206965</td>\n",
       "      <td>0.000000</td>\n",
       "      <td>1274.367574</td>\n",
       "      <td>0.000000</td>\n",
       "      <td>0.801741</td>\n",
       "      <td>0.601306</td>\n",
       "      <td>0.000000</td>\n",
       "      <td>0.000000</td>\n",
       "      <td>3458.228226</td>\n",
       "      <td>6695.741685</td>\n",
       "      <td>65.210013</td>\n",
       "      <td>17.357235</td>\n",
       "      <td>15.088060</td>\n",
       "      <td>2.605659</td>\n",
       "      <td>11.864240</td>\n",
       "      <td>0.000000</td>\n",
       "    </tr>\n",
       "    <tr>\n",
       "      <th>20</th>\n",
       "      <td>BENC02</td>\n",
       "      <td>2645.745828</td>\n",
       "      <td>0.000000</td>\n",
       "      <td>0.000000</td>\n",
       "      <td>0.801741</td>\n",
       "      <td>0.000000</td>\n",
       "      <td>1.603482</td>\n",
       "      <td>30.666599</td>\n",
       "      <td>0.000000</td>\n",
       "      <td>0.000000</td>\n",
       "      <td>1389.417430</td>\n",
       "      <td>982.132921</td>\n",
       "      <td>25.054411</td>\n",
       "      <td>0.000000</td>\n",
       "      <td>94.405022</td>\n",
       "      <td>0.000000</td>\n",
       "      <td>121.664221</td>\n",
       "      <td>0.000000</td>\n",
       "    </tr>\n",
       "    <tr>\n",
       "      <th>21</th>\n",
       "      <td>ADDC01</td>\n",
       "      <td>80.174116</td>\n",
       "      <td>0.000000</td>\n",
       "      <td>0.000000</td>\n",
       "      <td>0.000000</td>\n",
       "      <td>0.000000</td>\n",
       "      <td>0.000000</td>\n",
       "      <td>0.000000</td>\n",
       "      <td>0.000000</td>\n",
       "      <td>0.000000</td>\n",
       "      <td>0.400871</td>\n",
       "      <td>0.000000</td>\n",
       "      <td>6.213494</td>\n",
       "      <td>0.000000</td>\n",
       "      <td>21.045705</td>\n",
       "      <td>10.823506</td>\n",
       "      <td>41.690540</td>\n",
       "      <td>0.000000</td>\n",
       "    </tr>\n",
       "  </tbody>\n",
       "</table>\n",
       "</div>"
      ],
      "text/plain": [
       "   cluster           sqkm          LC0       LC1          LC2       LC3  \\\n",
       "0   OROC03  167563.902440  1039.256979  0.000000  1137.559762  0.801741   \n",
       "1   SOMC01  139182.265376     0.000000  0.000000     0.000000  0.000000   \n",
       "2   SOMC03  100217.645000     0.000000  0.000000     0.000000  0.000000   \n",
       "3   AMHC02   99335.729724  2848.385906  0.000000    12.026117  4.008706   \n",
       "4   OROC01   79212.026608   143.912538  0.200435  7766.667052  1.603482   \n",
       "5   OROC02   76967.151360   921.801899  0.000000  6795.357637  0.400871   \n",
       "6   AFAC02   67346.257440   329.921986  0.000000     1.202612  0.000000   \n",
       "7   SOMC02   53796.831836     0.000000  0.000000     0.000000  0.000000   \n",
       "8   SOUC03   49948.474268   366.195275  0.000000  3206.964640  0.000000   \n",
       "9   AMHC01   48104.469600     0.000000  0.000000     4.008706  0.200435   \n",
       "10  TIGC02   35116.262808     0.000000  0.000000     1.002176  0.000000   \n",
       "11    None   32470.516980   487.024896  0.000000     0.000000  0.000000   \n",
       "12  AFAC01   29023.029992     4.610012  0.000000     8.217847  0.000000   \n",
       "13  SOUC01   22849.623060    38.684011  0.000000  3619.460467  0.400871   \n",
       "14  SOUC02   19562.484304    35.477046  0.000000  3446.685247  0.000000   \n",
       "15  BENC01   19321.961956     0.000000  0.000000     0.000000  0.000000   \n",
       "16  TIGC01   19001.265492     7.616541  0.000000     0.000000  0.000000   \n",
       "17  BENC03   16756.390244     0.000000  0.000000     0.200435  0.000000   \n",
       "18  GAMC01   12667.510328     0.000000  0.000000     0.000000  0.000000   \n",
       "19  GAMC02   11545.072704     3.206965  0.000000  1274.367574  0.000000   \n",
       "20  BENC02    2645.745828     0.000000  0.000000     0.801741  0.000000   \n",
       "21  ADDC01      80.174116     0.000000  0.000000     0.000000  0.000000   \n",
       "\n",
       "           LC4         LC5           LC6            LC7           LC8  \\\n",
       "0   421.515415  183.059451   6604.449699   17936.560380  20060.819637   \n",
       "1   258.561524    1.803918   3613.665154  122560.516104     61.734069   \n",
       "2    18.039176    0.000000   1975.690654   91799.385027     16.636129   \n",
       "3     1.403047   45.498811      7.816976     500.086049    916.990952   \n",
       "4     2.806094  402.073192     40.888799     146.117326  11841.316063   \n",
       "5     3.808271   61.132763     20.845270     337.933899  32304.556560   \n",
       "6     0.801741    8.819153     21.045705   13957.482667      3.607835   \n",
       "7   513.916084    6.213494  16712.695351   19398.728672    549.794000   \n",
       "8     5.411753    8.017412     17.085985    2531.746544  13894.215131   \n",
       "9     0.200435  125.672927     46.901858     257.158477    363.389181   \n",
       "10    0.000000    6.413429      4.230635    6521.736727     30.245084   \n",
       "11   46.984634    5.267037   1761.221807   15828.826089    112.978124   \n",
       "12    0.200435   40.487929     22.245333    9578.877839     16.235258   \n",
       "13    0.601306   25.054411      1.002176       1.002176   2601.650064   \n",
       "14    1.603482    7.015235      4.008706      56.723187   3566.345115   \n",
       "15    3.407400    7.416106      0.000000       0.000000    801.367427   \n",
       "16    0.200435   12.627423     17.510565    6418.062819      8.618717   \n",
       "17    6.814800   28.498577      0.000000       0.000000   6773.992895   \n",
       "18    0.415379   10.213282      0.000000       0.801741    494.764899   \n",
       "19    0.801741    0.601306      0.000000       0.000000   3458.228226   \n",
       "20    1.603482   30.666599      0.000000       0.000000   1389.417430   \n",
       "21    0.000000    0.000000      0.000000       0.000000      0.400871   \n",
       "\n",
       "             LC9          LC10        LC11          LC12        LC13  \\\n",
       "0   15694.286907  85257.951424  107.834186   5620.400312  165.359114   \n",
       "1      14.431341    963.867512    0.801741     33.407279    9.220023   \n",
       "2      20.444400   2383.138022    0.000000    129.293160   15.842810   \n",
       "3   50859.832748   1450.972104   91.999798  32514.682047   43.093587   \n",
       "4    3268.297839  13964.727525  166.561726  17939.960631  287.624641   \n",
       "5   12149.986409   5424.179818   75.964975   4856.346641   46.100117   \n",
       "6     102.221998   9724.308523   43.694893   2412.880943    8.819153   \n",
       "7     163.956067  12169.629068    0.400871    113.847245    5.812623   \n",
       "8    7103.475395  10337.555306   91.765724   1292.996171    3.808271   \n",
       "9   10514.234008   2403.219127   13.028294  29357.957362   31.468341   \n",
       "10   9203.954580   3014.476124    2.004353  10712.919348    4.186383   \n",
       "11   2885.660231   4351.557476    8.380981    494.480806   21.862291   \n",
       "12    207.851396   5332.706884    5.411753   5736.608323    1.803918   \n",
       "13   1025.827814   2044.439958   29.063117   2724.917768   26.657894   \n",
       "14   2140.849332   1924.178784   16.235258   1063.108778    1.803918   \n",
       "15  18465.765988      0.801741    0.000000     30.469184    0.000000   \n",
       "16    992.793126   1918.557009    6.413929   6978.589435   20.845270   \n",
       "17   9833.126428      1.202612    0.200435     49.016509    2.605659   \n",
       "18  11101.638163    320.367074  236.538260    296.203934    0.801741   \n",
       "19   6695.741685     65.210013   17.357235     15.088060    2.605659   \n",
       "20    982.132921     25.054411    0.000000     94.405022    0.000000   \n",
       "21      0.000000      6.213494    0.000000     21.045705   10.823506   \n",
       "\n",
       "            LC14          LC16  \n",
       "0   12678.824471    655.222963  \n",
       "1     366.846725  11297.409986  \n",
       "2     309.442262   3549.733361  \n",
       "3    9965.974429     72.958446  \n",
       "4   23224.437052     14.832211  \n",
       "5   13886.758197     81.978034  \n",
       "6    1368.570668  39362.879564  \n",
       "7     501.489096   3660.349266  \n",
       "8   11062.179818     27.056844  \n",
       "9    4986.228709      0.801741  \n",
       "10   5583.713198     31.380771  \n",
       "11    500.597725   5965.674884  \n",
       "12   6316.888825   1750.884241  \n",
       "13  10695.227074     15.633953  \n",
       "14   7294.040638      4.409576  \n",
       "15     12.734110      0.000000  \n",
       "16   2618.628480      0.801741  \n",
       "17     60.731893      0.000000  \n",
       "18    205.765855      0.000000  \n",
       "19     11.864240      0.000000  \n",
       "20    121.664221      0.000000  \n",
       "21     41.690540      0.000000  "
      ]
     },
     "execution_count": 14,
     "metadata": {},
     "output_type": "execute_result"
    }
   ],
   "source": [
    "clusters_sum = clusters[clust_sum_cols].sum().sort_values(ascending=False, by='sqkm').reset_index()\n",
    "display(Markdown('#### Cluster summary statistics for area and land cover'))\n",
    "clusters_sum"
   ]
  },
  {
   "cell_type": "code",
   "execution_count": 15,
   "metadata": {},
   "outputs": [
    {
     "data": {
      "text/markdown": [
       "#### Cluster summary statistics for Water Table Depth (in m)"
      ],
      "text/plain": [
       "<IPython.core.display.Markdown object>"
      ]
     },
     "metadata": {},
     "output_type": "display_data"
    },
    {
     "data": {
      "text/html": [
       "<div>\n",
       "<style scoped>\n",
       "    .dataframe tbody tr th:only-of-type {\n",
       "        vertical-align: middle;\n",
       "    }\n",
       "\n",
       "    .dataframe tbody tr th {\n",
       "        vertical-align: top;\n",
       "    }\n",
       "\n",
       "    .dataframe thead th {\n",
       "        text-align: right;\n",
       "    }\n",
       "</style>\n",
       "<table border=\"1\" class=\"dataframe\">\n",
       "  <thead>\n",
       "    <tr style=\"text-align: right;\">\n",
       "      <th></th>\n",
       "      <th>cluster</th>\n",
       "      <th>wtdmean</th>\n",
       "    </tr>\n",
       "  </thead>\n",
       "  <tbody>\n",
       "    <tr>\n",
       "      <th>0</th>\n",
       "      <td>TIGC01</td>\n",
       "      <td>76.710030</td>\n",
       "    </tr>\n",
       "    <tr>\n",
       "      <th>1</th>\n",
       "      <td>TIGC02</td>\n",
       "      <td>61.306492</td>\n",
       "    </tr>\n",
       "    <tr>\n",
       "      <th>2</th>\n",
       "      <td>AMHC01</td>\n",
       "      <td>58.198648</td>\n",
       "    </tr>\n",
       "    <tr>\n",
       "      <th>3</th>\n",
       "      <td>AFAC01</td>\n",
       "      <td>56.126008</td>\n",
       "    </tr>\n",
       "    <tr>\n",
       "      <th>4</th>\n",
       "      <td>AMHC02</td>\n",
       "      <td>49.518228</td>\n",
       "    </tr>\n",
       "    <tr>\n",
       "      <th>5</th>\n",
       "      <td>BENC02</td>\n",
       "      <td>48.478069</td>\n",
       "    </tr>\n",
       "    <tr>\n",
       "      <th>6</th>\n",
       "      <td>AFAC02</td>\n",
       "      <td>47.413433</td>\n",
       "    </tr>\n",
       "    <tr>\n",
       "      <th>7</th>\n",
       "      <td>SOMC02</td>\n",
       "      <td>45.574610</td>\n",
       "    </tr>\n",
       "    <tr>\n",
       "      <th>8</th>\n",
       "      <td>OROC03</td>\n",
       "      <td>45.480629</td>\n",
       "    </tr>\n",
       "    <tr>\n",
       "      <th>9</th>\n",
       "      <td>SOUC02</td>\n",
       "      <td>43.116401</td>\n",
       "    </tr>\n",
       "    <tr>\n",
       "      <th>10</th>\n",
       "      <td>SOMC03</td>\n",
       "      <td>42.686801</td>\n",
       "    </tr>\n",
       "    <tr>\n",
       "      <th>11</th>\n",
       "      <td>ADDC01</td>\n",
       "      <td>41.643091</td>\n",
       "    </tr>\n",
       "    <tr>\n",
       "      <th>12</th>\n",
       "      <td>BENC03</td>\n",
       "      <td>39.944894</td>\n",
       "    </tr>\n",
       "    <tr>\n",
       "      <th>13</th>\n",
       "      <td>OROC02</td>\n",
       "      <td>38.478348</td>\n",
       "    </tr>\n",
       "    <tr>\n",
       "      <th>14</th>\n",
       "      <td>OROC01</td>\n",
       "      <td>37.400327</td>\n",
       "    </tr>\n",
       "    <tr>\n",
       "      <th>15</th>\n",
       "      <td>SOUC01</td>\n",
       "      <td>36.916435</td>\n",
       "    </tr>\n",
       "    <tr>\n",
       "      <th>16</th>\n",
       "      <td>SOUC03</td>\n",
       "      <td>36.840641</td>\n",
       "    </tr>\n",
       "    <tr>\n",
       "      <th>17</th>\n",
       "      <td>None</td>\n",
       "      <td>36.704007</td>\n",
       "    </tr>\n",
       "    <tr>\n",
       "      <th>18</th>\n",
       "      <td>BENC01</td>\n",
       "      <td>35.571263</td>\n",
       "    </tr>\n",
       "    <tr>\n",
       "      <th>19</th>\n",
       "      <td>SOMC01</td>\n",
       "      <td>29.376123</td>\n",
       "    </tr>\n",
       "    <tr>\n",
       "      <th>20</th>\n",
       "      <td>GAMC02</td>\n",
       "      <td>20.089847</td>\n",
       "    </tr>\n",
       "    <tr>\n",
       "      <th>21</th>\n",
       "      <td>GAMC01</td>\n",
       "      <td>1.079437</td>\n",
       "    </tr>\n",
       "  </tbody>\n",
       "</table>\n",
       "</div>"
      ],
      "text/plain": [
       "   cluster    wtdmean\n",
       "0   TIGC01  76.710030\n",
       "1   TIGC02  61.306492\n",
       "2   AMHC01  58.198648\n",
       "3   AFAC01  56.126008\n",
       "4   AMHC02  49.518228\n",
       "5   BENC02  48.478069\n",
       "6   AFAC02  47.413433\n",
       "7   SOMC02  45.574610\n",
       "8   OROC03  45.480629\n",
       "9   SOUC02  43.116401\n",
       "10  SOMC03  42.686801\n",
       "11  ADDC01  41.643091\n",
       "12  BENC03  39.944894\n",
       "13  OROC02  38.478348\n",
       "14  OROC01  37.400327\n",
       "15  SOUC01  36.916435\n",
       "16  SOUC03  36.840641\n",
       "17    None  36.704007\n",
       "18  BENC01  35.571263\n",
       "19  SOMC01  29.376123\n",
       "20  GAMC02  20.089847\n",
       "21  GAMC01   1.079437"
      ]
     },
     "execution_count": 15,
     "metadata": {},
     "output_type": "execute_result"
    }
   ],
   "source": [
    "clusters_mean = clusters['wtdmean'].mean().sort_values(ascending=False).reset_index()\n",
    "display(Markdown('#### Cluster summary statistics for Water Table Depth (in m)'))\n",
    "clusters_mean"
   ]
  },
  {
   "cell_type": "markdown",
   "metadata": {},
   "source": [
    "### Explore particular clusters"
   ]
  },
  {
   "cell_type": "code",
   "execution_count": 16,
   "metadata": {},
   "outputs": [
    {
     "data": {
      "text/plain": [
       "sqkm    19321.961956\n",
       "LC0         0.000000\n",
       "LC1         0.000000\n",
       "LC2         0.000000\n",
       "LC3         0.000000\n",
       "LC4         3.407400\n",
       "LC5         7.416106\n",
       "LC6         0.000000\n",
       "LC7         0.000000\n",
       "LC8       801.367427\n",
       "LC9     18465.765988\n",
       "LC10        0.801741\n",
       "LC11        0.000000\n",
       "LC12       30.469184\n",
       "LC13        0.000000\n",
       "LC14       12.734110\n",
       "LC16        0.000000\n",
       "dtype: float64"
      ]
     },
     "execution_count": 16,
     "metadata": {},
     "output_type": "execute_result"
    }
   ],
   "source": [
    "clusters.get_group('BENC01')[clust_sum_cols].sum()"
   ]
  },
  {
   "cell_type": "code",
   "execution_count": 17,
   "metadata": {},
   "outputs": [
    {
     "data": {
      "text/html": [
       "<div>\n",
       "<style scoped>\n",
       "    .dataframe tbody tr th:only-of-type {\n",
       "        vertical-align: middle;\n",
       "    }\n",
       "\n",
       "    .dataframe tbody tr th {\n",
       "        vertical-align: top;\n",
       "    }\n",
       "\n",
       "    .dataframe thead th {\n",
       "        text-align: right;\n",
       "    }\n",
       "</style>\n",
       "<table border=\"1\" class=\"dataframe\">\n",
       "  <thead>\n",
       "    <tr style=\"text-align: right;\">\n",
       "      <th></th>\n",
       "      <th>sqkm</th>\n",
       "      <th>LC0</th>\n",
       "      <th>LC1</th>\n",
       "      <th>LC2</th>\n",
       "      <th>LC3</th>\n",
       "      <th>LC4</th>\n",
       "      <th>LC5</th>\n",
       "      <th>LC6</th>\n",
       "      <th>LC7</th>\n",
       "      <th>LC8</th>\n",
       "      <th>LC9</th>\n",
       "      <th>LC10</th>\n",
       "      <th>LC11</th>\n",
       "      <th>LC12</th>\n",
       "      <th>LC13</th>\n",
       "      <th>LC14</th>\n",
       "      <th>LC16</th>\n",
       "    </tr>\n",
       "  </thead>\n",
       "  <tbody>\n",
       "    <tr>\n",
       "      <th>count</th>\n",
       "      <td>241.000000</td>\n",
       "      <td>0.0</td>\n",
       "      <td>0.0</td>\n",
       "      <td>0.0</td>\n",
       "      <td>0.0</td>\n",
       "      <td>11.000000</td>\n",
       "      <td>14.000000</td>\n",
       "      <td>0.0</td>\n",
       "      <td>0.0</td>\n",
       "      <td>86.000000</td>\n",
       "      <td>241.000000</td>\n",
       "      <td>1.000000</td>\n",
       "      <td>0.0</td>\n",
       "      <td>42.000000</td>\n",
       "      <td>0.0</td>\n",
       "      <td>22.000000</td>\n",
       "      <td>0.0</td>\n",
       "    </tr>\n",
       "    <tr>\n",
       "      <th>mean</th>\n",
       "      <td>80.174116</td>\n",
       "      <td>NaN</td>\n",
       "      <td>NaN</td>\n",
       "      <td>NaN</td>\n",
       "      <td>NaN</td>\n",
       "      <td>0.309764</td>\n",
       "      <td>0.529722</td>\n",
       "      <td>NaN</td>\n",
       "      <td>NaN</td>\n",
       "      <td>9.318226</td>\n",
       "      <td>76.621436</td>\n",
       "      <td>0.801741</td>\n",
       "      <td>NaN</td>\n",
       "      <td>0.725457</td>\n",
       "      <td>NaN</td>\n",
       "      <td>0.578823</td>\n",
       "      <td>NaN</td>\n",
       "    </tr>\n",
       "    <tr>\n",
       "      <th>std</th>\n",
       "      <td>0.000000</td>\n",
       "      <td>NaN</td>\n",
       "      <td>NaN</td>\n",
       "      <td>NaN</td>\n",
       "      <td>NaN</td>\n",
       "      <td>0.207596</td>\n",
       "      <td>0.482117</td>\n",
       "      <td>NaN</td>\n",
       "      <td>NaN</td>\n",
       "      <td>13.787101</td>\n",
       "      <td>9.621854</td>\n",
       "      <td>NaN</td>\n",
       "      <td>NaN</td>\n",
       "      <td>1.059642</td>\n",
       "      <td>NaN</td>\n",
       "      <td>0.666079</td>\n",
       "      <td>NaN</td>\n",
       "    </tr>\n",
       "    <tr>\n",
       "      <th>min</th>\n",
       "      <td>80.174116</td>\n",
       "      <td>NaN</td>\n",
       "      <td>NaN</td>\n",
       "      <td>NaN</td>\n",
       "      <td>NaN</td>\n",
       "      <td>0.200435</td>\n",
       "      <td>0.200435</td>\n",
       "      <td>NaN</td>\n",
       "      <td>NaN</td>\n",
       "      <td>0.200435</td>\n",
       "      <td>9.220023</td>\n",
       "      <td>0.801741</td>\n",
       "      <td>NaN</td>\n",
       "      <td>0.200435</td>\n",
       "      <td>NaN</td>\n",
       "      <td>0.200435</td>\n",
       "      <td>NaN</td>\n",
       "    </tr>\n",
       "    <tr>\n",
       "      <th>25%</th>\n",
       "      <td>80.174116</td>\n",
       "      <td>NaN</td>\n",
       "      <td>NaN</td>\n",
       "      <td>NaN</td>\n",
       "      <td>NaN</td>\n",
       "      <td>0.200435</td>\n",
       "      <td>0.200435</td>\n",
       "      <td>NaN</td>\n",
       "      <td>NaN</td>\n",
       "      <td>0.400871</td>\n",
       "      <td>78.771069</td>\n",
       "      <td>0.801741</td>\n",
       "      <td>NaN</td>\n",
       "      <td>0.200435</td>\n",
       "      <td>NaN</td>\n",
       "      <td>0.200435</td>\n",
       "      <td>NaN</td>\n",
       "    </tr>\n",
       "    <tr>\n",
       "      <th>50%</th>\n",
       "      <td>80.174116</td>\n",
       "      <td>NaN</td>\n",
       "      <td>NaN</td>\n",
       "      <td>NaN</td>\n",
       "      <td>NaN</td>\n",
       "      <td>0.200435</td>\n",
       "      <td>0.300653</td>\n",
       "      <td>NaN</td>\n",
       "      <td>NaN</td>\n",
       "      <td>2.605659</td>\n",
       "      <td>80.174116</td>\n",
       "      <td>0.801741</td>\n",
       "      <td>NaN</td>\n",
       "      <td>0.314970</td>\n",
       "      <td>NaN</td>\n",
       "      <td>0.300653</td>\n",
       "      <td>NaN</td>\n",
       "    </tr>\n",
       "    <tr>\n",
       "      <th>75%</th>\n",
       "      <td>80.174116</td>\n",
       "      <td>NaN</td>\n",
       "      <td>NaN</td>\n",
       "      <td>NaN</td>\n",
       "      <td>NaN</td>\n",
       "      <td>0.300653</td>\n",
       "      <td>0.751632</td>\n",
       "      <td>NaN</td>\n",
       "      <td>NaN</td>\n",
       "      <td>12.677532</td>\n",
       "      <td>80.174116</td>\n",
       "      <td>0.801741</td>\n",
       "      <td>NaN</td>\n",
       "      <td>0.601306</td>\n",
       "      <td>NaN</td>\n",
       "      <td>0.601306</td>\n",
       "      <td>NaN</td>\n",
       "    </tr>\n",
       "    <tr>\n",
       "      <th>max</th>\n",
       "      <td>80.174116</td>\n",
       "      <td>NaN</td>\n",
       "      <td>NaN</td>\n",
       "      <td>NaN</td>\n",
       "      <td>NaN</td>\n",
       "      <td>0.801741</td>\n",
       "      <td>1.803918</td>\n",
       "      <td>NaN</td>\n",
       "      <td>NaN</td>\n",
       "      <td>70.152351</td>\n",
       "      <td>80.174116</td>\n",
       "      <td>0.801741</td>\n",
       "      <td>NaN</td>\n",
       "      <td>5.812623</td>\n",
       "      <td>NaN</td>\n",
       "      <td>3.096854</td>\n",
       "      <td>NaN</td>\n",
       "    </tr>\n",
       "  </tbody>\n",
       "</table>\n",
       "</div>"
      ],
      "text/plain": [
       "             sqkm  LC0  LC1  LC2  LC3        LC4        LC5  LC6  LC7  \\\n",
       "count  241.000000  0.0  0.0  0.0  0.0  11.000000  14.000000  0.0  0.0   \n",
       "mean    80.174116  NaN  NaN  NaN  NaN   0.309764   0.529722  NaN  NaN   \n",
       "std      0.000000  NaN  NaN  NaN  NaN   0.207596   0.482117  NaN  NaN   \n",
       "min     80.174116  NaN  NaN  NaN  NaN   0.200435   0.200435  NaN  NaN   \n",
       "25%     80.174116  NaN  NaN  NaN  NaN   0.200435   0.200435  NaN  NaN   \n",
       "50%     80.174116  NaN  NaN  NaN  NaN   0.200435   0.300653  NaN  NaN   \n",
       "75%     80.174116  NaN  NaN  NaN  NaN   0.300653   0.751632  NaN  NaN   \n",
       "max     80.174116  NaN  NaN  NaN  NaN   0.801741   1.803918  NaN  NaN   \n",
       "\n",
       "             LC8         LC9      LC10  LC11       LC12  LC13       LC14  LC16  \n",
       "count  86.000000  241.000000  1.000000   0.0  42.000000   0.0  22.000000   0.0  \n",
       "mean    9.318226   76.621436  0.801741   NaN   0.725457   NaN   0.578823   NaN  \n",
       "std    13.787101    9.621854       NaN   NaN   1.059642   NaN   0.666079   NaN  \n",
       "min     0.200435    9.220023  0.801741   NaN   0.200435   NaN   0.200435   NaN  \n",
       "25%     0.400871   78.771069  0.801741   NaN   0.200435   NaN   0.200435   NaN  \n",
       "50%     2.605659   80.174116  0.801741   NaN   0.314970   NaN   0.300653   NaN  \n",
       "75%    12.677532   80.174116  0.801741   NaN   0.601306   NaN   0.601306   NaN  \n",
       "max    70.152351   80.174116  0.801741   NaN   5.812623   NaN   3.096854   NaN  "
      ]
     },
     "execution_count": 17,
     "metadata": {},
     "output_type": "execute_result"
    }
   ],
   "source": [
    "clusters.get_group('BENC01')[clust_sum_cols].describe()"
   ]
  },
  {
   "cell_type": "code",
   "execution_count": 18,
   "metadata": {},
   "outputs": [],
   "source": [
    "#variable = \"LC12\"     #  Cropland\n",
    "#\n",
    "#fig, ax = plt.subplots(figsize=(10, 10))\n",
    "#clusters[variable].sum().sort_values(ascending=False).reset_index().plot.bar(ax=ax, \n",
    "#                                                                                                       x='cluster', \n",
    "#                                                                                                       y=variable)\n",
    "#txt = ax.set_title('{} per cluster in Ethiopia'.format(variable))"
   ]
  },
  {
   "cell_type": "markdown",
   "metadata": {},
   "source": [
    "### Interactive graphs"
   ]
  },
  {
   "cell_type": "code",
   "execution_count": 19,
   "metadata": {},
   "outputs": [],
   "source": [
    "# Get cluster names\n",
    "clust_names = list(data_gdf_LCsqkm.cluster.unique())\n",
    "\n",
    "# Explude non clustered data\n",
    "clust_names.remove(\"None\")"
   ]
  },
  {
   "cell_type": "code",
   "execution_count": 23,
   "metadata": {
    "code_folding": []
   },
   "outputs": [
    {
     "data": {
      "application/vnd.plotly.v1+json": {
       "config": {
        "plotlyServerURL": "https://plot.ly"
       },
       "data": [
        {
         "alignmentgroup": "True",
         "hovertemplate": "variable=Sum<br>index=%{x}<br>value=%{y}<extra></extra>",
         "legendgroup": "Sum",
         "marker": {
          "color": "#636efa"
         },
         "name": "Sum",
         "offsetgroup": "Sum",
         "orientation": "v",
         "showlegend": true,
         "textposition": "auto",
         "type": "bar",
         "x": [
          "TIGC02",
          "TIGC01",
          "AFAC02",
          "AFAC01",
          "AMHC02",
          "AMHC01",
          "BENC01",
          "BENC03",
          "BENC02",
          "SOMC03",
          "SOMC01",
          "SOMC02",
          "OROC02",
          "OROC03",
          "OROC01",
          "ADDC01",
          "GAMC01",
          "SOUC01",
          "GAMC02",
          "SOUC02",
          "SOUC03"
         ],
         "xaxis": "x",
         "y": [
          10712.92,
          6978.59,
          2412.88,
          5736.61,
          32514.68,
          29357.96,
          30.47,
          49.02,
          94.41,
          129.29,
          33.41,
          113.85,
          4856.35,
          5620.4,
          17939.96,
          21.05,
          296.2,
          2724.92,
          15.09,
          1063.11,
          1293
         ],
         "yaxis": "y"
        }
       ],
       "layout": {
        "barmode": "relative",
        "legend": {
         "title": {
          "text": "variable"
         },
         "tracegroupgap": 0
        },
        "template": {
         "data": {
          "bar": [
           {
            "error_x": {
             "color": "#2a3f5f"
            },
            "error_y": {
             "color": "#2a3f5f"
            },
            "marker": {
             "line": {
              "color": "#E5ECF6",
              "width": 0.5
             }
            },
            "type": "bar"
           }
          ],
          "barpolar": [
           {
            "marker": {
             "line": {
              "color": "#E5ECF6",
              "width": 0.5
             }
            },
            "type": "barpolar"
           }
          ],
          "carpet": [
           {
            "aaxis": {
             "endlinecolor": "#2a3f5f",
             "gridcolor": "white",
             "linecolor": "white",
             "minorgridcolor": "white",
             "startlinecolor": "#2a3f5f"
            },
            "baxis": {
             "endlinecolor": "#2a3f5f",
             "gridcolor": "white",
             "linecolor": "white",
             "minorgridcolor": "white",
             "startlinecolor": "#2a3f5f"
            },
            "type": "carpet"
           }
          ],
          "choropleth": [
           {
            "colorbar": {
             "outlinewidth": 0,
             "ticks": ""
            },
            "type": "choropleth"
           }
          ],
          "contour": [
           {
            "colorbar": {
             "outlinewidth": 0,
             "ticks": ""
            },
            "colorscale": [
             [
              0,
              "#0d0887"
             ],
             [
              0.1111111111111111,
              "#46039f"
             ],
             [
              0.2222222222222222,
              "#7201a8"
             ],
             [
              0.3333333333333333,
              "#9c179e"
             ],
             [
              0.4444444444444444,
              "#bd3786"
             ],
             [
              0.5555555555555556,
              "#d8576b"
             ],
             [
              0.6666666666666666,
              "#ed7953"
             ],
             [
              0.7777777777777778,
              "#fb9f3a"
             ],
             [
              0.8888888888888888,
              "#fdca26"
             ],
             [
              1,
              "#f0f921"
             ]
            ],
            "type": "contour"
           }
          ],
          "contourcarpet": [
           {
            "colorbar": {
             "outlinewidth": 0,
             "ticks": ""
            },
            "type": "contourcarpet"
           }
          ],
          "heatmap": [
           {
            "colorbar": {
             "outlinewidth": 0,
             "ticks": ""
            },
            "colorscale": [
             [
              0,
              "#0d0887"
             ],
             [
              0.1111111111111111,
              "#46039f"
             ],
             [
              0.2222222222222222,
              "#7201a8"
             ],
             [
              0.3333333333333333,
              "#9c179e"
             ],
             [
              0.4444444444444444,
              "#bd3786"
             ],
             [
              0.5555555555555556,
              "#d8576b"
             ],
             [
              0.6666666666666666,
              "#ed7953"
             ],
             [
              0.7777777777777778,
              "#fb9f3a"
             ],
             [
              0.8888888888888888,
              "#fdca26"
             ],
             [
              1,
              "#f0f921"
             ]
            ],
            "type": "heatmap"
           }
          ],
          "heatmapgl": [
           {
            "colorbar": {
             "outlinewidth": 0,
             "ticks": ""
            },
            "colorscale": [
             [
              0,
              "#0d0887"
             ],
             [
              0.1111111111111111,
              "#46039f"
             ],
             [
              0.2222222222222222,
              "#7201a8"
             ],
             [
              0.3333333333333333,
              "#9c179e"
             ],
             [
              0.4444444444444444,
              "#bd3786"
             ],
             [
              0.5555555555555556,
              "#d8576b"
             ],
             [
              0.6666666666666666,
              "#ed7953"
             ],
             [
              0.7777777777777778,
              "#fb9f3a"
             ],
             [
              0.8888888888888888,
              "#fdca26"
             ],
             [
              1,
              "#f0f921"
             ]
            ],
            "type": "heatmapgl"
           }
          ],
          "histogram": [
           {
            "marker": {
             "colorbar": {
              "outlinewidth": 0,
              "ticks": ""
             }
            },
            "type": "histogram"
           }
          ],
          "histogram2d": [
           {
            "colorbar": {
             "outlinewidth": 0,
             "ticks": ""
            },
            "colorscale": [
             [
              0,
              "#0d0887"
             ],
             [
              0.1111111111111111,
              "#46039f"
             ],
             [
              0.2222222222222222,
              "#7201a8"
             ],
             [
              0.3333333333333333,
              "#9c179e"
             ],
             [
              0.4444444444444444,
              "#bd3786"
             ],
             [
              0.5555555555555556,
              "#d8576b"
             ],
             [
              0.6666666666666666,
              "#ed7953"
             ],
             [
              0.7777777777777778,
              "#fb9f3a"
             ],
             [
              0.8888888888888888,
              "#fdca26"
             ],
             [
              1,
              "#f0f921"
             ]
            ],
            "type": "histogram2d"
           }
          ],
          "histogram2dcontour": [
           {
            "colorbar": {
             "outlinewidth": 0,
             "ticks": ""
            },
            "colorscale": [
             [
              0,
              "#0d0887"
             ],
             [
              0.1111111111111111,
              "#46039f"
             ],
             [
              0.2222222222222222,
              "#7201a8"
             ],
             [
              0.3333333333333333,
              "#9c179e"
             ],
             [
              0.4444444444444444,
              "#bd3786"
             ],
             [
              0.5555555555555556,
              "#d8576b"
             ],
             [
              0.6666666666666666,
              "#ed7953"
             ],
             [
              0.7777777777777778,
              "#fb9f3a"
             ],
             [
              0.8888888888888888,
              "#fdca26"
             ],
             [
              1,
              "#f0f921"
             ]
            ],
            "type": "histogram2dcontour"
           }
          ],
          "mesh3d": [
           {
            "colorbar": {
             "outlinewidth": 0,
             "ticks": ""
            },
            "type": "mesh3d"
           }
          ],
          "parcoords": [
           {
            "line": {
             "colorbar": {
              "outlinewidth": 0,
              "ticks": ""
             }
            },
            "type": "parcoords"
           }
          ],
          "pie": [
           {
            "automargin": true,
            "type": "pie"
           }
          ],
          "scatter": [
           {
            "marker": {
             "colorbar": {
              "outlinewidth": 0,
              "ticks": ""
             }
            },
            "type": "scatter"
           }
          ],
          "scatter3d": [
           {
            "line": {
             "colorbar": {
              "outlinewidth": 0,
              "ticks": ""
             }
            },
            "marker": {
             "colorbar": {
              "outlinewidth": 0,
              "ticks": ""
             }
            },
            "type": "scatter3d"
           }
          ],
          "scattercarpet": [
           {
            "marker": {
             "colorbar": {
              "outlinewidth": 0,
              "ticks": ""
             }
            },
            "type": "scattercarpet"
           }
          ],
          "scattergeo": [
           {
            "marker": {
             "colorbar": {
              "outlinewidth": 0,
              "ticks": ""
             }
            },
            "type": "scattergeo"
           }
          ],
          "scattergl": [
           {
            "marker": {
             "colorbar": {
              "outlinewidth": 0,
              "ticks": ""
             }
            },
            "type": "scattergl"
           }
          ],
          "scattermapbox": [
           {
            "marker": {
             "colorbar": {
              "outlinewidth": 0,
              "ticks": ""
             }
            },
            "type": "scattermapbox"
           }
          ],
          "scatterpolar": [
           {
            "marker": {
             "colorbar": {
              "outlinewidth": 0,
              "ticks": ""
             }
            },
            "type": "scatterpolar"
           }
          ],
          "scatterpolargl": [
           {
            "marker": {
             "colorbar": {
              "outlinewidth": 0,
              "ticks": ""
             }
            },
            "type": "scatterpolargl"
           }
          ],
          "scatterternary": [
           {
            "marker": {
             "colorbar": {
              "outlinewidth": 0,
              "ticks": ""
             }
            },
            "type": "scatterternary"
           }
          ],
          "surface": [
           {
            "colorbar": {
             "outlinewidth": 0,
             "ticks": ""
            },
            "colorscale": [
             [
              0,
              "#0d0887"
             ],
             [
              0.1111111111111111,
              "#46039f"
             ],
             [
              0.2222222222222222,
              "#7201a8"
             ],
             [
              0.3333333333333333,
              "#9c179e"
             ],
             [
              0.4444444444444444,
              "#bd3786"
             ],
             [
              0.5555555555555556,
              "#d8576b"
             ],
             [
              0.6666666666666666,
              "#ed7953"
             ],
             [
              0.7777777777777778,
              "#fb9f3a"
             ],
             [
              0.8888888888888888,
              "#fdca26"
             ],
             [
              1,
              "#f0f921"
             ]
            ],
            "type": "surface"
           }
          ],
          "table": [
           {
            "cells": {
             "fill": {
              "color": "#EBF0F8"
             },
             "line": {
              "color": "white"
             }
            },
            "header": {
             "fill": {
              "color": "#C8D4E3"
             },
             "line": {
              "color": "white"
             }
            },
            "type": "table"
           }
          ]
         },
         "layout": {
          "annotationdefaults": {
           "arrowcolor": "#2a3f5f",
           "arrowhead": 0,
           "arrowwidth": 1
          },
          "coloraxis": {
           "colorbar": {
            "outlinewidth": 0,
            "ticks": ""
           }
          },
          "colorscale": {
           "diverging": [
            [
             0,
             "#8e0152"
            ],
            [
             0.1,
             "#c51b7d"
            ],
            [
             0.2,
             "#de77ae"
            ],
            [
             0.3,
             "#f1b6da"
            ],
            [
             0.4,
             "#fde0ef"
            ],
            [
             0.5,
             "#f7f7f7"
            ],
            [
             0.6,
             "#e6f5d0"
            ],
            [
             0.7,
             "#b8e186"
            ],
            [
             0.8,
             "#7fbc41"
            ],
            [
             0.9,
             "#4d9221"
            ],
            [
             1,
             "#276419"
            ]
           ],
           "sequential": [
            [
             0,
             "#0d0887"
            ],
            [
             0.1111111111111111,
             "#46039f"
            ],
            [
             0.2222222222222222,
             "#7201a8"
            ],
            [
             0.3333333333333333,
             "#9c179e"
            ],
            [
             0.4444444444444444,
             "#bd3786"
            ],
            [
             0.5555555555555556,
             "#d8576b"
            ],
            [
             0.6666666666666666,
             "#ed7953"
            ],
            [
             0.7777777777777778,
             "#fb9f3a"
            ],
            [
             0.8888888888888888,
             "#fdca26"
            ],
            [
             1,
             "#f0f921"
            ]
           ],
           "sequentialminus": [
            [
             0,
             "#0d0887"
            ],
            [
             0.1111111111111111,
             "#46039f"
            ],
            [
             0.2222222222222222,
             "#7201a8"
            ],
            [
             0.3333333333333333,
             "#9c179e"
            ],
            [
             0.4444444444444444,
             "#bd3786"
            ],
            [
             0.5555555555555556,
             "#d8576b"
            ],
            [
             0.6666666666666666,
             "#ed7953"
            ],
            [
             0.7777777777777778,
             "#fb9f3a"
            ],
            [
             0.8888888888888888,
             "#fdca26"
            ],
            [
             1,
             "#f0f921"
            ]
           ]
          },
          "colorway": [
           "#636efa",
           "#EF553B",
           "#00cc96",
           "#ab63fa",
           "#FFA15A",
           "#19d3f3",
           "#FF6692",
           "#B6E880",
           "#FF97FF",
           "#FECB52"
          ],
          "font": {
           "color": "#2a3f5f"
          },
          "geo": {
           "bgcolor": "white",
           "lakecolor": "white",
           "landcolor": "#E5ECF6",
           "showlakes": true,
           "showland": true,
           "subunitcolor": "white"
          },
          "hoverlabel": {
           "align": "left"
          },
          "hovermode": "closest",
          "mapbox": {
           "style": "light"
          },
          "paper_bgcolor": "white",
          "plot_bgcolor": "#E5ECF6",
          "polar": {
           "angularaxis": {
            "gridcolor": "white",
            "linecolor": "white",
            "ticks": ""
           },
           "bgcolor": "#E5ECF6",
           "radialaxis": {
            "gridcolor": "white",
            "linecolor": "white",
            "ticks": ""
           }
          },
          "scene": {
           "xaxis": {
            "backgroundcolor": "#E5ECF6",
            "gridcolor": "white",
            "gridwidth": 2,
            "linecolor": "white",
            "showbackground": true,
            "ticks": "",
            "zerolinecolor": "white"
           },
           "yaxis": {
            "backgroundcolor": "#E5ECF6",
            "gridcolor": "white",
            "gridwidth": 2,
            "linecolor": "white",
            "showbackground": true,
            "ticks": "",
            "zerolinecolor": "white"
           },
           "zaxis": {
            "backgroundcolor": "#E5ECF6",
            "gridcolor": "white",
            "gridwidth": 2,
            "linecolor": "white",
            "showbackground": true,
            "ticks": "",
            "zerolinecolor": "white"
           }
          },
          "shapedefaults": {
           "line": {
            "color": "#2a3f5f"
           }
          },
          "ternary": {
           "aaxis": {
            "gridcolor": "white",
            "linecolor": "white",
            "ticks": ""
           },
           "baxis": {
            "gridcolor": "white",
            "linecolor": "white",
            "ticks": ""
           },
           "bgcolor": "#E5ECF6",
           "caxis": {
            "gridcolor": "white",
            "linecolor": "white",
            "ticks": ""
           }
          },
          "title": {
           "x": 0.05
          },
          "xaxis": {
           "automargin": true,
           "gridcolor": "white",
           "linecolor": "white",
           "ticks": "",
           "title": {
            "standoff": 15
           },
           "zerolinecolor": "white",
           "zerolinewidth": 2
          },
          "yaxis": {
           "automargin": true,
           "gridcolor": "white",
           "linecolor": "white",
           "ticks": "",
           "title": {
            "standoff": 15
           },
           "zerolinecolor": "white",
           "zerolinewidth": 2
          }
         }
        },
        "title": {
         "text": "Dictribution of LC12 over clusters in Ethiopia"
        },
        "xaxis": {
         "anchor": "y",
         "domain": [
          0,
          1
         ],
         "title": {
          "text": "index"
         }
        },
        "yaxis": {
         "anchor": "x",
         "domain": [
          0,
          1
         ],
         "title": {
          "text": "value"
         }
        }
       }
      },
      "text/html": [
       "<div>                            <div id=\"f1ca2d09-c8b7-4624-8dde-6ab3e800b013\" class=\"plotly-graph-div\" style=\"height:525px; width:100%;\"></div>            <script type=\"text/javascript\">                require([\"plotly\"], function(Plotly) {                    window.PLOTLYENV=window.PLOTLYENV || {};                                    if (document.getElementById(\"f1ca2d09-c8b7-4624-8dde-6ab3e800b013\")) {                    Plotly.newPlot(                        \"f1ca2d09-c8b7-4624-8dde-6ab3e800b013\",                        [{\"alignmentgroup\": \"True\", \"hovertemplate\": \"variable=Sum<br>index=%{x}<br>value=%{y}<extra></extra>\", \"legendgroup\": \"Sum\", \"marker\": {\"color\": \"#636efa\"}, \"name\": \"Sum\", \"offsetgroup\": \"Sum\", \"orientation\": \"v\", \"showlegend\": true, \"textposition\": \"auto\", \"type\": \"bar\", \"x\": [\"TIGC02\", \"TIGC01\", \"AFAC02\", \"AFAC01\", \"AMHC02\", \"AMHC01\", \"BENC01\", \"BENC03\", \"BENC02\", \"SOMC03\", \"SOMC01\", \"SOMC02\", \"OROC02\", \"OROC03\", \"OROC01\", \"ADDC01\", \"GAMC01\", \"SOUC01\", \"GAMC02\", \"SOUC02\", \"SOUC03\"], \"xaxis\": \"x\", \"y\": [10712.92, 6978.59, 2412.88, 5736.61, 32514.68, 29357.96, 30.47, 49.02, 94.41, 129.29, 33.41, 113.85, 4856.35, 5620.4, 17939.96, 21.05, 296.2, 2724.92, 15.09, 1063.11, 1293.0], \"yaxis\": \"y\"}],                        {\"barmode\": \"relative\", \"legend\": {\"title\": {\"text\": \"variable\"}, \"tracegroupgap\": 0}, \"template\": {\"data\": {\"bar\": [{\"error_x\": {\"color\": \"#2a3f5f\"}, \"error_y\": {\"color\": \"#2a3f5f\"}, \"marker\": {\"line\": {\"color\": \"#E5ECF6\", \"width\": 0.5}}, \"type\": \"bar\"}], \"barpolar\": [{\"marker\": {\"line\": {\"color\": \"#E5ECF6\", \"width\": 0.5}}, \"type\": \"barpolar\"}], \"carpet\": [{\"aaxis\": {\"endlinecolor\": \"#2a3f5f\", \"gridcolor\": \"white\", \"linecolor\": \"white\", \"minorgridcolor\": \"white\", \"startlinecolor\": \"#2a3f5f\"}, \"baxis\": {\"endlinecolor\": \"#2a3f5f\", \"gridcolor\": \"white\", \"linecolor\": \"white\", \"minorgridcolor\": \"white\", \"startlinecolor\": \"#2a3f5f\"}, \"type\": \"carpet\"}], \"choropleth\": [{\"colorbar\": {\"outlinewidth\": 0, \"ticks\": \"\"}, \"type\": \"choropleth\"}], \"contour\": [{\"colorbar\": {\"outlinewidth\": 0, \"ticks\": \"\"}, \"colorscale\": [[0.0, \"#0d0887\"], [0.1111111111111111, \"#46039f\"], [0.2222222222222222, \"#7201a8\"], [0.3333333333333333, \"#9c179e\"], [0.4444444444444444, \"#bd3786\"], [0.5555555555555556, \"#d8576b\"], [0.6666666666666666, \"#ed7953\"], [0.7777777777777778, \"#fb9f3a\"], [0.8888888888888888, \"#fdca26\"], [1.0, \"#f0f921\"]], \"type\": \"contour\"}], \"contourcarpet\": [{\"colorbar\": {\"outlinewidth\": 0, \"ticks\": \"\"}, \"type\": \"contourcarpet\"}], \"heatmap\": [{\"colorbar\": {\"outlinewidth\": 0, \"ticks\": \"\"}, \"colorscale\": [[0.0, \"#0d0887\"], [0.1111111111111111, \"#46039f\"], [0.2222222222222222, \"#7201a8\"], [0.3333333333333333, \"#9c179e\"], [0.4444444444444444, \"#bd3786\"], [0.5555555555555556, \"#d8576b\"], [0.6666666666666666, \"#ed7953\"], [0.7777777777777778, \"#fb9f3a\"], [0.8888888888888888, \"#fdca26\"], [1.0, \"#f0f921\"]], \"type\": \"heatmap\"}], \"heatmapgl\": [{\"colorbar\": {\"outlinewidth\": 0, \"ticks\": \"\"}, \"colorscale\": [[0.0, \"#0d0887\"], [0.1111111111111111, \"#46039f\"], [0.2222222222222222, \"#7201a8\"], [0.3333333333333333, \"#9c179e\"], [0.4444444444444444, \"#bd3786\"], [0.5555555555555556, \"#d8576b\"], [0.6666666666666666, \"#ed7953\"], [0.7777777777777778, \"#fb9f3a\"], [0.8888888888888888, \"#fdca26\"], [1.0, \"#f0f921\"]], \"type\": \"heatmapgl\"}], \"histogram\": [{\"marker\": {\"colorbar\": {\"outlinewidth\": 0, \"ticks\": \"\"}}, \"type\": \"histogram\"}], \"histogram2d\": [{\"colorbar\": {\"outlinewidth\": 0, \"ticks\": \"\"}, \"colorscale\": [[0.0, \"#0d0887\"], [0.1111111111111111, \"#46039f\"], [0.2222222222222222, \"#7201a8\"], [0.3333333333333333, \"#9c179e\"], [0.4444444444444444, \"#bd3786\"], [0.5555555555555556, \"#d8576b\"], [0.6666666666666666, \"#ed7953\"], [0.7777777777777778, \"#fb9f3a\"], [0.8888888888888888, \"#fdca26\"], [1.0, \"#f0f921\"]], \"type\": \"histogram2d\"}], \"histogram2dcontour\": [{\"colorbar\": {\"outlinewidth\": 0, \"ticks\": \"\"}, \"colorscale\": [[0.0, \"#0d0887\"], [0.1111111111111111, \"#46039f\"], [0.2222222222222222, \"#7201a8\"], [0.3333333333333333, \"#9c179e\"], [0.4444444444444444, \"#bd3786\"], [0.5555555555555556, \"#d8576b\"], [0.6666666666666666, \"#ed7953\"], [0.7777777777777778, \"#fb9f3a\"], [0.8888888888888888, \"#fdca26\"], [1.0, \"#f0f921\"]], \"type\": \"histogram2dcontour\"}], \"mesh3d\": [{\"colorbar\": {\"outlinewidth\": 0, \"ticks\": \"\"}, \"type\": \"mesh3d\"}], \"parcoords\": [{\"line\": {\"colorbar\": {\"outlinewidth\": 0, \"ticks\": \"\"}}, \"type\": \"parcoords\"}], \"pie\": [{\"automargin\": true, \"type\": \"pie\"}], \"scatter\": [{\"marker\": {\"colorbar\": {\"outlinewidth\": 0, \"ticks\": \"\"}}, \"type\": \"scatter\"}], \"scatter3d\": [{\"line\": {\"colorbar\": {\"outlinewidth\": 0, \"ticks\": \"\"}}, \"marker\": {\"colorbar\": {\"outlinewidth\": 0, \"ticks\": \"\"}}, \"type\": \"scatter3d\"}], \"scattercarpet\": [{\"marker\": {\"colorbar\": {\"outlinewidth\": 0, \"ticks\": \"\"}}, \"type\": \"scattercarpet\"}], \"scattergeo\": [{\"marker\": {\"colorbar\": {\"outlinewidth\": 0, \"ticks\": \"\"}}, \"type\": \"scattergeo\"}], \"scattergl\": [{\"marker\": {\"colorbar\": {\"outlinewidth\": 0, \"ticks\": \"\"}}, \"type\": \"scattergl\"}], \"scattermapbox\": [{\"marker\": {\"colorbar\": {\"outlinewidth\": 0, \"ticks\": \"\"}}, \"type\": \"scattermapbox\"}], \"scatterpolar\": [{\"marker\": {\"colorbar\": {\"outlinewidth\": 0, \"ticks\": \"\"}}, \"type\": \"scatterpolar\"}], \"scatterpolargl\": [{\"marker\": {\"colorbar\": {\"outlinewidth\": 0, \"ticks\": \"\"}}, \"type\": \"scatterpolargl\"}], \"scatterternary\": [{\"marker\": {\"colorbar\": {\"outlinewidth\": 0, \"ticks\": \"\"}}, \"type\": \"scatterternary\"}], \"surface\": [{\"colorbar\": {\"outlinewidth\": 0, \"ticks\": \"\"}, \"colorscale\": [[0.0, \"#0d0887\"], [0.1111111111111111, \"#46039f\"], [0.2222222222222222, \"#7201a8\"], [0.3333333333333333, \"#9c179e\"], [0.4444444444444444, \"#bd3786\"], [0.5555555555555556, \"#d8576b\"], [0.6666666666666666, \"#ed7953\"], [0.7777777777777778, \"#fb9f3a\"], [0.8888888888888888, \"#fdca26\"], [1.0, \"#f0f921\"]], \"type\": \"surface\"}], \"table\": [{\"cells\": {\"fill\": {\"color\": \"#EBF0F8\"}, \"line\": {\"color\": \"white\"}}, \"header\": {\"fill\": {\"color\": \"#C8D4E3\"}, \"line\": {\"color\": \"white\"}}, \"type\": \"table\"}]}, \"layout\": {\"annotationdefaults\": {\"arrowcolor\": \"#2a3f5f\", \"arrowhead\": 0, \"arrowwidth\": 1}, \"coloraxis\": {\"colorbar\": {\"outlinewidth\": 0, \"ticks\": \"\"}}, \"colorscale\": {\"diverging\": [[0, \"#8e0152\"], [0.1, \"#c51b7d\"], [0.2, \"#de77ae\"], [0.3, \"#f1b6da\"], [0.4, \"#fde0ef\"], [0.5, \"#f7f7f7\"], [0.6, \"#e6f5d0\"], [0.7, \"#b8e186\"], [0.8, \"#7fbc41\"], [0.9, \"#4d9221\"], [1, \"#276419\"]], \"sequential\": [[0.0, \"#0d0887\"], [0.1111111111111111, \"#46039f\"], [0.2222222222222222, \"#7201a8\"], [0.3333333333333333, \"#9c179e\"], [0.4444444444444444, \"#bd3786\"], [0.5555555555555556, \"#d8576b\"], [0.6666666666666666, \"#ed7953\"], [0.7777777777777778, \"#fb9f3a\"], [0.8888888888888888, \"#fdca26\"], [1.0, \"#f0f921\"]], \"sequentialminus\": [[0.0, \"#0d0887\"], [0.1111111111111111, \"#46039f\"], [0.2222222222222222, \"#7201a8\"], [0.3333333333333333, \"#9c179e\"], [0.4444444444444444, \"#bd3786\"], [0.5555555555555556, \"#d8576b\"], [0.6666666666666666, \"#ed7953\"], [0.7777777777777778, \"#fb9f3a\"], [0.8888888888888888, \"#fdca26\"], [1.0, \"#f0f921\"]]}, \"colorway\": [\"#636efa\", \"#EF553B\", \"#00cc96\", \"#ab63fa\", \"#FFA15A\", \"#19d3f3\", \"#FF6692\", \"#B6E880\", \"#FF97FF\", \"#FECB52\"], \"font\": {\"color\": \"#2a3f5f\"}, \"geo\": {\"bgcolor\": \"white\", \"lakecolor\": \"white\", \"landcolor\": \"#E5ECF6\", \"showlakes\": true, \"showland\": true, \"subunitcolor\": \"white\"}, \"hoverlabel\": {\"align\": \"left\"}, \"hovermode\": \"closest\", \"mapbox\": {\"style\": \"light\"}, \"paper_bgcolor\": \"white\", \"plot_bgcolor\": \"#E5ECF6\", \"polar\": {\"angularaxis\": {\"gridcolor\": \"white\", \"linecolor\": \"white\", \"ticks\": \"\"}, \"bgcolor\": \"#E5ECF6\", \"radialaxis\": {\"gridcolor\": \"white\", \"linecolor\": \"white\", \"ticks\": \"\"}}, \"scene\": {\"xaxis\": {\"backgroundcolor\": \"#E5ECF6\", \"gridcolor\": \"white\", \"gridwidth\": 2, \"linecolor\": \"white\", \"showbackground\": true, \"ticks\": \"\", \"zerolinecolor\": \"white\"}, \"yaxis\": {\"backgroundcolor\": \"#E5ECF6\", \"gridcolor\": \"white\", \"gridwidth\": 2, \"linecolor\": \"white\", \"showbackground\": true, \"ticks\": \"\", \"zerolinecolor\": \"white\"}, \"zaxis\": {\"backgroundcolor\": \"#E5ECF6\", \"gridcolor\": \"white\", \"gridwidth\": 2, \"linecolor\": \"white\", \"showbackground\": true, \"ticks\": \"\", \"zerolinecolor\": \"white\"}}, \"shapedefaults\": {\"line\": {\"color\": \"#2a3f5f\"}}, \"ternary\": {\"aaxis\": {\"gridcolor\": \"white\", \"linecolor\": \"white\", \"ticks\": \"\"}, \"baxis\": {\"gridcolor\": \"white\", \"linecolor\": \"white\", \"ticks\": \"\"}, \"bgcolor\": \"#E5ECF6\", \"caxis\": {\"gridcolor\": \"white\", \"linecolor\": \"white\", \"ticks\": \"\"}}, \"title\": {\"x\": 0.05}, \"xaxis\": {\"automargin\": true, \"gridcolor\": \"white\", \"linecolor\": \"white\", \"ticks\": \"\", \"title\": {\"standoff\": 15}, \"zerolinecolor\": \"white\", \"zerolinewidth\": 2}, \"yaxis\": {\"automargin\": true, \"gridcolor\": \"white\", \"linecolor\": \"white\", \"ticks\": \"\", \"title\": {\"standoff\": 15}, \"zerolinecolor\": \"white\", \"zerolinewidth\": 2}}}, \"title\": {\"text\": \"Dictribution of LC12 over clusters in Ethiopia\"}, \"xaxis\": {\"anchor\": \"y\", \"domain\": [0.0, 1.0], \"title\": {\"text\": \"index\"}}, \"yaxis\": {\"anchor\": \"x\", \"domain\": [0.0, 1.0], \"title\": {\"text\": \"value\"}}},                        {\"responsive\": true}                    ).then(function(){\n",
       "                            \n",
       "var gd = document.getElementById('f1ca2d09-c8b7-4624-8dde-6ab3e800b013');\n",
       "var x = new MutationObserver(function (mutations, observer) {{\n",
       "        var display = window.getComputedStyle(gd).display;\n",
       "        if (!display || display === 'none') {{\n",
       "            console.log([gd, 'removed!']);\n",
       "            Plotly.purge(gd);\n",
       "            observer.disconnect();\n",
       "        }}\n",
       "}});\n",
       "\n",
       "// Listen for the removal of the full notebook cells\n",
       "var notebookContainer = gd.closest('#notebook-container');\n",
       "if (notebookContainer) {{\n",
       "    x.observe(notebookContainer, {childList: true});\n",
       "}}\n",
       "\n",
       "// Listen for the clearing of the current output cell\n",
       "var outputEl = gd.closest('.output');\n",
       "if (outputEl) {{\n",
       "    x.observe(outputEl, {childList: true});\n",
       "}}\n",
       "\n",
       "                        })                };                });            </script>        </div>"
      ]
     },
     "metadata": {},
     "output_type": "display_data"
    }
   ],
   "source": [
    "# Create a dictionary that includes the name of the clusters and a selected parameter\n",
    "clust_dict = dict.fromkeys(clust_names, 1)\n",
    "\n",
    "# Update the values based on parameter\n",
    "parameter = \"LC12\"                        # This is the column you want to include in the graph\n",
    "\n",
    "for key, value in clust_dict.items():\n",
    "    clust_dict[key] = round(clusters.get_group(key)[parameter].sum(),2)   # Note that this calculates the sum, change if needed\n",
    "\n",
    "fig_Cluster = px.bar(pd.DataFrame.from_dict(clust_dict, orient='index', columns=['Sum']), title=\"Dictribution of {} over clusters in Ethiopia\".format(parameter))\n",
    "fig_Cluster.show()"
   ]
  },
  {
   "cell_type": "code",
   "execution_count": 21,
   "metadata": {},
   "outputs": [],
   "source": [
    "fig_Cluster.write_html(\"Total area (sqkm) per cluster.html\")"
   ]
  },
  {
   "cell_type": "markdown",
   "metadata": {},
   "source": [
    "### Export data - tables - summary - graphs as needed"
   ]
  },
  {
   "cell_type": "code",
   "execution_count": 22,
   "metadata": {},
   "outputs": [],
   "source": [
    "#data_gdf_clusters.to_csv(\"testFun.csv\")"
   ]
  }
 ],
 "metadata": {
  "kernelspec": {
   "display_name": "Python 3",
   "language": "python",
   "name": "python3"
  },
  "language_info": {
   "codemirror_mode": {
    "name": "ipython",
    "version": 3
   },
   "file_extension": ".py",
   "mimetype": "text/x-python",
   "name": "python",
   "nbconvert_exporter": "python",
   "pygments_lexer": "ipython3",
   "version": "3.8.5"
  }
 },
 "nbformat": 4,
 "nbformat_minor": 4
}
