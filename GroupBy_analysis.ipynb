{
 "cells": [
  {
   "cell_type": "markdown",
   "metadata": {},
   "source": [
    "# Analysis of results using GroupBy function per cluster"
   ]
  },
  {
   "cell_type": "code",
   "execution_count": 27,
   "metadata": {},
   "outputs": [],
   "source": [
    "# Numerical\n",
    "import numpy as np\n",
    "import pandas as pd\n",
    "\n",
    "# System & Other\n",
    "import os\n",
    "\n",
    "# Spatial\n",
    "import geopandas as gpd\n",
    "\n",
    "#Plotting\n",
    "import plotly.graph_objects as go\n",
    "import plotly.express as px\n",
    "from IPython.display import display, Markdown, HTML\n",
    "import matplotlib.pyplot as plt\n",
    "%matplotlib inline"
   ]
  },
  {
   "cell_type": "code",
   "execution_count": 32,
   "metadata": {},
   "outputs": [],
   "source": [
    "# Directories\n",
    "ROOT_DIR = os.path.abspath(os.curdir)\n",
    "in_path = os.path.join(ROOT_DIR, 'sample_input')\n",
    "out_path = os.path.join(ROOT_DIR, 'sample_output')\n",
    "\n",
    "shp_nm = \"Ethiopia_vector_clusters_with_attributes.gpkg\""
   ]
  },
  {
   "cell_type": "code",
   "execution_count": 33,
   "metadata": {},
   "outputs": [],
   "source": [
    "# Create a new geo-dataframe\n",
    "data_gdf = gpd.read_file(out_path + \"\\\\\" + shp_nm)"
   ]
  },
  {
   "cell_type": "code",
   "execution_count": 34,
   "metadata": {
    "code_folding": [
     0
    ]
   },
   "outputs": [],
   "source": [
    "def calc_LC_sqkm(df, col_list):\n",
    "    \"\"\" \n",
    "    This function takes the df where the LC type for different classes is provided per location (row).\n",
    "    It adds all pixels per location; then is calculates the ratio of LC class in each location (% of total).\n",
    "    Finally is estimates the area per LC type in each location by multiplying with the total area each row represents.\n",
    "    \n",
    "    INPUT: \n",
    "    df -> Pandas dataframe with LC type classification \n",
    "    col_list -> list of columns to include in the summary (e.g. LC0-LC16)\n",
    "    \n",
    "    OUTPUT: Updated dataframe with estimated area (sqkm) of LC types per row\n",
    "    \"\"\"\n",
    "    df[\"LC_sum\"] = df[col_list].sum(axis=1)\n",
    "    for col in col_list:\n",
    "        df[col] = df[col]/df[\"LC_sum\"]*df[\"sqkm\"]\n",
    "    \n",
    "    return df"
   ]
  },
  {
   "cell_type": "code",
   "execution_count": 35,
   "metadata": {
    "code_folding": []
   },
   "outputs": [],
   "source": [
    "lc_cols = ['LC0', 'LC1', 'LC2', 'LC3', 'LC4', 'LC5', 'LC6', 'LC7', 'LC8', \n",
    "           'LC9', 'LC10','LC11','LC12', 'LC13', 'LC14', 'LC16' ]"
   ]
  },
  {
   "cell_type": "code",
   "execution_count": 36,
   "metadata": {},
   "outputs": [],
   "source": [
    "data_gdf_LCsqkm = calc_LC_sqkm(data_gdf, lc_cols)"
   ]
  },
  {
   "cell_type": "markdown",
   "metadata": {},
   "source": [
    "## Global summaries"
   ]
  },
  {
   "cell_type": "code",
   "execution_count": 37,
   "metadata": {
    "code_folding": [
     0
    ]
   },
   "outputs": [],
   "source": [
    "sum_cols = ['sqkm', 'WTD','LC0', 'LC1', 'LC2', 'LC3', 'LC4', 'LC5', 'LC6', 'LC7','LC8', 'LC9', 'LC10', 'LC11', 'LC12', \n",
    "            'LC13', 'LC14', 'LC15', 'LC16']\n",
    "\n",
    "sum_rows = ['sum', 'mean', 'min', 'max']"
   ]
  },
  {
   "cell_type": "code",
   "execution_count": 38,
   "metadata": {},
   "outputs": [],
   "source": [
    "summary_table = pd.DataFrame(index=sum_rows, columns=sum_cols)"
   ]
  },
  {
   "cell_type": "code",
   "execution_count": 39,
   "metadata": {
    "code_folding": []
   },
   "outputs": [],
   "source": [
    "# sqkm\n",
    "summary_table.sqkm[0] = round(data_gdf_LCsqkm.sqkm.sum(),2)\n",
    "summary_table.sqkm[1] = round(data_gdf_LCsqkm.sqkm.mean(),2)\n",
    "summary_table.sqkm[2] = round(data_gdf_LCsqkm.sqkm.min(),2)\n",
    "summary_table.sqkm[3] = round(data_gdf_LCsqkm.sqkm.max(),2)\n",
    "\n",
    "# Water Table Depth\n",
    "summary_table.WTD[0] = \"NaN\"\n",
    "summary_table.WTD[1] = round(data_gdf_LCsqkm.WTDmean.mean(),2)\n",
    "summary_table.WTD[2] = round(data_gdf_LCsqkm.WTDmean.min(),2)\n",
    "summary_table.WTD[3] = round(data_gdf_LCsqkm.WTDmean.max(),2)\n",
    "\n",
    "# LC0 - Water\n",
    "summary_table.LC0[0] = round(data_gdf_LCsqkm.LC0.sum(),2)\n",
    "summary_table.LC0[1] = round(data_gdf_LCsqkm.LC0.mean(),2)\n",
    "summary_table.LC0[2] = round(data_gdf_LCsqkm.LC0.min(),2)\n",
    "summary_table.LC0[3] = round(data_gdf_LCsqkm.LC0.max(),2)\n",
    "\n",
    "# LC1 - Evergreen Needleleaf Forest\n",
    "summary_table.LC1[0] = round(data_gdf_LCsqkm.LC1.sum(),2)\n",
    "summary_table.LC1[1] = round(data_gdf_LCsqkm.LC1.mean(),2)\n",
    "summary_table.LC1[2] = round(data_gdf_LCsqkm.LC1.min(),2)\n",
    "summary_table.LC1[3] = round(data_gdf_LCsqkm.LC1.max(),2)\n",
    "\n",
    "# LC2 - Evergreen Broadleaf Forest\n",
    "summary_table.LC2[0] = round(data_gdf_LCsqkm.LC2.sum(),2)\n",
    "summary_table.LC2[1] = round(data_gdf_LCsqkm.LC2.mean(),2)\n",
    "summary_table.LC2[2] = round(data_gdf_LCsqkm.LC2.min(),2)\n",
    "summary_table.LC2[3] = round(data_gdf_LCsqkm.LC2.max(),2)\n",
    "\n",
    "# LC3 - Deciduous Needleleaf Forest\n",
    "summary_table.LC3[0] = round(data_gdf_LCsqkm.LC3.sum(),2)\n",
    "summary_table.LC3[1] = round(data_gdf_LCsqkm.LC3.mean(),2)\n",
    "summary_table.LC3[2] = round(data_gdf_LCsqkm.LC3.min(),2)\n",
    "summary_table.LC3[3] = round(data_gdf_LCsqkm.LC3.max(),2)\n",
    "\n",
    "# LC4 - Deciduous Broadleaf Forest\n",
    "summary_table.LC4[0] = round(data_gdf_LCsqkm.LC4.sum(),2)\n",
    "summary_table.LC4[1] = round(data_gdf_LCsqkm.LC4.mean(),2)\n",
    "summary_table.LC4[2] = round(data_gdf_LCsqkm.LC4.min(),2)\n",
    "summary_table.LC4[3] = round(data_gdf_LCsqkm.LC4.max(),2)\n",
    "\n",
    "# LC5 - Mixed Forests\n",
    "summary_table.LC5[0] = round(data_gdf_LCsqkm.LC5.sum(),2)\n",
    "summary_table.LC5[1] = round(data_gdf_LCsqkm.LC5.mean(),2)\n",
    "summary_table.LC5[2] = round(data_gdf_LCsqkm.LC5.min(),2)\n",
    "summary_table.LC5[3] = round(data_gdf_LCsqkm.LC5.max(),2)\n",
    "\n",
    "# LC6 - Mixed Forests\n",
    "summary_table.LC6[0] = round(data_gdf_LCsqkm.LC6.sum(),2)\n",
    "summary_table.LC6[1] = round(data_gdf_LCsqkm.LC6.mean(),2)\n",
    "summary_table.LC6[2] = round(data_gdf_LCsqkm.LC6.min(),2)\n",
    "summary_table.LC6[3] = round(data_gdf_LCsqkm.LC6.max(),2)\n",
    "\n",
    "# LC7 - Open Shrublands\n",
    "summary_table.LC7[0] = round(data_gdf_LCsqkm.LC7.sum(),2)\n",
    "summary_table.LC7[1] = round(data_gdf_LCsqkm.LC7.mean(),2)\n",
    "summary_table.LC7[2] = round(data_gdf_LCsqkm.LC7.min(),2)\n",
    "summary_table.LC7[3] = round(data_gdf_LCsqkm.LC7.max(),2)\n",
    "\n",
    "# LC8 - Woody Savannas\n",
    "summary_table.LC8[0] = round(data_gdf_LCsqkm.LC8.sum(),2)\n",
    "summary_table.LC8[1] = round(data_gdf_LCsqkm.LC8.mean(),2)\n",
    "summary_table.LC8[2] = round(data_gdf_LCsqkm.LC8.min(),2)\n",
    "summary_table.LC8[3] = round(data_gdf_LCsqkm.LC8.max(),2)\n",
    "\n",
    "# LC9 - Savannas\n",
    "summary_table.LC9[0] = round(data_gdf_LCsqkm.LC9.sum(),2)\n",
    "summary_table.LC9[1] = round(data_gdf_LCsqkm.LC9.mean(),2)\n",
    "summary_table.LC9[2] = round(data_gdf_LCsqkm.LC9.min(),2)\n",
    "summary_table.LC9[3] = round(data_gdf_LCsqkm.LC9.max(),2)\n",
    "\n",
    "# LC10 - Grasslands\n",
    "summary_table.LC10[0] = round(data_gdf_LCsqkm.LC10.sum(),2)\n",
    "summary_table.LC10[1] = round(data_gdf_LCsqkm.LC10.mean(),2)\n",
    "summary_table.LC10[2] = round(data_gdf_LCsqkm.LC10.min(),2)\n",
    "summary_table.LC10[3] = round(data_gdf_LCsqkm.LC10.max(),2)\n",
    "\n",
    "# LC11 - Permanent Wetlands\n",
    "summary_table.LC11[0] = round(data_gdf_LCsqkm.LC11.sum(),2)\n",
    "summary_table.LC11[1] = round(data_gdf_LCsqkm.LC11.mean(),2)\n",
    "summary_table.LC11[2] = round(data_gdf_LCsqkm.LC11.min(),2)\n",
    "summary_table.LC11[3] = round(data_gdf_LCsqkm.LC11.max(),2)\n",
    "\n",
    "# LC12 - Croplands\n",
    "summary_table.LC12[0] = round(data_gdf_LCsqkm.LC12.sum(),2)\n",
    "summary_table.LC12[1] = round(data_gdf_LCsqkm.LC12.mean(),2)\n",
    "summary_table.LC12[2] = round(data_gdf_LCsqkm.LC12.min(),2)\n",
    "summary_table.LC12[3] = round(data_gdf_LCsqkm.LC12.max(),2)\n",
    "\n",
    "# LC13 - Urban and Built-Up\n",
    "summary_table.LC13[0] = round(data_gdf_LCsqkm.LC13.sum(),2)\n",
    "summary_table.LC13[1] = round(data_gdf_LCsqkm.LC13.mean(),2)\n",
    "summary_table.LC13[2] = round(data_gdf_LCsqkm.LC13.min(),2)\n",
    "summary_table.LC13[3] = round(data_gdf_LCsqkm.LC13.max(),2)\n",
    "\n",
    "# LC14 - Cropland/Natural Vegetation Mosaic\n",
    "summary_table.LC14[0] = round(data_gdf_LCsqkm.LC14.sum(),2)\n",
    "summary_table.LC14[1] = round(data_gdf_LCsqkm.LC14.mean(),2)\n",
    "summary_table.LC14[2] = round(data_gdf_LCsqkm.LC14.min(),2)\n",
    "summary_table.LC14[3] = round(data_gdf_LCsqkm.LC14.max(),2)\n",
    "\n",
    "# LC15 - Snow and Ice\n",
    "summary_table.LC15[0] = \"NaN\"\n",
    "summary_table.LC15[1] = \"NaN\"\n",
    "summary_table.LC15[2] = \"NaN\"\n",
    "summary_table.LC15[3] = \"NaN\"\n",
    "\n",
    "# LC16 - Snow and Ice\n",
    "summary_table.LC16[0] = round(data_gdf_LCsqkm.LC16.sum(),2)\n",
    "summary_table.LC16[1] = round(data_gdf_LCsqkm.LC16.mean(),2)\n",
    "summary_table.LC16[2] = round(data_gdf_LCsqkm.LC16.min(),2)\n",
    "summary_table.LC16[3] = round(data_gdf_LCsqkm.LC16.max(),2)"
   ]
  },
  {
   "cell_type": "code",
   "execution_count": 40,
   "metadata": {},
   "outputs": [
    {
     "data": {
      "text/markdown": [
       "### Country Summary \n",
       " These are the summarized results for Ethiopia"
      ],
      "text/plain": [
       "<IPython.core.display.Markdown object>"
      ]
     },
     "metadata": {},
     "output_type": "display_data"
    },
    {
     "data": {
      "text/html": [
       "<div>\n",
       "<style scoped>\n",
       "    .dataframe tbody tr th:only-of-type {\n",
       "        vertical-align: middle;\n",
       "    }\n",
       "\n",
       "    .dataframe tbody tr th {\n",
       "        vertical-align: top;\n",
       "    }\n",
       "\n",
       "    .dataframe thead th {\n",
       "        text-align: right;\n",
       "    }\n",
       "</style>\n",
       "<table border=\"1\" class=\"dataframe\">\n",
       "  <thead>\n",
       "    <tr style=\"text-align: right;\">\n",
       "      <th></th>\n",
       "      <th>sqkm</th>\n",
       "      <th>WTD</th>\n",
       "      <th>LC0</th>\n",
       "      <th>LC1</th>\n",
       "      <th>LC2</th>\n",
       "      <th>LC3</th>\n",
       "      <th>LC4</th>\n",
       "      <th>LC5</th>\n",
       "      <th>LC6</th>\n",
       "      <th>LC7</th>\n",
       "      <th>LC8</th>\n",
       "      <th>LC9</th>\n",
       "      <th>LC10</th>\n",
       "      <th>LC11</th>\n",
       "      <th>LC12</th>\n",
       "      <th>LC13</th>\n",
       "      <th>LC14</th>\n",
       "      <th>LC15</th>\n",
       "      <th>LC16</th>\n",
       "    </tr>\n",
       "  </thead>\n",
       "  <tbody>\n",
       "    <tr>\n",
       "      <th>sum</th>\n",
       "      <td>1.13233e+06</td>\n",
       "      <td>NaN</td>\n",
       "      <td>6245.23</td>\n",
       "      <td>0.21</td>\n",
       "      <td>28762.2</td>\n",
       "      <td>7.56</td>\n",
       "      <td>1337.15</td>\n",
       "      <td>1072.09</td>\n",
       "      <td>31798.6</td>\n",
       "      <td>312018</td>\n",
       "      <td>104542</td>\n",
       "      <td>165110</td>\n",
       "      <td>168541</td>\n",
       "      <td>926.69</td>\n",
       "      <td>127635</td>\n",
       "      <td>736.14</td>\n",
       "      <td>117277</td>\n",
       "      <td>NaN</td>\n",
       "      <td>66318.8</td>\n",
       "    </tr>\n",
       "    <tr>\n",
       "      <th>mean</th>\n",
       "      <td>82.35</td>\n",
       "      <td>42.61</td>\n",
       "      <td>30.76</td>\n",
       "      <td>0.21</td>\n",
       "      <td>25.23</td>\n",
       "      <td>0.33</td>\n",
       "      <td>1.81</td>\n",
       "      <td>1.04</td>\n",
       "      <td>16.82</td>\n",
       "      <td>45.12</td>\n",
       "      <td>20.54</td>\n",
       "      <td>25.05</td>\n",
       "      <td>22.61</td>\n",
       "      <td>1.63</td>\n",
       "      <td>18.9</td>\n",
       "      <td>2.46</td>\n",
       "      <td>16.07</td>\n",
       "      <td>NaN</td>\n",
       "      <td>30.14</td>\n",
       "    </tr>\n",
       "    <tr>\n",
       "      <th>min</th>\n",
       "      <td>0</td>\n",
       "      <td>0</td>\n",
       "      <td>0.17</td>\n",
       "      <td>0.21</td>\n",
       "      <td>0.19</td>\n",
       "      <td>0.19</td>\n",
       "      <td>0.18</td>\n",
       "      <td>0.15</td>\n",
       "      <td>0.01</td>\n",
       "      <td>0</td>\n",
       "      <td>0.18</td>\n",
       "      <td>0</td>\n",
       "      <td>0.01</td>\n",
       "      <td>0.19</td>\n",
       "      <td>0.08</td>\n",
       "      <td>0.13</td>\n",
       "      <td>0.03</td>\n",
       "      <td>NaN</td>\n",
       "      <td>0</td>\n",
       "    </tr>\n",
       "    <tr>\n",
       "      <th>max</th>\n",
       "      <td>84.53</td>\n",
       "      <td>149.42</td>\n",
       "      <td>84.53</td>\n",
       "      <td>0.21</td>\n",
       "      <td>84.53</td>\n",
       "      <td>1.73</td>\n",
       "      <td>31.7</td>\n",
       "      <td>15.85</td>\n",
       "      <td>84.11</td>\n",
       "      <td>84.53</td>\n",
       "      <td>84.53</td>\n",
       "      <td>84.53</td>\n",
       "      <td>84.53</td>\n",
       "      <td>39.05</td>\n",
       "      <td>84.53</td>\n",
       "      <td>47.55</td>\n",
       "      <td>84.53</td>\n",
       "      <td>NaN</td>\n",
       "      <td>84.53</td>\n",
       "    </tr>\n",
       "  </tbody>\n",
       "</table>\n",
       "</div>"
      ],
      "text/plain": [
       "             sqkm     WTD      LC0   LC1      LC2   LC3      LC4      LC5  \\\n",
       "sum   1.13233e+06     NaN  6245.23  0.21  28762.2  7.56  1337.15  1072.09   \n",
       "mean        82.35   42.61    30.76  0.21    25.23  0.33     1.81     1.04   \n",
       "min             0       0     0.17  0.21     0.19  0.19     0.18     0.15   \n",
       "max         84.53  149.42    84.53  0.21    84.53  1.73     31.7    15.85   \n",
       "\n",
       "          LC6     LC7     LC8     LC9    LC10    LC11    LC12    LC13    LC14  \\\n",
       "sum   31798.6  312018  104542  165110  168541  926.69  127635  736.14  117277   \n",
       "mean    16.82   45.12   20.54   25.05   22.61    1.63    18.9    2.46   16.07   \n",
       "min      0.01       0    0.18       0    0.01    0.19    0.08    0.13    0.03   \n",
       "max     84.11   84.53   84.53   84.53   84.53   39.05   84.53   47.55   84.53   \n",
       "\n",
       "     LC15     LC16  \n",
       "sum   NaN  66318.8  \n",
       "mean  NaN    30.14  \n",
       "min   NaN        0  \n",
       "max   NaN    84.53  "
      ]
     },
     "metadata": {},
     "output_type": "display_data"
    },
    {
     "data": {
      "text/markdown": [
       "### Class Description \n",
       " ##### Percentage \n",
       " LC0 - Water \n",
       "\n",
       " LC1 - Evergreen Needleleaf Forest \n",
       "\n",
       " LC2 - Evergreen Broadleaf Forest \n",
       "\n",
       "  LC3 - Deciduous Needleleaf Forest \n",
       "\n",
       " LC4 - Deciduous Broadleaf Forest \n",
       "\n",
       " LC5 - Mixed Forests \n",
       "\n",
       " LC6 - Closed Shrublands \n",
       "\n",
       " LC7 - Open Shrublands \n",
       "\n",
       " LC8 - Woody Savannas \n",
       "\n",
       " LC9 - Savannas \n",
       "\n",
       " LC10 - Grasslands \n",
       "\n",
       " LC11 - Permanent Wetlands \n",
       "\n",
       " LC12 - Croplands \n",
       "\n",
       " LC13 - Urban and Built-Up \n",
       "\n",
       " LC14 - Cropland/Natural Vegetation Mosaic \n",
       "\n",
       " LC15 - Snow and Ice \n",
       "\n",
       " LC16 - Barren or Sparsely Vegetated"
      ],
      "text/plain": [
       "<IPython.core.display.Markdown object>"
      ]
     },
     "metadata": {},
     "output_type": "display_data"
    }
   ],
   "source": [
    "display(Markdown('### Country Summary \\n These are the summarized results for Ethiopia'))\n",
    "display(summary_table)\n",
    "display(Markdown('### Class Description \\n ##### Percentage \\n LC0 - Water \\n\\n LC1 - Evergreen Needleleaf Forest \\n\\n LC2 - Evergreen Broadleaf Forest \\n\\n  LC3 - Deciduous Needleleaf Forest \\n\\n LC4 - Deciduous Broadleaf Forest \\n\\n LC5 - Mixed Forests \\n\\n LC6 - Closed Shrublands \\n\\n LC7 - Open Shrublands \\n\\n LC8 - Woody Savannas \\n\\n LC9 - Savannas \\n\\n LC10 - Grasslands \\n\\n LC11 - Permanent Wetlands \\n\\n LC12 - Croplands \\n\\n LC13 - Urban and Built-Up \\n\\n LC14 - Cropland/Natural Vegetation Mosaic \\n\\n LC15 - Snow and Ice \\n\\n LC16 - Barren or Sparsely Vegetated'))"
   ]
  },
  {
   "cell_type": "markdown",
   "metadata": {},
   "source": [
    "## Cluster Summaries"
   ]
  },
  {
   "cell_type": "code",
   "execution_count": 41,
   "metadata": {
    "code_folding": [
     3
    ]
   },
   "outputs": [
    {
     "data": {
      "text/markdown": [
       "**Note** that there are 11 polygons that are not assigned to a cluster  -- classified as \"None\""
      ],
      "text/plain": [
       "<IPython.core.display.Markdown object>"
      ]
     },
     "metadata": {},
     "output_type": "display_data"
    }
   ],
   "source": [
    "data_gdf_LCsqkm[\"cluster\"] = data_gdf_LCsqkm[\"cluster\"].astype(str)\n",
    "non_clustered_data = data_gdf_LCsqkm[data_gdf_LCsqkm[\"cluster\"] == \"None\"]\n",
    "\n",
    "display(Markdown('**Note** that there are {} polygons that are not assigned to a cluster  -- classified as \"None\"'\n",
    "                 .format(len(non_clustered_data))))"
   ]
  },
  {
   "cell_type": "markdown",
   "metadata": {},
   "source": [
    "#### Groupby on clusters"
   ]
  },
  {
   "cell_type": "code",
   "execution_count": 42,
   "metadata": {},
   "outputs": [],
   "source": [
    "clusters = data_gdf_LCsqkm.groupby(['cluster'])"
   ]
  },
  {
   "cell_type": "code",
   "execution_count": 43,
   "metadata": {},
   "outputs": [],
   "source": [
    "clust_sum_cols = ['sqkm','LC0', 'LC1', 'LC2', 'LC3', 'LC4', 'LC5', 'LC6', 'LC7','LC8', 'LC9', 'LC10', 'LC11', 'LC12', \n",
    "            'LC13', 'LC14', 'LC16']"
   ]
  },
  {
   "cell_type": "code",
   "execution_count": 44,
   "metadata": {},
   "outputs": [
    {
     "data": {
      "text/markdown": [
       "#### Cluster summary statistics for area and land cover"
      ],
      "text/plain": [
       "<IPython.core.display.Markdown object>"
      ]
     },
     "metadata": {},
     "output_type": "display_data"
    },
    {
     "data": {
      "text/html": [
       "<div>\n",
       "<style scoped>\n",
       "    .dataframe tbody tr th:only-of-type {\n",
       "        vertical-align: middle;\n",
       "    }\n",
       "\n",
       "    .dataframe tbody tr th {\n",
       "        vertical-align: top;\n",
       "    }\n",
       "\n",
       "    .dataframe thead th {\n",
       "        text-align: right;\n",
       "    }\n",
       "</style>\n",
       "<table border=\"1\" class=\"dataframe\">\n",
       "  <thead>\n",
       "    <tr style=\"text-align: right;\">\n",
       "      <th></th>\n",
       "      <th>cluster</th>\n",
       "      <th>sqkm</th>\n",
       "      <th>LC0</th>\n",
       "      <th>LC1</th>\n",
       "      <th>LC2</th>\n",
       "      <th>LC3</th>\n",
       "      <th>LC4</th>\n",
       "      <th>LC5</th>\n",
       "      <th>LC6</th>\n",
       "      <th>LC7</th>\n",
       "      <th>LC8</th>\n",
       "      <th>LC9</th>\n",
       "      <th>LC10</th>\n",
       "      <th>LC11</th>\n",
       "      <th>LC12</th>\n",
       "      <th>LC13</th>\n",
       "      <th>LC14</th>\n",
       "      <th>LC16</th>\n",
       "    </tr>\n",
       "  </thead>\n",
       "  <tbody>\n",
       "    <tr>\n",
       "      <th>0</th>\n",
       "      <td>OROC03</td>\n",
       "      <td>176554.991737</td>\n",
       "      <td>1066.678518</td>\n",
       "      <td>0.000000</td>\n",
       "      <td>1119.766368</td>\n",
       "      <td>0.845349</td>\n",
       "      <td>463.766704</td>\n",
       "      <td>165.720116</td>\n",
       "      <td>7921.802325</td>\n",
       "      <td>20306.994176</td>\n",
       "      <td>20633.607077</td>\n",
       "      <td>16510.932581</td>\n",
       "      <td>89234.981742</td>\n",
       "      <td>112.637706</td>\n",
       "      <td>5519.931463</td>\n",
       "      <td>150.468154</td>\n",
       "      <td>12520.151510</td>\n",
       "      <td>826.707949</td>\n",
       "    </tr>\n",
       "    <tr>\n",
       "      <th>1</th>\n",
       "      <td>SOMC01</td>\n",
       "      <td>147287.381301</td>\n",
       "      <td>0.000000</td>\n",
       "      <td>0.000000</td>\n",
       "      <td>0.000000</td>\n",
       "      <td>0.000000</td>\n",
       "      <td>194.218973</td>\n",
       "      <td>0.422675</td>\n",
       "      <td>2995.525189</td>\n",
       "      <td>130944.768367</td>\n",
       "      <td>32.334606</td>\n",
       "      <td>12.257563</td>\n",
       "      <td>778.700842</td>\n",
       "      <td>0.845349</td>\n",
       "      <td>34.645058</td>\n",
       "      <td>12.426511</td>\n",
       "      <td>362.282552</td>\n",
       "      <td>11918.953617</td>\n",
       "    </tr>\n",
       "    <tr>\n",
       "      <th>2</th>\n",
       "      <td>SOMC03</td>\n",
       "      <td>105956.069594</td>\n",
       "      <td>0.000000</td>\n",
       "      <td>0.000000</td>\n",
       "      <td>0.000000</td>\n",
       "      <td>0.000000</td>\n",
       "      <td>18.960928</td>\n",
       "      <td>0.201274</td>\n",
       "      <td>2051.472427</td>\n",
       "      <td>97549.689911</td>\n",
       "      <td>18.103276</td>\n",
       "      <td>21.390862</td>\n",
       "      <td>2084.444012</td>\n",
       "      <td>0.000000</td>\n",
       "      <td>153.087997</td>\n",
       "      <td>31.540921</td>\n",
       "      <td>387.389244</td>\n",
       "      <td>3639.788744</td>\n",
       "    </tr>\n",
       "    <tr>\n",
       "      <th>3</th>\n",
       "      <td>AMHC02</td>\n",
       "      <td>104663.627409</td>\n",
       "      <td>3004.832071</td>\n",
       "      <td>0.000000</td>\n",
       "      <td>13.013890</td>\n",
       "      <td>4.226746</td>\n",
       "      <td>1.572819</td>\n",
       "      <td>63.584518</td>\n",
       "      <td>6.687784</td>\n",
       "      <td>506.573923</td>\n",
       "      <td>1129.834970</td>\n",
       "      <td>52765.713629</td>\n",
       "      <td>1548.458477</td>\n",
       "      <td>88.573510</td>\n",
       "      <td>34191.128772</td>\n",
       "      <td>44.239079</td>\n",
       "      <td>11218.683123</td>\n",
       "      <td>76.504100</td>\n",
       "    </tr>\n",
       "    <tr>\n",
       "      <th>4</th>\n",
       "      <td>OROC01</td>\n",
       "      <td>83520.498584</td>\n",
       "      <td>115.140428</td>\n",
       "      <td>0.207193</td>\n",
       "      <td>8823.129582</td>\n",
       "      <td>1.434981</td>\n",
       "      <td>3.993572</td>\n",
       "      <td>457.979139</td>\n",
       "      <td>44.075510</td>\n",
       "      <td>59.421472</td>\n",
       "      <td>12110.563255</td>\n",
       "      <td>2962.961055</td>\n",
       "      <td>15031.621920</td>\n",
       "      <td>173.512459</td>\n",
       "      <td>19387.805676</td>\n",
       "      <td>294.037490</td>\n",
       "      <td>24042.007921</td>\n",
       "      <td>12.606930</td>\n",
       "    </tr>\n",
       "    <tr>\n",
       "      <th>5</th>\n",
       "      <td>OROC02</td>\n",
       "      <td>81153.520891</td>\n",
       "      <td>992.439933</td>\n",
       "      <td>0.000000</td>\n",
       "      <td>6844.224684</td>\n",
       "      <td>0.634012</td>\n",
       "      <td>3.712589</td>\n",
       "      <td>62.548991</td>\n",
       "      <td>25.553611</td>\n",
       "      <td>438.274359</td>\n",
       "      <td>34053.079566</td>\n",
       "      <td>12248.516244</td>\n",
       "      <td>6344.103105</td>\n",
       "      <td>84.871759</td>\n",
       "      <td>4768.410977</td>\n",
       "      <td>43.600573</td>\n",
       "      <td>15149.716730</td>\n",
       "      <td>93.833759</td>\n",
       "    </tr>\n",
       "    <tr>\n",
       "      <th>6</th>\n",
       "      <td>AFAC02</td>\n",
       "      <td>73307.408156</td>\n",
       "      <td>545.824211</td>\n",
       "      <td>0.000000</td>\n",
       "      <td>1.179950</td>\n",
       "      <td>0.000000</td>\n",
       "      <td>0.791223</td>\n",
       "      <td>8.985960</td>\n",
       "      <td>22.914632</td>\n",
       "      <td>14448.320228</td>\n",
       "      <td>3.951405</td>\n",
       "      <td>110.897351</td>\n",
       "      <td>11158.812167</td>\n",
       "      <td>46.326281</td>\n",
       "      <td>2233.114393</td>\n",
       "      <td>12.211897</td>\n",
       "      <td>1184.101766</td>\n",
       "      <td>43529.976691</td>\n",
       "    </tr>\n",
       "    <tr>\n",
       "      <th>7</th>\n",
       "      <td>SOMC02</td>\n",
       "      <td>57426.231294</td>\n",
       "      <td>0.000000</td>\n",
       "      <td>0.000000</td>\n",
       "      <td>0.000000</td>\n",
       "      <td>0.000000</td>\n",
       "      <td>627.680120</td>\n",
       "      <td>8.977254</td>\n",
       "      <td>18604.674762</td>\n",
       "      <td>20400.635728</td>\n",
       "      <td>581.177837</td>\n",
       "      <td>160.169515</td>\n",
       "      <td>12417.224937</td>\n",
       "      <td>0.422675</td>\n",
       "      <td>119.445073</td>\n",
       "      <td>9.198701</td>\n",
       "      <td>565.664430</td>\n",
       "      <td>3930.960261</td>\n",
       "    </tr>\n",
       "    <tr>\n",
       "      <th>8</th>\n",
       "      <td>SOUC03</td>\n",
       "      <td>52576.812252</td>\n",
       "      <td>446.176903</td>\n",
       "      <td>0.000000</td>\n",
       "      <td>3138.183659</td>\n",
       "      <td>0.000000</td>\n",
       "      <td>5.917444</td>\n",
       "      <td>8.030817</td>\n",
       "      <td>19.435486</td>\n",
       "      <td>2823.849529</td>\n",
       "      <td>14504.987880</td>\n",
       "      <td>7796.137665</td>\n",
       "      <td>11286.542720</td>\n",
       "      <td>94.647401</td>\n",
       "      <td>1144.159106</td>\n",
       "      <td>4.015409</td>\n",
       "      <td>11271.145378</td>\n",
       "      <td>33.582854</td>\n",
       "    </tr>\n",
       "    <tr>\n",
       "      <th>9</th>\n",
       "      <td>AMHC01</td>\n",
       "      <td>50720.950557</td>\n",
       "      <td>0.000000</td>\n",
       "      <td>0.000000</td>\n",
       "      <td>4.072103</td>\n",
       "      <td>0.000000</td>\n",
       "      <td>0.390464</td>\n",
       "      <td>128.609691</td>\n",
       "      <td>53.627591</td>\n",
       "      <td>290.490318</td>\n",
       "      <td>357.878105</td>\n",
       "      <td>10259.224588</td>\n",
       "      <td>2655.791131</td>\n",
       "      <td>22.987285</td>\n",
       "      <td>31373.064328</td>\n",
       "      <td>33.807830</td>\n",
       "      <td>5540.038531</td>\n",
       "      <td>0.968592</td>\n",
       "    </tr>\n",
       "    <tr>\n",
       "      <th>10</th>\n",
       "      <td>TIGC02</td>\n",
       "      <td>37233.835637</td>\n",
       "      <td>0.000000</td>\n",
       "      <td>0.000000</td>\n",
       "      <td>0.000000</td>\n",
       "      <td>0.000000</td>\n",
       "      <td>0.000000</td>\n",
       "      <td>5.955869</td>\n",
       "      <td>4.598564</td>\n",
       "      <td>6954.733346</td>\n",
       "      <td>28.191233</td>\n",
       "      <td>10701.492867</td>\n",
       "      <td>2992.003596</td>\n",
       "      <td>0.000000</td>\n",
       "      <td>10713.769150</td>\n",
       "      <td>4.002650</td>\n",
       "      <td>5793.730300</td>\n",
       "      <td>35.358060</td>\n",
       "    </tr>\n",
       "    <tr>\n",
       "      <th>11</th>\n",
       "      <td>AFAC01</td>\n",
       "      <td>30783.656299</td>\n",
       "      <td>0.000000</td>\n",
       "      <td>0.000000</td>\n",
       "      <td>8.129706</td>\n",
       "      <td>0.000000</td>\n",
       "      <td>0.204191</td>\n",
       "      <td>24.120356</td>\n",
       "      <td>21.809483</td>\n",
       "      <td>10775.259526</td>\n",
       "      <td>3.681114</td>\n",
       "      <td>179.137308</td>\n",
       "      <td>6260.247836</td>\n",
       "      <td>2.970798</td>\n",
       "      <td>5268.431729</td>\n",
       "      <td>3.087798</td>\n",
       "      <td>6038.981404</td>\n",
       "      <td>2197.595051</td>\n",
       "    </tr>\n",
       "    <tr>\n",
       "      <th>12</th>\n",
       "      <td>SOUC01</td>\n",
       "      <td>24092.451515</td>\n",
       "      <td>5.917444</td>\n",
       "      <td>0.000000</td>\n",
       "      <td>3923.952558</td>\n",
       "      <td>0.211337</td>\n",
       "      <td>0.422675</td>\n",
       "      <td>26.205824</td>\n",
       "      <td>0.422675</td>\n",
       "      <td>2.536048</td>\n",
       "      <td>2462.538431</td>\n",
       "      <td>524.116489</td>\n",
       "      <td>2102.146954</td>\n",
       "      <td>24.092452</td>\n",
       "      <td>3617.568647</td>\n",
       "      <td>21.345067</td>\n",
       "      <td>11376.114157</td>\n",
       "      <td>4.860758</td>\n",
       "    </tr>\n",
       "    <tr>\n",
       "      <th>13</th>\n",
       "      <td>SOUC02</td>\n",
       "      <td>20626.519893</td>\n",
       "      <td>54.736359</td>\n",
       "      <td>0.000000</td>\n",
       "      <td>3274.995356</td>\n",
       "      <td>0.211337</td>\n",
       "      <td>1.902036</td>\n",
       "      <td>6.128782</td>\n",
       "      <td>3.381397</td>\n",
       "      <td>46.494205</td>\n",
       "      <td>3688.888912</td>\n",
       "      <td>1902.041384</td>\n",
       "      <td>2127.669064</td>\n",
       "      <td>18.807965</td>\n",
       "      <td>933.242894</td>\n",
       "      <td>17.963670</td>\n",
       "      <td>8541.814379</td>\n",
       "      <td>8.242154</td>\n",
       "    </tr>\n",
       "    <tr>\n",
       "      <th>14</th>\n",
       "      <td>BENC01</td>\n",
       "      <td>20476.506930</td>\n",
       "      <td>0.000000</td>\n",
       "      <td>0.000000</td>\n",
       "      <td>0.000000</td>\n",
       "      <td>0.000000</td>\n",
       "      <td>4.934247</td>\n",
       "      <td>10.871269</td>\n",
       "      <td>0.000000</td>\n",
       "      <td>0.000000</td>\n",
       "      <td>1286.932838</td>\n",
       "      <td>19127.767279</td>\n",
       "      <td>1.389071</td>\n",
       "      <td>0.000000</td>\n",
       "      <td>32.228828</td>\n",
       "      <td>0.000000</td>\n",
       "      <td>12.383398</td>\n",
       "      <td>0.000000</td>\n",
       "    </tr>\n",
       "    <tr>\n",
       "      <th>15</th>\n",
       "      <td>TIGC01</td>\n",
       "      <td>20000.601059</td>\n",
       "      <td>10.182615</td>\n",
       "      <td>0.000000</td>\n",
       "      <td>0.960624</td>\n",
       "      <td>0.000000</td>\n",
       "      <td>0.192125</td>\n",
       "      <td>19.788856</td>\n",
       "      <td>22.478093</td>\n",
       "      <td>6443.617788</td>\n",
       "      <td>23.631352</td>\n",
       "      <td>900.488997</td>\n",
       "      <td>2021.247660</td>\n",
       "      <td>9.414116</td>\n",
       "      <td>7732.732275</td>\n",
       "      <td>20.749480</td>\n",
       "      <td>2794.348579</td>\n",
       "      <td>0.768499</td>\n",
       "    </tr>\n",
       "    <tr>\n",
       "      <th>16</th>\n",
       "      <td>BENC03</td>\n",
       "      <td>17693.617753</td>\n",
       "      <td>0.000000</td>\n",
       "      <td>0.000000</td>\n",
       "      <td>0.358611</td>\n",
       "      <td>0.000000</td>\n",
       "      <td>7.261569</td>\n",
       "      <td>36.768891</td>\n",
       "      <td>0.000000</td>\n",
       "      <td>0.000000</td>\n",
       "      <td>7812.421978</td>\n",
       "      <td>9747.848442</td>\n",
       "      <td>5.821584</td>\n",
       "      <td>0.197974</td>\n",
       "      <td>41.349881</td>\n",
       "      <td>2.532152</td>\n",
       "      <td>39.056672</td>\n",
       "      <td>0.000000</td>\n",
       "    </tr>\n",
       "    <tr>\n",
       "      <th>17</th>\n",
       "      <td>GAMC01</td>\n",
       "      <td>13219.937115</td>\n",
       "      <td>0.000000</td>\n",
       "      <td>0.000000</td>\n",
       "      <td>0.000000</td>\n",
       "      <td>0.000000</td>\n",
       "      <td>0.610193</td>\n",
       "      <td>9.873165</td>\n",
       "      <td>0.000000</td>\n",
       "      <td>0.817257</td>\n",
       "      <td>547.510908</td>\n",
       "      <td>11637.398880</td>\n",
       "      <td>350.121657</td>\n",
       "      <td>229.068321</td>\n",
       "      <td>231.362293</td>\n",
       "      <td>0.820727</td>\n",
       "      <td>212.353714</td>\n",
       "      <td>0.000000</td>\n",
       "    </tr>\n",
       "    <tr>\n",
       "      <th>18</th>\n",
       "      <td>GAMC02</td>\n",
       "      <td>12038.602211</td>\n",
       "      <td>3.298924</td>\n",
       "      <td>0.000000</td>\n",
       "      <td>1609.263958</td>\n",
       "      <td>0.000000</td>\n",
       "      <td>0.616546</td>\n",
       "      <td>1.026910</td>\n",
       "      <td>0.000000</td>\n",
       "      <td>0.000000</td>\n",
       "      <td>3901.903976</td>\n",
       "      <td>6370.933764</td>\n",
       "      <td>102.650260</td>\n",
       "      <td>17.312313</td>\n",
       "      <td>8.031670</td>\n",
       "      <td>3.886560</td>\n",
       "      <td>19.677328</td>\n",
       "      <td>0.000000</td>\n",
       "    </tr>\n",
       "    <tr>\n",
       "      <th>19</th>\n",
       "      <td>BENC02</td>\n",
       "      <td>2789.652281</td>\n",
       "      <td>0.000000</td>\n",
       "      <td>0.000000</td>\n",
       "      <td>0.984827</td>\n",
       "      <td>0.000000</td>\n",
       "      <td>0.000000</td>\n",
       "      <td>26.291015</td>\n",
       "      <td>0.000000</td>\n",
       "      <td>0.000000</td>\n",
       "      <td>1359.800416</td>\n",
       "      <td>1099.606576</td>\n",
       "      <td>25.829991</td>\n",
       "      <td>0.000000</td>\n",
       "      <td>121.808487</td>\n",
       "      <td>0.000000</td>\n",
       "      <td>155.330968</td>\n",
       "      <td>0.000000</td>\n",
       "    </tr>\n",
       "    <tr>\n",
       "      <th>20</th>\n",
       "      <td>None</td>\n",
       "      <td>120.592613</td>\n",
       "      <td>0.000000</td>\n",
       "      <td>0.000000</td>\n",
       "      <td>0.000000</td>\n",
       "      <td>0.000000</td>\n",
       "      <td>0.000000</td>\n",
       "      <td>0.000000</td>\n",
       "      <td>0.140994</td>\n",
       "      <td>25.544718</td>\n",
       "      <td>1.305242</td>\n",
       "      <td>71.305662</td>\n",
       "      <td>7.876640</td>\n",
       "      <td>0.000000</td>\n",
       "      <td>1.424341</td>\n",
       "      <td>0.000000</td>\n",
       "      <td>4.944533</td>\n",
       "      <td>8.050485</td>\n",
       "    </tr>\n",
       "    <tr>\n",
       "      <th>21</th>\n",
       "      <td>ADDC01</td>\n",
       "      <td>84.534918</td>\n",
       "      <td>0.000000</td>\n",
       "      <td>0.000000</td>\n",
       "      <td>0.000000</td>\n",
       "      <td>0.000000</td>\n",
       "      <td>0.000000</td>\n",
       "      <td>0.000000</td>\n",
       "      <td>0.000000</td>\n",
       "      <td>0.000000</td>\n",
       "      <td>0.000000</td>\n",
       "      <td>0.000000</td>\n",
       "      <td>3.381397</td>\n",
       "      <td>0.000000</td>\n",
       "      <td>7.819480</td>\n",
       "      <td>26.205824</td>\n",
       "      <td>47.128217</td>\n",
       "      <td>0.000000</td>\n",
       "    </tr>\n",
       "  </tbody>\n",
       "</table>\n",
       "</div>"
      ],
      "text/plain": [
       "   cluster           sqkm          LC0       LC1          LC2       LC3  \\\n",
       "0   OROC03  176554.991737  1066.678518  0.000000  1119.766368  0.845349   \n",
       "1   SOMC01  147287.381301     0.000000  0.000000     0.000000  0.000000   \n",
       "2   SOMC03  105956.069594     0.000000  0.000000     0.000000  0.000000   \n",
       "3   AMHC02  104663.627409  3004.832071  0.000000    13.013890  4.226746   \n",
       "4   OROC01   83520.498584   115.140428  0.207193  8823.129582  1.434981   \n",
       "5   OROC02   81153.520891   992.439933  0.000000  6844.224684  0.634012   \n",
       "6   AFAC02   73307.408156   545.824211  0.000000     1.179950  0.000000   \n",
       "7   SOMC02   57426.231294     0.000000  0.000000     0.000000  0.000000   \n",
       "8   SOUC03   52576.812252   446.176903  0.000000  3138.183659  0.000000   \n",
       "9   AMHC01   50720.950557     0.000000  0.000000     4.072103  0.000000   \n",
       "10  TIGC02   37233.835637     0.000000  0.000000     0.000000  0.000000   \n",
       "11  AFAC01   30783.656299     0.000000  0.000000     8.129706  0.000000   \n",
       "12  SOUC01   24092.451515     5.917444  0.000000  3923.952558  0.211337   \n",
       "13  SOUC02   20626.519893    54.736359  0.000000  3274.995356  0.211337   \n",
       "14  BENC01   20476.506930     0.000000  0.000000     0.000000  0.000000   \n",
       "15  TIGC01   20000.601059    10.182615  0.000000     0.960624  0.000000   \n",
       "16  BENC03   17693.617753     0.000000  0.000000     0.358611  0.000000   \n",
       "17  GAMC01   13219.937115     0.000000  0.000000     0.000000  0.000000   \n",
       "18  GAMC02   12038.602211     3.298924  0.000000  1609.263958  0.000000   \n",
       "19  BENC02    2789.652281     0.000000  0.000000     0.984827  0.000000   \n",
       "20    None     120.592613     0.000000  0.000000     0.000000  0.000000   \n",
       "21  ADDC01      84.534918     0.000000  0.000000     0.000000  0.000000   \n",
       "\n",
       "           LC4         LC5           LC6            LC7           LC8  \\\n",
       "0   463.766704  165.720116   7921.802325   20306.994176  20633.607077   \n",
       "1   194.218973    0.422675   2995.525189  130944.768367     32.334606   \n",
       "2    18.960928    0.201274   2051.472427   97549.689911     18.103276   \n",
       "3     1.572819   63.584518      6.687784     506.573923   1129.834970   \n",
       "4     3.993572  457.979139     44.075510      59.421472  12110.563255   \n",
       "5     3.712589   62.548991     25.553611     438.274359  34053.079566   \n",
       "6     0.791223    8.985960     22.914632   14448.320228      3.951405   \n",
       "7   627.680120    8.977254  18604.674762   20400.635728    581.177837   \n",
       "8     5.917444    8.030817     19.435486    2823.849529  14504.987880   \n",
       "9     0.390464  128.609691     53.627591     290.490318    357.878105   \n",
       "10    0.000000    5.955869      4.598564    6954.733346     28.191233   \n",
       "11    0.204191   24.120356     21.809483   10775.259526      3.681114   \n",
       "12    0.422675   26.205824      0.422675       2.536048   2462.538431   \n",
       "13    1.902036    6.128782      3.381397      46.494205   3688.888912   \n",
       "14    4.934247   10.871269      0.000000       0.000000   1286.932838   \n",
       "15    0.192125   19.788856     22.478093    6443.617788     23.631352   \n",
       "16    7.261569   36.768891      0.000000       0.000000   7812.421978   \n",
       "17    0.610193    9.873165      0.000000       0.817257    547.510908   \n",
       "18    0.616546    1.026910      0.000000       0.000000   3901.903976   \n",
       "19    0.000000   26.291015      0.000000       0.000000   1359.800416   \n",
       "20    0.000000    0.000000      0.140994      25.544718      1.305242   \n",
       "21    0.000000    0.000000      0.000000       0.000000      0.000000   \n",
       "\n",
       "             LC9          LC10        LC11          LC12        LC13  \\\n",
       "0   16510.932581  89234.981742  112.637706   5519.931463  150.468154   \n",
       "1      12.257563    778.700842    0.845349     34.645058   12.426511   \n",
       "2      21.390862   2084.444012    0.000000    153.087997   31.540921   \n",
       "3   52765.713629   1548.458477   88.573510  34191.128772   44.239079   \n",
       "4    2962.961055  15031.621920  173.512459  19387.805676  294.037490   \n",
       "5   12248.516244   6344.103105   84.871759   4768.410977   43.600573   \n",
       "6     110.897351  11158.812167   46.326281   2233.114393   12.211897   \n",
       "7     160.169515  12417.224937    0.422675    119.445073    9.198701   \n",
       "8    7796.137665  11286.542720   94.647401   1144.159106    4.015409   \n",
       "9   10259.224588   2655.791131   22.987285  31373.064328   33.807830   \n",
       "10  10701.492867   2992.003596    0.000000  10713.769150    4.002650   \n",
       "11    179.137308   6260.247836    2.970798   5268.431729    3.087798   \n",
       "12    524.116489   2102.146954   24.092452   3617.568647   21.345067   \n",
       "13   1902.041384   2127.669064   18.807965    933.242894   17.963670   \n",
       "14  19127.767279      1.389071    0.000000     32.228828    0.000000   \n",
       "15    900.488997   2021.247660    9.414116   7732.732275   20.749480   \n",
       "16   9747.848442      5.821584    0.197974     41.349881    2.532152   \n",
       "17  11637.398880    350.121657  229.068321    231.362293    0.820727   \n",
       "18   6370.933764    102.650260   17.312313      8.031670    3.886560   \n",
       "19   1099.606576     25.829991    0.000000    121.808487    0.000000   \n",
       "20     71.305662      7.876640    0.000000      1.424341    0.000000   \n",
       "21      0.000000      3.381397    0.000000      7.819480   26.205824   \n",
       "\n",
       "            LC14          LC16  \n",
       "0   12520.151510    826.707949  \n",
       "1     362.282552  11918.953617  \n",
       "2     387.389244   3639.788744  \n",
       "3   11218.683123     76.504100  \n",
       "4   24042.007921     12.606930  \n",
       "5   15149.716730     93.833759  \n",
       "6    1184.101766  43529.976691  \n",
       "7     565.664430   3930.960261  \n",
       "8   11271.145378     33.582854  \n",
       "9    5540.038531      0.968592  \n",
       "10   5793.730300     35.358060  \n",
       "11   6038.981404   2197.595051  \n",
       "12  11376.114157      4.860758  \n",
       "13   8541.814379      8.242154  \n",
       "14     12.383398      0.000000  \n",
       "15   2794.348579      0.768499  \n",
       "16     39.056672      0.000000  \n",
       "17    212.353714      0.000000  \n",
       "18     19.677328      0.000000  \n",
       "19    155.330968      0.000000  \n",
       "20      4.944533      8.050485  \n",
       "21     47.128217      0.000000  "
      ]
     },
     "execution_count": 44,
     "metadata": {},
     "output_type": "execute_result"
    }
   ],
   "source": [
    "clusters_sum = clusters[clust_sum_cols].sum().sort_values(ascending=False, by='sqkm').reset_index()\n",
    "display(Markdown('#### Cluster summary statistics for area and land cover'))\n",
    "clusters_sum"
   ]
  },
  {
   "cell_type": "code",
   "execution_count": 45,
   "metadata": {},
   "outputs": [
    {
     "data": {
      "text/markdown": [
       "#### Cluster summary statistics for Water Table Depth (in m)"
      ],
      "text/plain": [
       "<IPython.core.display.Markdown object>"
      ]
     },
     "metadata": {},
     "output_type": "display_data"
    },
    {
     "data": {
      "text/html": [
       "<div>\n",
       "<style scoped>\n",
       "    .dataframe tbody tr th:only-of-type {\n",
       "        vertical-align: middle;\n",
       "    }\n",
       "\n",
       "    .dataframe tbody tr th {\n",
       "        vertical-align: top;\n",
       "    }\n",
       "\n",
       "    .dataframe thead th {\n",
       "        text-align: right;\n",
       "    }\n",
       "</style>\n",
       "<table border=\"1\" class=\"dataframe\">\n",
       "  <thead>\n",
       "    <tr style=\"text-align: right;\">\n",
       "      <th></th>\n",
       "      <th>cluster</th>\n",
       "      <th>WTDmean</th>\n",
       "    </tr>\n",
       "  </thead>\n",
       "  <tbody>\n",
       "    <tr>\n",
       "      <th>0</th>\n",
       "      <td>TIGC01</td>\n",
       "      <td>77.574067</td>\n",
       "    </tr>\n",
       "    <tr>\n",
       "      <th>1</th>\n",
       "      <td>TIGC02</td>\n",
       "      <td>60.996776</td>\n",
       "    </tr>\n",
       "    <tr>\n",
       "      <th>2</th>\n",
       "      <td>AMHC01</td>\n",
       "      <td>58.320362</td>\n",
       "    </tr>\n",
       "    <tr>\n",
       "      <th>3</th>\n",
       "      <td>AFAC01</td>\n",
       "      <td>55.809983</td>\n",
       "    </tr>\n",
       "    <tr>\n",
       "      <th>4</th>\n",
       "      <td>AMHC02</td>\n",
       "      <td>49.700275</td>\n",
       "    </tr>\n",
       "    <tr>\n",
       "      <th>5</th>\n",
       "      <td>BENC02</td>\n",
       "      <td>49.591887</td>\n",
       "    </tr>\n",
       "    <tr>\n",
       "      <th>6</th>\n",
       "      <td>AFAC02</td>\n",
       "      <td>49.144369</td>\n",
       "    </tr>\n",
       "    <tr>\n",
       "      <th>7</th>\n",
       "      <td>SOMC02</td>\n",
       "      <td>46.051644</td>\n",
       "    </tr>\n",
       "    <tr>\n",
       "      <th>8</th>\n",
       "      <td>OROC03</td>\n",
       "      <td>45.208581</td>\n",
       "    </tr>\n",
       "    <tr>\n",
       "      <th>9</th>\n",
       "      <td>SOUC02</td>\n",
       "      <td>43.197206</td>\n",
       "    </tr>\n",
       "    <tr>\n",
       "      <th>10</th>\n",
       "      <td>SOMC03</td>\n",
       "      <td>42.430580</td>\n",
       "    </tr>\n",
       "    <tr>\n",
       "      <th>11</th>\n",
       "      <td>BENC03</td>\n",
       "      <td>40.513903</td>\n",
       "    </tr>\n",
       "    <tr>\n",
       "      <th>12</th>\n",
       "      <td>SOUC01</td>\n",
       "      <td>38.458767</td>\n",
       "    </tr>\n",
       "    <tr>\n",
       "      <th>13</th>\n",
       "      <td>OROC01</td>\n",
       "      <td>38.204415</td>\n",
       "    </tr>\n",
       "    <tr>\n",
       "      <th>14</th>\n",
       "      <td>OROC02</td>\n",
       "      <td>38.135377</td>\n",
       "    </tr>\n",
       "    <tr>\n",
       "      <th>15</th>\n",
       "      <td>None</td>\n",
       "      <td>36.806186</td>\n",
       "    </tr>\n",
       "    <tr>\n",
       "      <th>16</th>\n",
       "      <td>SOUC03</td>\n",
       "      <td>35.847964</td>\n",
       "    </tr>\n",
       "    <tr>\n",
       "      <th>17</th>\n",
       "      <td>BENC01</td>\n",
       "      <td>34.763547</td>\n",
       "    </tr>\n",
       "    <tr>\n",
       "      <th>18</th>\n",
       "      <td>SOMC01</td>\n",
       "      <td>27.814651</td>\n",
       "    </tr>\n",
       "    <tr>\n",
       "      <th>19</th>\n",
       "      <td>ADDC01</td>\n",
       "      <td>25.271519</td>\n",
       "    </tr>\n",
       "    <tr>\n",
       "      <th>20</th>\n",
       "      <td>GAMC02</td>\n",
       "      <td>21.125819</td>\n",
       "    </tr>\n",
       "    <tr>\n",
       "      <th>21</th>\n",
       "      <td>GAMC01</td>\n",
       "      <td>1.360588</td>\n",
       "    </tr>\n",
       "  </tbody>\n",
       "</table>\n",
       "</div>"
      ],
      "text/plain": [
       "   cluster    WTDmean\n",
       "0   TIGC01  77.574067\n",
       "1   TIGC02  60.996776\n",
       "2   AMHC01  58.320362\n",
       "3   AFAC01  55.809983\n",
       "4   AMHC02  49.700275\n",
       "5   BENC02  49.591887\n",
       "6   AFAC02  49.144369\n",
       "7   SOMC02  46.051644\n",
       "8   OROC03  45.208581\n",
       "9   SOUC02  43.197206\n",
       "10  SOMC03  42.430580\n",
       "11  BENC03  40.513903\n",
       "12  SOUC01  38.458767\n",
       "13  OROC01  38.204415\n",
       "14  OROC02  38.135377\n",
       "15    None  36.806186\n",
       "16  SOUC03  35.847964\n",
       "17  BENC01  34.763547\n",
       "18  SOMC01  27.814651\n",
       "19  ADDC01  25.271519\n",
       "20  GAMC02  21.125819\n",
       "21  GAMC01   1.360588"
      ]
     },
     "execution_count": 45,
     "metadata": {},
     "output_type": "execute_result"
    }
   ],
   "source": [
    "clusters_mean = clusters['WTDmean'].mean().sort_values(ascending=False).reset_index()\n",
    "display(Markdown('#### Cluster summary statistics for Water Table Depth (in m)'))\n",
    "clusters_mean"
   ]
  },
  {
   "cell_type": "markdown",
   "metadata": {},
   "source": [
    "### Explore particular clusters"
   ]
  },
  {
   "cell_type": "code",
   "execution_count": 46,
   "metadata": {},
   "outputs": [
    {
     "data": {
      "text/plain": [
       "sqkm    20476.506930\n",
       "LC0         0.000000\n",
       "LC1         0.000000\n",
       "LC2         0.000000\n",
       "LC3         0.000000\n",
       "LC4         4.934247\n",
       "LC5        10.871269\n",
       "LC6         0.000000\n",
       "LC7         0.000000\n",
       "LC8      1286.932838\n",
       "LC9     19127.767279\n",
       "LC10        1.389071\n",
       "LC11        0.000000\n",
       "LC12       32.228828\n",
       "LC13        0.000000\n",
       "LC14       12.383398\n",
       "LC16        0.000000\n",
       "dtype: float64"
      ]
     },
     "execution_count": 46,
     "metadata": {},
     "output_type": "execute_result"
    }
   ],
   "source": [
    "clusters.get_group('BENC01')[clust_sum_cols].sum()"
   ]
  },
  {
   "cell_type": "code",
   "execution_count": 47,
   "metadata": {},
   "outputs": [
    {
     "data": {
      "text/html": [
       "<div>\n",
       "<style scoped>\n",
       "    .dataframe tbody tr th:only-of-type {\n",
       "        vertical-align: middle;\n",
       "    }\n",
       "\n",
       "    .dataframe tbody tr th {\n",
       "        vertical-align: top;\n",
       "    }\n",
       "\n",
       "    .dataframe thead th {\n",
       "        text-align: right;\n",
       "    }\n",
       "</style>\n",
       "<table border=\"1\" class=\"dataframe\">\n",
       "  <thead>\n",
       "    <tr style=\"text-align: right;\">\n",
       "      <th></th>\n",
       "      <th>sqkm</th>\n",
       "      <th>LC0</th>\n",
       "      <th>LC1</th>\n",
       "      <th>LC2</th>\n",
       "      <th>LC3</th>\n",
       "      <th>LC4</th>\n",
       "      <th>LC5</th>\n",
       "      <th>LC6</th>\n",
       "      <th>LC7</th>\n",
       "      <th>LC8</th>\n",
       "      <th>LC9</th>\n",
       "      <th>LC10</th>\n",
       "      <th>LC11</th>\n",
       "      <th>LC12</th>\n",
       "      <th>LC13</th>\n",
       "      <th>LC14</th>\n",
       "      <th>LC16</th>\n",
       "    </tr>\n",
       "  </thead>\n",
       "  <tbody>\n",
       "    <tr>\n",
       "      <th>count</th>\n",
       "      <td>271.000000</td>\n",
       "      <td>0.0</td>\n",
       "      <td>0.0</td>\n",
       "      <td>0.0</td>\n",
       "      <td>0.0</td>\n",
       "      <td>18.000000</td>\n",
       "      <td>27.000000</td>\n",
       "      <td>0.0</td>\n",
       "      <td>0.0</td>\n",
       "      <td>112.000000</td>\n",
       "      <td>271.000000</td>\n",
       "      <td>2.000000</td>\n",
       "      <td>0.0</td>\n",
       "      <td>56.000000</td>\n",
       "      <td>0.0</td>\n",
       "      <td>24.000000</td>\n",
       "      <td>0.0</td>\n",
       "    </tr>\n",
       "    <tr>\n",
       "      <th>mean</th>\n",
       "      <td>75.559066</td>\n",
       "      <td>NaN</td>\n",
       "      <td>NaN</td>\n",
       "      <td>NaN</td>\n",
       "      <td>NaN</td>\n",
       "      <td>0.274125</td>\n",
       "      <td>0.402640</td>\n",
       "      <td>NaN</td>\n",
       "      <td>NaN</td>\n",
       "      <td>11.490472</td>\n",
       "      <td>70.582167</td>\n",
       "      <td>0.694536</td>\n",
       "      <td>NaN</td>\n",
       "      <td>0.575515</td>\n",
       "      <td>NaN</td>\n",
       "      <td>0.515975</td>\n",
       "      <td>NaN</td>\n",
       "    </tr>\n",
       "    <tr>\n",
       "      <th>std</th>\n",
       "      <td>21.986161</td>\n",
       "      <td>NaN</td>\n",
       "      <td>NaN</td>\n",
       "      <td>NaN</td>\n",
       "      <td>NaN</td>\n",
       "      <td>0.180215</td>\n",
       "      <td>0.326629</td>\n",
       "      <td>NaN</td>\n",
       "      <td>NaN</td>\n",
       "      <td>15.585140</td>\n",
       "      <td>23.325456</td>\n",
       "      <td>0.140317</td>\n",
       "      <td>NaN</td>\n",
       "      <td>0.790994</td>\n",
       "      <td>NaN</td>\n",
       "      <td>0.585562</td>\n",
       "      <td>NaN</td>\n",
       "    </tr>\n",
       "    <tr>\n",
       "      <th>min</th>\n",
       "      <td>0.097967</td>\n",
       "      <td>NaN</td>\n",
       "      <td>NaN</td>\n",
       "      <td>NaN</td>\n",
       "      <td>NaN</td>\n",
       "      <td>0.193887</td>\n",
       "      <td>0.194532</td>\n",
       "      <td>NaN</td>\n",
       "      <td>NaN</td>\n",
       "      <td>0.193887</td>\n",
       "      <td>0.097967</td>\n",
       "      <td>0.595316</td>\n",
       "      <td>NaN</td>\n",
       "      <td>0.183699</td>\n",
       "      <td>NaN</td>\n",
       "      <td>0.193687</td>\n",
       "      <td>NaN</td>\n",
       "    </tr>\n",
       "    <tr>\n",
       "      <th>25%</th>\n",
       "      <td>84.534918</td>\n",
       "      <td>NaN</td>\n",
       "      <td>NaN</td>\n",
       "      <td>NaN</td>\n",
       "      <td>NaN</td>\n",
       "      <td>0.196140</td>\n",
       "      <td>0.197052</td>\n",
       "      <td>NaN</td>\n",
       "      <td>NaN</td>\n",
       "      <td>0.790046</td>\n",
       "      <td>67.535153</td>\n",
       "      <td>0.644926</td>\n",
       "      <td>NaN</td>\n",
       "      <td>0.198439</td>\n",
       "      <td>NaN</td>\n",
       "      <td>0.198439</td>\n",
       "      <td>NaN</td>\n",
       "    </tr>\n",
       "    <tr>\n",
       "      <th>50%</th>\n",
       "      <td>84.534918</td>\n",
       "      <td>NaN</td>\n",
       "      <td>NaN</td>\n",
       "      <td>NaN</td>\n",
       "      <td>NaN</td>\n",
       "      <td>0.198439</td>\n",
       "      <td>0.200320</td>\n",
       "      <td>NaN</td>\n",
       "      <td>NaN</td>\n",
       "      <td>4.569731</td>\n",
       "      <td>83.368919</td>\n",
       "      <td>0.694536</td>\n",
       "      <td>NaN</td>\n",
       "      <td>0.392276</td>\n",
       "      <td>NaN</td>\n",
       "      <td>0.199847</td>\n",
       "      <td>NaN</td>\n",
       "    </tr>\n",
       "    <tr>\n",
       "      <th>75%</th>\n",
       "      <td>84.534918</td>\n",
       "      <td>NaN</td>\n",
       "      <td>NaN</td>\n",
       "      <td>NaN</td>\n",
       "      <td>NaN</td>\n",
       "      <td>0.199375</td>\n",
       "      <td>0.398750</td>\n",
       "      <td>NaN</td>\n",
       "      <td>NaN</td>\n",
       "      <td>15.031737</td>\n",
       "      <td>84.534918</td>\n",
       "      <td>0.744145</td>\n",
       "      <td>NaN</td>\n",
       "      <td>0.443631</td>\n",
       "      <td>NaN</td>\n",
       "      <td>0.448241</td>\n",
       "      <td>NaN</td>\n",
       "    </tr>\n",
       "    <tr>\n",
       "      <th>max</th>\n",
       "      <td>84.534918</td>\n",
       "      <td>NaN</td>\n",
       "      <td>NaN</td>\n",
       "      <td>NaN</td>\n",
       "      <td>NaN</td>\n",
       "      <td>0.782731</td>\n",
       "      <td>1.572743</td>\n",
       "      <td>NaN</td>\n",
       "      <td>NaN</td>\n",
       "      <td>63.799938</td>\n",
       "      <td>84.534918</td>\n",
       "      <td>0.793755</td>\n",
       "      <td>NaN</td>\n",
       "      <td>4.186871</td>\n",
       "      <td>NaN</td>\n",
       "      <td>2.443174</td>\n",
       "      <td>NaN</td>\n",
       "    </tr>\n",
       "  </tbody>\n",
       "</table>\n",
       "</div>"
      ],
      "text/plain": [
       "             sqkm  LC0  LC1  LC2  LC3        LC4        LC5  LC6  LC7  \\\n",
       "count  271.000000  0.0  0.0  0.0  0.0  18.000000  27.000000  0.0  0.0   \n",
       "mean    75.559066  NaN  NaN  NaN  NaN   0.274125   0.402640  NaN  NaN   \n",
       "std     21.986161  NaN  NaN  NaN  NaN   0.180215   0.326629  NaN  NaN   \n",
       "min      0.097967  NaN  NaN  NaN  NaN   0.193887   0.194532  NaN  NaN   \n",
       "25%     84.534918  NaN  NaN  NaN  NaN   0.196140   0.197052  NaN  NaN   \n",
       "50%     84.534918  NaN  NaN  NaN  NaN   0.198439   0.200320  NaN  NaN   \n",
       "75%     84.534918  NaN  NaN  NaN  NaN   0.199375   0.398750  NaN  NaN   \n",
       "max     84.534918  NaN  NaN  NaN  NaN   0.782731   1.572743  NaN  NaN   \n",
       "\n",
       "              LC8         LC9      LC10  LC11       LC12  LC13       LC14  \\\n",
       "count  112.000000  271.000000  2.000000   0.0  56.000000   0.0  24.000000   \n",
       "mean    11.490472   70.582167  0.694536   NaN   0.575515   NaN   0.515975   \n",
       "std     15.585140   23.325456  0.140317   NaN   0.790994   NaN   0.585562   \n",
       "min      0.193887    0.097967  0.595316   NaN   0.183699   NaN   0.193687   \n",
       "25%      0.790046   67.535153  0.644926   NaN   0.198439   NaN   0.198439   \n",
       "50%      4.569731   83.368919  0.694536   NaN   0.392276   NaN   0.199847   \n",
       "75%     15.031737   84.534918  0.744145   NaN   0.443631   NaN   0.448241   \n",
       "max     63.799938   84.534918  0.793755   NaN   4.186871   NaN   2.443174   \n",
       "\n",
       "       LC16  \n",
       "count   0.0  \n",
       "mean    NaN  \n",
       "std     NaN  \n",
       "min     NaN  \n",
       "25%     NaN  \n",
       "50%     NaN  \n",
       "75%     NaN  \n",
       "max     NaN  "
      ]
     },
     "execution_count": 47,
     "metadata": {},
     "output_type": "execute_result"
    }
   ],
   "source": [
    "clusters.get_group('BENC01')[clust_sum_cols].describe()"
   ]
  },
  {
   "cell_type": "code",
   "execution_count": 48,
   "metadata": {},
   "outputs": [],
   "source": [
    "#variable = \"LC12\"     #  Cropland\n",
    "#\n",
    "#fig, ax = plt.subplots(figsize=(10, 10))\n",
    "#clusters[variable].sum().sort_values(ascending=False).reset_index().plot.bar(ax=ax, \n",
    "#                                                                                                       x='cluster', \n",
    "#                                                                                                       y=variable)\n",
    "#txt = ax.set_title('{} per cluster in Ethiopia'.format(variable))"
   ]
  },
  {
   "cell_type": "markdown",
   "metadata": {},
   "source": [
    "### Interactive graphs"
   ]
  },
  {
   "cell_type": "code",
   "execution_count": 49,
   "metadata": {},
   "outputs": [],
   "source": [
    "# Get cluster names\n",
    "clust_names = list(data_gdf_LCsqkm.cluster.unique())\n",
    "\n",
    "# Explude non clustered data\n",
    "clust_names.remove(\"None\")"
   ]
  },
  {
   "cell_type": "code",
   "execution_count": 50,
   "metadata": {
    "code_folding": []
   },
   "outputs": [
    {
     "data": {
      "application/vnd.plotly.v1+json": {
       "config": {
        "plotlyServerURL": "https://plot.ly"
       },
       "data": [
        {
         "alignmentgroup": "True",
         "hovertemplate": "variable=Sum<br>index=%{x}<br>value=%{y}<extra></extra>",
         "legendgroup": "Sum",
         "marker": {
          "color": "#636efa"
         },
         "name": "Sum",
         "offsetgroup": "Sum",
         "orientation": "v",
         "showlegend": true,
         "textposition": "auto",
         "type": "bar",
         "x": [
          "TIGC02",
          "TIGC01",
          "AFAC02",
          "AFAC01",
          "AMHC02",
          "AMHC01",
          "BENC01",
          "BENC03",
          "BENC02",
          "SOMC03",
          "SOMC01",
          "SOMC02",
          "OROC02",
          "OROC03",
          "OROC01",
          "ADDC01",
          "GAMC01",
          "SOUC01",
          "GAMC02",
          "SOUC02",
          "SOUC03"
         ],
         "xaxis": "x",
         "y": [
          37233.84,
          20000.6,
          73307.41,
          30783.66,
          104663.63,
          50720.95,
          20476.51,
          17693.62,
          2789.65,
          105956.07,
          147287.38,
          57426.23,
          81153.52,
          176554.99,
          83520.5,
          84.53,
          13219.94,
          24092.45,
          12038.6,
          20626.52,
          52576.81
         ],
         "yaxis": "y"
        }
       ],
       "layout": {
        "barmode": "relative",
        "legend": {
         "title": {
          "text": "variable"
         },
         "tracegroupgap": 0
        },
        "template": {
         "data": {
          "bar": [
           {
            "error_x": {
             "color": "#2a3f5f"
            },
            "error_y": {
             "color": "#2a3f5f"
            },
            "marker": {
             "line": {
              "color": "#E5ECF6",
              "width": 0.5
             }
            },
            "type": "bar"
           }
          ],
          "barpolar": [
           {
            "marker": {
             "line": {
              "color": "#E5ECF6",
              "width": 0.5
             }
            },
            "type": "barpolar"
           }
          ],
          "carpet": [
           {
            "aaxis": {
             "endlinecolor": "#2a3f5f",
             "gridcolor": "white",
             "linecolor": "white",
             "minorgridcolor": "white",
             "startlinecolor": "#2a3f5f"
            },
            "baxis": {
             "endlinecolor": "#2a3f5f",
             "gridcolor": "white",
             "linecolor": "white",
             "minorgridcolor": "white",
             "startlinecolor": "#2a3f5f"
            },
            "type": "carpet"
           }
          ],
          "choropleth": [
           {
            "colorbar": {
             "outlinewidth": 0,
             "ticks": ""
            },
            "type": "choropleth"
           }
          ],
          "contour": [
           {
            "colorbar": {
             "outlinewidth": 0,
             "ticks": ""
            },
            "colorscale": [
             [
              0,
              "#0d0887"
             ],
             [
              0.1111111111111111,
              "#46039f"
             ],
             [
              0.2222222222222222,
              "#7201a8"
             ],
             [
              0.3333333333333333,
              "#9c179e"
             ],
             [
              0.4444444444444444,
              "#bd3786"
             ],
             [
              0.5555555555555556,
              "#d8576b"
             ],
             [
              0.6666666666666666,
              "#ed7953"
             ],
             [
              0.7777777777777778,
              "#fb9f3a"
             ],
             [
              0.8888888888888888,
              "#fdca26"
             ],
             [
              1,
              "#f0f921"
             ]
            ],
            "type": "contour"
           }
          ],
          "contourcarpet": [
           {
            "colorbar": {
             "outlinewidth": 0,
             "ticks": ""
            },
            "type": "contourcarpet"
           }
          ],
          "heatmap": [
           {
            "colorbar": {
             "outlinewidth": 0,
             "ticks": ""
            },
            "colorscale": [
             [
              0,
              "#0d0887"
             ],
             [
              0.1111111111111111,
              "#46039f"
             ],
             [
              0.2222222222222222,
              "#7201a8"
             ],
             [
              0.3333333333333333,
              "#9c179e"
             ],
             [
              0.4444444444444444,
              "#bd3786"
             ],
             [
              0.5555555555555556,
              "#d8576b"
             ],
             [
              0.6666666666666666,
              "#ed7953"
             ],
             [
              0.7777777777777778,
              "#fb9f3a"
             ],
             [
              0.8888888888888888,
              "#fdca26"
             ],
             [
              1,
              "#f0f921"
             ]
            ],
            "type": "heatmap"
           }
          ],
          "heatmapgl": [
           {
            "colorbar": {
             "outlinewidth": 0,
             "ticks": ""
            },
            "colorscale": [
             [
              0,
              "#0d0887"
             ],
             [
              0.1111111111111111,
              "#46039f"
             ],
             [
              0.2222222222222222,
              "#7201a8"
             ],
             [
              0.3333333333333333,
              "#9c179e"
             ],
             [
              0.4444444444444444,
              "#bd3786"
             ],
             [
              0.5555555555555556,
              "#d8576b"
             ],
             [
              0.6666666666666666,
              "#ed7953"
             ],
             [
              0.7777777777777778,
              "#fb9f3a"
             ],
             [
              0.8888888888888888,
              "#fdca26"
             ],
             [
              1,
              "#f0f921"
             ]
            ],
            "type": "heatmapgl"
           }
          ],
          "histogram": [
           {
            "marker": {
             "colorbar": {
              "outlinewidth": 0,
              "ticks": ""
             }
            },
            "type": "histogram"
           }
          ],
          "histogram2d": [
           {
            "colorbar": {
             "outlinewidth": 0,
             "ticks": ""
            },
            "colorscale": [
             [
              0,
              "#0d0887"
             ],
             [
              0.1111111111111111,
              "#46039f"
             ],
             [
              0.2222222222222222,
              "#7201a8"
             ],
             [
              0.3333333333333333,
              "#9c179e"
             ],
             [
              0.4444444444444444,
              "#bd3786"
             ],
             [
              0.5555555555555556,
              "#d8576b"
             ],
             [
              0.6666666666666666,
              "#ed7953"
             ],
             [
              0.7777777777777778,
              "#fb9f3a"
             ],
             [
              0.8888888888888888,
              "#fdca26"
             ],
             [
              1,
              "#f0f921"
             ]
            ],
            "type": "histogram2d"
           }
          ],
          "histogram2dcontour": [
           {
            "colorbar": {
             "outlinewidth": 0,
             "ticks": ""
            },
            "colorscale": [
             [
              0,
              "#0d0887"
             ],
             [
              0.1111111111111111,
              "#46039f"
             ],
             [
              0.2222222222222222,
              "#7201a8"
             ],
             [
              0.3333333333333333,
              "#9c179e"
             ],
             [
              0.4444444444444444,
              "#bd3786"
             ],
             [
              0.5555555555555556,
              "#d8576b"
             ],
             [
              0.6666666666666666,
              "#ed7953"
             ],
             [
              0.7777777777777778,
              "#fb9f3a"
             ],
             [
              0.8888888888888888,
              "#fdca26"
             ],
             [
              1,
              "#f0f921"
             ]
            ],
            "type": "histogram2dcontour"
           }
          ],
          "mesh3d": [
           {
            "colorbar": {
             "outlinewidth": 0,
             "ticks": ""
            },
            "type": "mesh3d"
           }
          ],
          "parcoords": [
           {
            "line": {
             "colorbar": {
              "outlinewidth": 0,
              "ticks": ""
             }
            },
            "type": "parcoords"
           }
          ],
          "pie": [
           {
            "automargin": true,
            "type": "pie"
           }
          ],
          "scatter": [
           {
            "marker": {
             "colorbar": {
              "outlinewidth": 0,
              "ticks": ""
             }
            },
            "type": "scatter"
           }
          ],
          "scatter3d": [
           {
            "line": {
             "colorbar": {
              "outlinewidth": 0,
              "ticks": ""
             }
            },
            "marker": {
             "colorbar": {
              "outlinewidth": 0,
              "ticks": ""
             }
            },
            "type": "scatter3d"
           }
          ],
          "scattercarpet": [
           {
            "marker": {
             "colorbar": {
              "outlinewidth": 0,
              "ticks": ""
             }
            },
            "type": "scattercarpet"
           }
          ],
          "scattergeo": [
           {
            "marker": {
             "colorbar": {
              "outlinewidth": 0,
              "ticks": ""
             }
            },
            "type": "scattergeo"
           }
          ],
          "scattergl": [
           {
            "marker": {
             "colorbar": {
              "outlinewidth": 0,
              "ticks": ""
             }
            },
            "type": "scattergl"
           }
          ],
          "scattermapbox": [
           {
            "marker": {
             "colorbar": {
              "outlinewidth": 0,
              "ticks": ""
             }
            },
            "type": "scattermapbox"
           }
          ],
          "scatterpolar": [
           {
            "marker": {
             "colorbar": {
              "outlinewidth": 0,
              "ticks": ""
             }
            },
            "type": "scatterpolar"
           }
          ],
          "scatterpolargl": [
           {
            "marker": {
             "colorbar": {
              "outlinewidth": 0,
              "ticks": ""
             }
            },
            "type": "scatterpolargl"
           }
          ],
          "scatterternary": [
           {
            "marker": {
             "colorbar": {
              "outlinewidth": 0,
              "ticks": ""
             }
            },
            "type": "scatterternary"
           }
          ],
          "surface": [
           {
            "colorbar": {
             "outlinewidth": 0,
             "ticks": ""
            },
            "colorscale": [
             [
              0,
              "#0d0887"
             ],
             [
              0.1111111111111111,
              "#46039f"
             ],
             [
              0.2222222222222222,
              "#7201a8"
             ],
             [
              0.3333333333333333,
              "#9c179e"
             ],
             [
              0.4444444444444444,
              "#bd3786"
             ],
             [
              0.5555555555555556,
              "#d8576b"
             ],
             [
              0.6666666666666666,
              "#ed7953"
             ],
             [
              0.7777777777777778,
              "#fb9f3a"
             ],
             [
              0.8888888888888888,
              "#fdca26"
             ],
             [
              1,
              "#f0f921"
             ]
            ],
            "type": "surface"
           }
          ],
          "table": [
           {
            "cells": {
             "fill": {
              "color": "#EBF0F8"
             },
             "line": {
              "color": "white"
             }
            },
            "header": {
             "fill": {
              "color": "#C8D4E3"
             },
             "line": {
              "color": "white"
             }
            },
            "type": "table"
           }
          ]
         },
         "layout": {
          "annotationdefaults": {
           "arrowcolor": "#2a3f5f",
           "arrowhead": 0,
           "arrowwidth": 1
          },
          "coloraxis": {
           "colorbar": {
            "outlinewidth": 0,
            "ticks": ""
           }
          },
          "colorscale": {
           "diverging": [
            [
             0,
             "#8e0152"
            ],
            [
             0.1,
             "#c51b7d"
            ],
            [
             0.2,
             "#de77ae"
            ],
            [
             0.3,
             "#f1b6da"
            ],
            [
             0.4,
             "#fde0ef"
            ],
            [
             0.5,
             "#f7f7f7"
            ],
            [
             0.6,
             "#e6f5d0"
            ],
            [
             0.7,
             "#b8e186"
            ],
            [
             0.8,
             "#7fbc41"
            ],
            [
             0.9,
             "#4d9221"
            ],
            [
             1,
             "#276419"
            ]
           ],
           "sequential": [
            [
             0,
             "#0d0887"
            ],
            [
             0.1111111111111111,
             "#46039f"
            ],
            [
             0.2222222222222222,
             "#7201a8"
            ],
            [
             0.3333333333333333,
             "#9c179e"
            ],
            [
             0.4444444444444444,
             "#bd3786"
            ],
            [
             0.5555555555555556,
             "#d8576b"
            ],
            [
             0.6666666666666666,
             "#ed7953"
            ],
            [
             0.7777777777777778,
             "#fb9f3a"
            ],
            [
             0.8888888888888888,
             "#fdca26"
            ],
            [
             1,
             "#f0f921"
            ]
           ],
           "sequentialminus": [
            [
             0,
             "#0d0887"
            ],
            [
             0.1111111111111111,
             "#46039f"
            ],
            [
             0.2222222222222222,
             "#7201a8"
            ],
            [
             0.3333333333333333,
             "#9c179e"
            ],
            [
             0.4444444444444444,
             "#bd3786"
            ],
            [
             0.5555555555555556,
             "#d8576b"
            ],
            [
             0.6666666666666666,
             "#ed7953"
            ],
            [
             0.7777777777777778,
             "#fb9f3a"
            ],
            [
             0.8888888888888888,
             "#fdca26"
            ],
            [
             1,
             "#f0f921"
            ]
           ]
          },
          "colorway": [
           "#636efa",
           "#EF553B",
           "#00cc96",
           "#ab63fa",
           "#FFA15A",
           "#19d3f3",
           "#FF6692",
           "#B6E880",
           "#FF97FF",
           "#FECB52"
          ],
          "font": {
           "color": "#2a3f5f"
          },
          "geo": {
           "bgcolor": "white",
           "lakecolor": "white",
           "landcolor": "#E5ECF6",
           "showlakes": true,
           "showland": true,
           "subunitcolor": "white"
          },
          "hoverlabel": {
           "align": "left"
          },
          "hovermode": "closest",
          "mapbox": {
           "style": "light"
          },
          "paper_bgcolor": "white",
          "plot_bgcolor": "#E5ECF6",
          "polar": {
           "angularaxis": {
            "gridcolor": "white",
            "linecolor": "white",
            "ticks": ""
           },
           "bgcolor": "#E5ECF6",
           "radialaxis": {
            "gridcolor": "white",
            "linecolor": "white",
            "ticks": ""
           }
          },
          "scene": {
           "xaxis": {
            "backgroundcolor": "#E5ECF6",
            "gridcolor": "white",
            "gridwidth": 2,
            "linecolor": "white",
            "showbackground": true,
            "ticks": "",
            "zerolinecolor": "white"
           },
           "yaxis": {
            "backgroundcolor": "#E5ECF6",
            "gridcolor": "white",
            "gridwidth": 2,
            "linecolor": "white",
            "showbackground": true,
            "ticks": "",
            "zerolinecolor": "white"
           },
           "zaxis": {
            "backgroundcolor": "#E5ECF6",
            "gridcolor": "white",
            "gridwidth": 2,
            "linecolor": "white",
            "showbackground": true,
            "ticks": "",
            "zerolinecolor": "white"
           }
          },
          "shapedefaults": {
           "line": {
            "color": "#2a3f5f"
           }
          },
          "ternary": {
           "aaxis": {
            "gridcolor": "white",
            "linecolor": "white",
            "ticks": ""
           },
           "baxis": {
            "gridcolor": "white",
            "linecolor": "white",
            "ticks": ""
           },
           "bgcolor": "#E5ECF6",
           "caxis": {
            "gridcolor": "white",
            "linecolor": "white",
            "ticks": ""
           }
          },
          "title": {
           "x": 0.05
          },
          "xaxis": {
           "automargin": true,
           "gridcolor": "white",
           "linecolor": "white",
           "ticks": "",
           "title": {
            "standoff": 15
           },
           "zerolinecolor": "white",
           "zerolinewidth": 2
          },
          "yaxis": {
           "automargin": true,
           "gridcolor": "white",
           "linecolor": "white",
           "ticks": "",
           "title": {
            "standoff": 15
           },
           "zerolinecolor": "white",
           "zerolinewidth": 2
          }
         }
        },
        "title": {
         "text": "Dictribution of sqkm over clusters in Ethiopia"
        },
        "xaxis": {
         "anchor": "y",
         "domain": [
          0,
          1
         ],
         "title": {
          "text": "index"
         }
        },
        "yaxis": {
         "anchor": "x",
         "domain": [
          0,
          1
         ],
         "title": {
          "text": "value"
         }
        }
       }
      },
      "text/html": [
       "<div>                            <div id=\"b874447b-d268-41dc-9e6a-3094983a84a8\" class=\"plotly-graph-div\" style=\"height:525px; width:100%;\"></div>            <script type=\"text/javascript\">                require([\"plotly\"], function(Plotly) {                    window.PLOTLYENV=window.PLOTLYENV || {};                                    if (document.getElementById(\"b874447b-d268-41dc-9e6a-3094983a84a8\")) {                    Plotly.newPlot(                        \"b874447b-d268-41dc-9e6a-3094983a84a8\",                        [{\"alignmentgroup\": \"True\", \"hovertemplate\": \"variable=Sum<br>index=%{x}<br>value=%{y}<extra></extra>\", \"legendgroup\": \"Sum\", \"marker\": {\"color\": \"#636efa\"}, \"name\": \"Sum\", \"offsetgroup\": \"Sum\", \"orientation\": \"v\", \"showlegend\": true, \"textposition\": \"auto\", \"type\": \"bar\", \"x\": [\"TIGC02\", \"TIGC01\", \"AFAC02\", \"AFAC01\", \"AMHC02\", \"AMHC01\", \"BENC01\", \"BENC03\", \"BENC02\", \"SOMC03\", \"SOMC01\", \"SOMC02\", \"OROC02\", \"OROC03\", \"OROC01\", \"ADDC01\", \"GAMC01\", \"SOUC01\", \"GAMC02\", \"SOUC02\", \"SOUC03\"], \"xaxis\": \"x\", \"y\": [37233.84, 20000.6, 73307.41, 30783.66, 104663.63, 50720.95, 20476.51, 17693.62, 2789.65, 105956.07, 147287.38, 57426.23, 81153.52, 176554.99, 83520.5, 84.53, 13219.94, 24092.45, 12038.6, 20626.52, 52576.81], \"yaxis\": \"y\"}],                        {\"barmode\": \"relative\", \"legend\": {\"title\": {\"text\": \"variable\"}, \"tracegroupgap\": 0}, \"template\": {\"data\": {\"bar\": [{\"error_x\": {\"color\": \"#2a3f5f\"}, \"error_y\": {\"color\": \"#2a3f5f\"}, \"marker\": {\"line\": {\"color\": \"#E5ECF6\", \"width\": 0.5}}, \"type\": \"bar\"}], \"barpolar\": [{\"marker\": {\"line\": {\"color\": \"#E5ECF6\", \"width\": 0.5}}, \"type\": \"barpolar\"}], \"carpet\": [{\"aaxis\": {\"endlinecolor\": \"#2a3f5f\", \"gridcolor\": \"white\", \"linecolor\": \"white\", \"minorgridcolor\": \"white\", \"startlinecolor\": \"#2a3f5f\"}, \"baxis\": {\"endlinecolor\": \"#2a3f5f\", \"gridcolor\": \"white\", \"linecolor\": \"white\", \"minorgridcolor\": \"white\", \"startlinecolor\": \"#2a3f5f\"}, \"type\": \"carpet\"}], \"choropleth\": [{\"colorbar\": {\"outlinewidth\": 0, \"ticks\": \"\"}, \"type\": \"choropleth\"}], \"contour\": [{\"colorbar\": {\"outlinewidth\": 0, \"ticks\": \"\"}, \"colorscale\": [[0.0, \"#0d0887\"], [0.1111111111111111, \"#46039f\"], [0.2222222222222222, \"#7201a8\"], [0.3333333333333333, \"#9c179e\"], [0.4444444444444444, \"#bd3786\"], [0.5555555555555556, \"#d8576b\"], [0.6666666666666666, \"#ed7953\"], [0.7777777777777778, \"#fb9f3a\"], [0.8888888888888888, \"#fdca26\"], [1.0, \"#f0f921\"]], \"type\": \"contour\"}], \"contourcarpet\": [{\"colorbar\": {\"outlinewidth\": 0, \"ticks\": \"\"}, \"type\": \"contourcarpet\"}], \"heatmap\": [{\"colorbar\": {\"outlinewidth\": 0, \"ticks\": \"\"}, \"colorscale\": [[0.0, \"#0d0887\"], [0.1111111111111111, \"#46039f\"], [0.2222222222222222, \"#7201a8\"], [0.3333333333333333, \"#9c179e\"], [0.4444444444444444, \"#bd3786\"], [0.5555555555555556, \"#d8576b\"], [0.6666666666666666, \"#ed7953\"], [0.7777777777777778, \"#fb9f3a\"], [0.8888888888888888, \"#fdca26\"], [1.0, \"#f0f921\"]], \"type\": \"heatmap\"}], \"heatmapgl\": [{\"colorbar\": {\"outlinewidth\": 0, \"ticks\": \"\"}, \"colorscale\": [[0.0, \"#0d0887\"], [0.1111111111111111, \"#46039f\"], [0.2222222222222222, \"#7201a8\"], [0.3333333333333333, \"#9c179e\"], [0.4444444444444444, \"#bd3786\"], [0.5555555555555556, \"#d8576b\"], [0.6666666666666666, \"#ed7953\"], [0.7777777777777778, \"#fb9f3a\"], [0.8888888888888888, \"#fdca26\"], [1.0, \"#f0f921\"]], \"type\": \"heatmapgl\"}], \"histogram\": [{\"marker\": {\"colorbar\": {\"outlinewidth\": 0, \"ticks\": \"\"}}, \"type\": \"histogram\"}], \"histogram2d\": [{\"colorbar\": {\"outlinewidth\": 0, \"ticks\": \"\"}, \"colorscale\": [[0.0, \"#0d0887\"], [0.1111111111111111, \"#46039f\"], [0.2222222222222222, \"#7201a8\"], [0.3333333333333333, \"#9c179e\"], [0.4444444444444444, \"#bd3786\"], [0.5555555555555556, \"#d8576b\"], [0.6666666666666666, \"#ed7953\"], [0.7777777777777778, \"#fb9f3a\"], [0.8888888888888888, \"#fdca26\"], [1.0, \"#f0f921\"]], \"type\": \"histogram2d\"}], \"histogram2dcontour\": [{\"colorbar\": {\"outlinewidth\": 0, \"ticks\": \"\"}, \"colorscale\": [[0.0, \"#0d0887\"], [0.1111111111111111, \"#46039f\"], [0.2222222222222222, \"#7201a8\"], [0.3333333333333333, \"#9c179e\"], [0.4444444444444444, \"#bd3786\"], [0.5555555555555556, \"#d8576b\"], [0.6666666666666666, \"#ed7953\"], [0.7777777777777778, \"#fb9f3a\"], [0.8888888888888888, \"#fdca26\"], [1.0, \"#f0f921\"]], \"type\": \"histogram2dcontour\"}], \"mesh3d\": [{\"colorbar\": {\"outlinewidth\": 0, \"ticks\": \"\"}, \"type\": \"mesh3d\"}], \"parcoords\": [{\"line\": {\"colorbar\": {\"outlinewidth\": 0, \"ticks\": \"\"}}, \"type\": \"parcoords\"}], \"pie\": [{\"automargin\": true, \"type\": \"pie\"}], \"scatter\": [{\"marker\": {\"colorbar\": {\"outlinewidth\": 0, \"ticks\": \"\"}}, \"type\": \"scatter\"}], \"scatter3d\": [{\"line\": {\"colorbar\": {\"outlinewidth\": 0, \"ticks\": \"\"}}, \"marker\": {\"colorbar\": {\"outlinewidth\": 0, \"ticks\": \"\"}}, \"type\": \"scatter3d\"}], \"scattercarpet\": [{\"marker\": {\"colorbar\": {\"outlinewidth\": 0, \"ticks\": \"\"}}, \"type\": \"scattercarpet\"}], \"scattergeo\": [{\"marker\": {\"colorbar\": {\"outlinewidth\": 0, \"ticks\": \"\"}}, \"type\": \"scattergeo\"}], \"scattergl\": [{\"marker\": {\"colorbar\": {\"outlinewidth\": 0, \"ticks\": \"\"}}, \"type\": \"scattergl\"}], \"scattermapbox\": [{\"marker\": {\"colorbar\": {\"outlinewidth\": 0, \"ticks\": \"\"}}, \"type\": \"scattermapbox\"}], \"scatterpolar\": [{\"marker\": {\"colorbar\": {\"outlinewidth\": 0, \"ticks\": \"\"}}, \"type\": \"scatterpolar\"}], \"scatterpolargl\": [{\"marker\": {\"colorbar\": {\"outlinewidth\": 0, \"ticks\": \"\"}}, \"type\": \"scatterpolargl\"}], \"scatterternary\": [{\"marker\": {\"colorbar\": {\"outlinewidth\": 0, \"ticks\": \"\"}}, \"type\": \"scatterternary\"}], \"surface\": [{\"colorbar\": {\"outlinewidth\": 0, \"ticks\": \"\"}, \"colorscale\": [[0.0, \"#0d0887\"], [0.1111111111111111, \"#46039f\"], [0.2222222222222222, \"#7201a8\"], [0.3333333333333333, \"#9c179e\"], [0.4444444444444444, \"#bd3786\"], [0.5555555555555556, \"#d8576b\"], [0.6666666666666666, \"#ed7953\"], [0.7777777777777778, \"#fb9f3a\"], [0.8888888888888888, \"#fdca26\"], [1.0, \"#f0f921\"]], \"type\": \"surface\"}], \"table\": [{\"cells\": {\"fill\": {\"color\": \"#EBF0F8\"}, \"line\": {\"color\": \"white\"}}, \"header\": {\"fill\": {\"color\": \"#C8D4E3\"}, \"line\": {\"color\": \"white\"}}, \"type\": \"table\"}]}, \"layout\": {\"annotationdefaults\": {\"arrowcolor\": \"#2a3f5f\", \"arrowhead\": 0, \"arrowwidth\": 1}, \"coloraxis\": {\"colorbar\": {\"outlinewidth\": 0, \"ticks\": \"\"}}, \"colorscale\": {\"diverging\": [[0, \"#8e0152\"], [0.1, \"#c51b7d\"], [0.2, \"#de77ae\"], [0.3, \"#f1b6da\"], [0.4, \"#fde0ef\"], [0.5, \"#f7f7f7\"], [0.6, \"#e6f5d0\"], [0.7, \"#b8e186\"], [0.8, \"#7fbc41\"], [0.9, \"#4d9221\"], [1, \"#276419\"]], \"sequential\": [[0.0, \"#0d0887\"], [0.1111111111111111, \"#46039f\"], [0.2222222222222222, \"#7201a8\"], [0.3333333333333333, \"#9c179e\"], [0.4444444444444444, \"#bd3786\"], [0.5555555555555556, \"#d8576b\"], [0.6666666666666666, \"#ed7953\"], [0.7777777777777778, \"#fb9f3a\"], [0.8888888888888888, \"#fdca26\"], [1.0, \"#f0f921\"]], \"sequentialminus\": [[0.0, \"#0d0887\"], [0.1111111111111111, \"#46039f\"], [0.2222222222222222, \"#7201a8\"], [0.3333333333333333, \"#9c179e\"], [0.4444444444444444, \"#bd3786\"], [0.5555555555555556, \"#d8576b\"], [0.6666666666666666, \"#ed7953\"], [0.7777777777777778, \"#fb9f3a\"], [0.8888888888888888, \"#fdca26\"], [1.0, \"#f0f921\"]]}, \"colorway\": [\"#636efa\", \"#EF553B\", \"#00cc96\", \"#ab63fa\", \"#FFA15A\", \"#19d3f3\", \"#FF6692\", \"#B6E880\", \"#FF97FF\", \"#FECB52\"], \"font\": {\"color\": \"#2a3f5f\"}, \"geo\": {\"bgcolor\": \"white\", \"lakecolor\": \"white\", \"landcolor\": \"#E5ECF6\", \"showlakes\": true, \"showland\": true, \"subunitcolor\": \"white\"}, \"hoverlabel\": {\"align\": \"left\"}, \"hovermode\": \"closest\", \"mapbox\": {\"style\": \"light\"}, \"paper_bgcolor\": \"white\", \"plot_bgcolor\": \"#E5ECF6\", \"polar\": {\"angularaxis\": {\"gridcolor\": \"white\", \"linecolor\": \"white\", \"ticks\": \"\"}, \"bgcolor\": \"#E5ECF6\", \"radialaxis\": {\"gridcolor\": \"white\", \"linecolor\": \"white\", \"ticks\": \"\"}}, \"scene\": {\"xaxis\": {\"backgroundcolor\": \"#E5ECF6\", \"gridcolor\": \"white\", \"gridwidth\": 2, \"linecolor\": \"white\", \"showbackground\": true, \"ticks\": \"\", \"zerolinecolor\": \"white\"}, \"yaxis\": {\"backgroundcolor\": \"#E5ECF6\", \"gridcolor\": \"white\", \"gridwidth\": 2, \"linecolor\": \"white\", \"showbackground\": true, \"ticks\": \"\", \"zerolinecolor\": \"white\"}, \"zaxis\": {\"backgroundcolor\": \"#E5ECF6\", \"gridcolor\": \"white\", \"gridwidth\": 2, \"linecolor\": \"white\", \"showbackground\": true, \"ticks\": \"\", \"zerolinecolor\": \"white\"}}, \"shapedefaults\": {\"line\": {\"color\": \"#2a3f5f\"}}, \"ternary\": {\"aaxis\": {\"gridcolor\": \"white\", \"linecolor\": \"white\", \"ticks\": \"\"}, \"baxis\": {\"gridcolor\": \"white\", \"linecolor\": \"white\", \"ticks\": \"\"}, \"bgcolor\": \"#E5ECF6\", \"caxis\": {\"gridcolor\": \"white\", \"linecolor\": \"white\", \"ticks\": \"\"}}, \"title\": {\"x\": 0.05}, \"xaxis\": {\"automargin\": true, \"gridcolor\": \"white\", \"linecolor\": \"white\", \"ticks\": \"\", \"title\": {\"standoff\": 15}, \"zerolinecolor\": \"white\", \"zerolinewidth\": 2}, \"yaxis\": {\"automargin\": true, \"gridcolor\": \"white\", \"linecolor\": \"white\", \"ticks\": \"\", \"title\": {\"standoff\": 15}, \"zerolinecolor\": \"white\", \"zerolinewidth\": 2}}}, \"title\": {\"text\": \"Dictribution of sqkm over clusters in Ethiopia\"}, \"xaxis\": {\"anchor\": \"y\", \"domain\": [0.0, 1.0], \"title\": {\"text\": \"index\"}}, \"yaxis\": {\"anchor\": \"x\", \"domain\": [0.0, 1.0], \"title\": {\"text\": \"value\"}}},                        {\"responsive\": true}                    ).then(function(){\n",
       "                            \n",
       "var gd = document.getElementById('b874447b-d268-41dc-9e6a-3094983a84a8');\n",
       "var x = new MutationObserver(function (mutations, observer) {{\n",
       "        var display = window.getComputedStyle(gd).display;\n",
       "        if (!display || display === 'none') {{\n",
       "            console.log([gd, 'removed!']);\n",
       "            Plotly.purge(gd);\n",
       "            observer.disconnect();\n",
       "        }}\n",
       "}});\n",
       "\n",
       "// Listen for the removal of the full notebook cells\n",
       "var notebookContainer = gd.closest('#notebook-container');\n",
       "if (notebookContainer) {{\n",
       "    x.observe(notebookContainer, {childList: true});\n",
       "}}\n",
       "\n",
       "// Listen for the clearing of the current output cell\n",
       "var outputEl = gd.closest('.output');\n",
       "if (outputEl) {{\n",
       "    x.observe(outputEl, {childList: true});\n",
       "}}\n",
       "\n",
       "                        })                };                });            </script>        </div>"
      ]
     },
     "metadata": {},
     "output_type": "display_data"
    }
   ],
   "source": [
    "# Create a dictionary that includes the name of the clusters and a selected parameter\n",
    "clust_dict = dict.fromkeys(clust_names, 1)\n",
    "\n",
    "# Update the values based on parameter\n",
    "parameter = \"sqkm\"                        # This is the column you want to include in the graph\n",
    "\n",
    "for key, value in clust_dict.items():\n",
    "    clust_dict[key] = round(clusters.get_group(key)[parameter].sum(),2)   # Note that this calculates the sum, change if needed\n",
    "\n",
    "fig_Cluster = px.bar(pd.DataFrame.from_dict(clust_dict, orient='index', columns=['Sum']), title=\"Dictribution of {} over clusters in Ethiopia\".format(parameter))\n",
    "fig_Cluster.show()"
   ]
  },
  {
   "cell_type": "code",
   "execution_count": 51,
   "metadata": {},
   "outputs": [],
   "source": [
    "fig_Cluster.write_html(\"Total area (sqkm) per cluster.html\")"
   ]
  },
  {
   "cell_type": "markdown",
   "metadata": {},
   "source": [
    "### Export data - tables - summary - graphs as needed"
   ]
  },
  {
   "cell_type": "code",
   "execution_count": 22,
   "metadata": {},
   "outputs": [],
   "source": [
    "#data_gdf_clusters.to_csv(\"testFun.csv\")"
   ]
  },
  {
   "cell_type": "code",
   "execution_count": null,
   "metadata": {},
   "outputs": [],
   "source": []
  }
 ],
 "metadata": {
  "kernelspec": {
   "display_name": "Python 3",
   "language": "python",
   "name": "python3"
  },
  "language_info": {
   "codemirror_mode": {
    "name": "ipython",
    "version": 3
   },
   "file_extension": ".py",
   "mimetype": "text/x-python",
   "name": "python",
   "nbconvert_exporter": "python",
   "pygments_lexer": "ipython3",
   "version": "3.8.5"
  }
 },
 "nbformat": 4,
 "nbformat_minor": 4
}
